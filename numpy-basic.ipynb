{
 "cells": [
  {
   "cell_type": "code",
   "execution_count": 1,
   "id": "daf782a0-dae6-44e6-84b1-8cc2fa505f82",
   "metadata": {},
   "outputs": [],
   "source": [
    "import numpy as np"
   ]
  },
  {
   "cell_type": "code",
   "execution_count": 2,
   "id": "23ea7c81-7506-412e-aed8-5a301ae8449b",
   "metadata": {},
   "outputs": [
    {
     "data": {
      "text/plain": [
       "array(['1', 'a', 'True'], dtype='<U11')"
      ]
     },
     "execution_count": 2,
     "metadata": {},
     "output_type": "execute_result"
    }
   ],
   "source": [
    "arr = np.array([1,'a',True])\n",
    "arr"
   ]
  },
  {
   "cell_type": "code",
   "execution_count": 3,
   "id": "63eaaf10-f577-4448-8fec-44f79090e92e",
   "metadata": {},
   "outputs": [
    {
     "name": "stdout",
     "output_type": "stream",
     "text": [
      "<class 'numpy.str_'>\n",
      "<class 'numpy.str_'>\n",
      "<class 'numpy.str_'>\n"
     ]
    }
   ],
   "source": [
    "for ele in arr:\n",
    "    print(type(ele))"
   ]
  },
  {
   "cell_type": "code",
   "execution_count": 4,
   "id": "ddb0835a-848c-458b-8365-e594db0fa16a",
   "metadata": {},
   "outputs": [
    {
     "data": {
      "text/plain": [
       "array([[1, 2],\n",
       "       [3, 4]])"
      ]
     },
     "execution_count": 4,
     "metadata": {},
     "output_type": "execute_result"
    }
   ],
   "source": [
    "arr = np.array([[1,2],[3,4]])\n",
    "arr"
   ]
  },
  {
   "cell_type": "code",
   "execution_count": 5,
   "id": "87d431d0-28c0-472b-9cbe-d0a62843f982",
   "metadata": {},
   "outputs": [
    {
     "data": {
      "text/plain": [
       "array([1, 2])"
      ]
     },
     "execution_count": 5,
     "metadata": {},
     "output_type": "execute_result"
    }
   ],
   "source": [
    "arr[0]"
   ]
  },
  {
   "cell_type": "code",
   "execution_count": 6,
   "id": "f08bb2a6-db1c-43cb-8ef1-73a2acc89387",
   "metadata": {},
   "outputs": [
    {
     "data": {
      "text/plain": [
       "4"
      ]
     },
     "execution_count": 6,
     "metadata": {},
     "output_type": "execute_result"
    }
   ],
   "source": [
    "arr[-1][-1]"
   ]
  },
  {
   "cell_type": "code",
   "execution_count": 7,
   "id": "58e7692c-023a-462e-aa51-44d3fc6f8930",
   "metadata": {},
   "outputs": [
    {
     "data": {
      "text/plain": [
       "array([[1, 2, 3],\n",
       "       [4, 5, 6]])"
      ]
     },
     "execution_count": 7,
     "metadata": {},
     "output_type": "execute_result"
    }
   ],
   "source": [
    "arr = np.array([[1,2,3],[4,5,6]])\n",
    "arr"
   ]
  },
  {
   "cell_type": "code",
   "execution_count": 8,
   "id": "f4250296-f220-493f-a264-c3cb2179f8de",
   "metadata": {},
   "outputs": [
    {
     "data": {
      "text/plain": [
       "(2, 3)"
      ]
     },
     "execution_count": 8,
     "metadata": {},
     "output_type": "execute_result"
    }
   ],
   "source": [
    " arr.shape"
   ]
  },
  {
   "cell_type": "code",
   "execution_count": 9,
   "id": "4d4fc7f4-c358-4829-9ac8-e824db34c824",
   "metadata": {},
   "outputs": [
    {
     "data": {
      "text/plain": [
       "dtype('int32')"
      ]
     },
     "execution_count": 9,
     "metadata": {},
     "output_type": "execute_result"
    }
   ],
   "source": [
    "arr.dtype"
   ]
  },
  {
   "cell_type": "code",
   "execution_count": 10,
   "id": "f079d4cc-eec0-4450-b3a6-77e32c27f79e",
   "metadata": {},
   "outputs": [
    {
     "data": {
      "text/plain": [
       "array([1, 2, 3, 4], dtype=int8)"
      ]
     },
     "execution_count": 10,
     "metadata": {},
     "output_type": "execute_result"
    }
   ],
   "source": [
    "arr = np.array([1,2,3,4], dtype='int8')\n",
    "arr"
   ]
  },
  {
   "cell_type": "code",
   "execution_count": 11,
   "id": "5cc61875-c5b8-4068-8b84-c6313cc6b2b4",
   "metadata": {},
   "outputs": [
    {
     "data": {
      "text/plain": [
       "array([0., 0., 0., 0., 0.])"
      ]
     },
     "execution_count": 11,
     "metadata": {},
     "output_type": "execute_result"
    }
   ],
   "source": [
    "zeros = np.zeros(5)\n",
    "zeros"
   ]
  },
  {
   "cell_type": "code",
   "execution_count": 12,
   "id": "5eb2e128-f03b-4bc2-9025-3c0257414fc9",
   "metadata": {},
   "outputs": [
    {
     "data": {
      "text/plain": [
       "array([[1., 1., 1.],\n",
       "       [1., 1., 1.],\n",
       "       [1., 1., 1.],\n",
       "       [1., 1., 1.]])"
      ]
     },
     "execution_count": 12,
     "metadata": {},
     "output_type": "execute_result"
    }
   ],
   "source": [
    "ones = np.ones([4,3])\n",
    "ones"
   ]
  },
  {
   "cell_type": "code",
   "execution_count": 13,
   "id": "2aea2b24-9263-4164-acc4-76bf05d446ff",
   "metadata": {},
   "outputs": [
    {
     "data": {
      "text/plain": [
       "array([0., 0., 0., 0., 0.])"
      ]
     },
     "execution_count": 13,
     "metadata": {},
     "output_type": "execute_result"
    }
   ],
   "source": [
    "empty = np.empty(5)\n",
    "empty"
   ]
  },
  {
   "cell_type": "code",
   "execution_count": 14,
   "id": "c6dbd63d-fd5d-40b9-8e53-a32707ed9266",
   "metadata": {},
   "outputs": [
    {
     "data": {
      "text/plain": [
       "array([0, 1, 2, 3, 4, 5])"
      ]
     },
     "execution_count": 14,
     "metadata": {},
     "output_type": "execute_result"
    }
   ],
   "source": [
    "myrange = np.arange(6)\n",
    "myrange"
   ]
  },
  {
   "cell_type": "code",
   "execution_count": 15,
   "id": "887f96e0-adea-4247-a151-d3127f24c933",
   "metadata": {},
   "outputs": [
    {
     "data": {
      "text/plain": [
       "array([2, 4, 6, 8])"
      ]
     },
     "execution_count": 15,
     "metadata": {},
     "output_type": "execute_result"
    }
   ],
   "source": [
    "arr = np.arange(2,10,2)\n",
    "arr"
   ]
  },
  {
   "cell_type": "code",
   "execution_count": 16,
   "id": "f9f5df34-d79a-4745-ba80-afa43512f107",
   "metadata": {},
   "outputs": [
    {
     "data": {
      "text/plain": [
       "array([ 0. ,  2.5,  5. ,  7.5, 10. ])"
      ]
     },
     "execution_count": 16,
     "metadata": {},
     "output_type": "execute_result"
    }
   ],
   "source": [
    "arr = np.linspace(0,10, num=5)\n",
    "arr"
   ]
  },
  {
   "cell_type": "code",
   "execution_count": 17,
   "id": "ac2feaf8-c946-479f-bf40-a4728970b367",
   "metadata": {},
   "outputs": [
    {
     "data": {
      "text/plain": [
       "array([ 1,  4,  5,  6,  7,  9, 23, 54, 67, 78, 86])"
      ]
     },
     "execution_count": 17,
     "metadata": {},
     "output_type": "execute_result"
    }
   ],
   "source": [
    "np.sort([7,86,5,54,6,4,78,67,1,9,23])"
   ]
  },
  {
   "cell_type": "code",
   "execution_count": 18,
   "id": "772ecdd8-4f23-4495-b4be-7c829989e0af",
   "metadata": {},
   "outputs": [
    {
     "data": {
      "text/plain": [
       "array([5, 6, 7, 8, 1, 2, 3, 4])"
      ]
     },
     "execution_count": 18,
     "metadata": {},
     "output_type": "execute_result"
    }
   ],
   "source": [
    "arr_a = np.array([5,6,7,8])\n",
    "arr_b = np.array([1,2,3,4])\n",
    "np.concatenate((arr_a,arr_b))"
   ]
  },
  {
   "cell_type": "code",
   "execution_count": 19,
   "id": "a16a2bf0-00c7-4584-bfb4-38979bad0f41",
   "metadata": {},
   "outputs": [
    {
     "data": {
      "text/plain": [
       "array([[1, 2, 5, 6],\n",
       "       [3, 4, 7, 8]])"
      ]
     },
     "execution_count": 19,
     "metadata": {},
     "output_type": "execute_result"
    }
   ],
   "source": [
    "arr_a = np.array([[1,2],[3,4]])\n",
    "arr_b = np.array([[5,6],[7,8]])\n",
    "#arr_c = np.array([[9,10],[11,12]])\n",
    "np.concatenate((arr_a, arr_b), axis=1)"
   ]
  },
  {
   "cell_type": "code",
   "execution_count": 20,
   "id": "dc79d7ca-68c2-43c9-8762-9ec90f3fe65b",
   "metadata": {},
   "outputs": [
    {
     "data": {
      "text/plain": [
       "2"
      ]
     },
     "execution_count": 20,
     "metadata": {},
     "output_type": "execute_result"
    }
   ],
   "source": [
    "arr_b.ndim"
   ]
  },
  {
   "cell_type": "code",
   "execution_count": 21,
   "id": "602f57fc-df44-4117-a159-8ac08c3eafee",
   "metadata": {},
   "outputs": [
    {
     "data": {
      "text/plain": [
       "3"
      ]
     },
     "execution_count": 21,
     "metadata": {},
     "output_type": "execute_result"
    }
   ],
   "source": [
    "ones = np.ones((3,2,3))\n",
    "ones.ndim"
   ]
  },
  {
   "cell_type": "code",
   "execution_count": 22,
   "id": "ce753407-decc-46a1-b5a7-aa38ac52304d",
   "metadata": {},
   "outputs": [
    {
     "data": {
      "text/plain": [
       "18"
      ]
     },
     "execution_count": 22,
     "metadata": {},
     "output_type": "execute_result"
    }
   ],
   "source": [
    "ones.size"
   ]
  },
  {
   "cell_type": "code",
   "execution_count": 23,
   "id": "d19d362d-1be4-4f0b-89dd-8aa1a0c0312e",
   "metadata": {},
   "outputs": [
    {
     "data": {
      "text/plain": [
       "(3, 2, 3)"
      ]
     },
     "execution_count": 23,
     "metadata": {},
     "output_type": "execute_result"
    }
   ],
   "source": [
    "ones.shape"
   ]
  },
  {
   "cell_type": "code",
   "execution_count": 24,
   "id": "517264aa-75ae-442d-a505-1e40491dc02d",
   "metadata": {},
   "outputs": [
    {
     "data": {
      "text/plain": [
       "array(['a', 'b', 'c', 'd', 'e', 'f'], dtype='<U1')"
      ]
     },
     "execution_count": 24,
     "metadata": {},
     "output_type": "execute_result"
    }
   ],
   "source": [
    "arr = np.array(['a','b','c','d','e','f'])\n",
    "arr"
   ]
  },
  {
   "cell_type": "code",
   "execution_count": 25,
   "id": "c2f9d048-3c52-43fc-9ae7-0a53c4cc167d",
   "metadata": {},
   "outputs": [
    {
     "data": {
      "text/plain": [
       "array([['a', 'b'],\n",
       "       ['c', 'd'],\n",
       "       ['e', 'f']], dtype='<U1')"
      ]
     },
     "execution_count": 25,
     "metadata": {},
     "output_type": "execute_result"
    }
   ],
   "source": [
    "arr.reshape(3,2)"
   ]
  },
  {
   "cell_type": "code",
   "execution_count": 26,
   "id": "6501c3d2-eea8-4a24-993b-dcff02ffee7e",
   "metadata": {},
   "outputs": [
    {
     "data": {
      "text/plain": [
       "array([['a', 'b', 'c'],\n",
       "       ['d', 'e', 'f']], dtype='<U1')"
      ]
     },
     "execution_count": 26,
     "metadata": {},
     "output_type": "execute_result"
    }
   ],
   "source": [
    "arr.reshape(2,3)"
   ]
  },
  {
   "cell_type": "code",
   "execution_count": 27,
   "id": "89f46d04-42e6-4076-9c47-81ac6748a87f",
   "metadata": {},
   "outputs": [
    {
     "data": {
      "text/plain": [
       "array([[['a', 'b'],\n",
       "        ['c', 'd'],\n",
       "        ['e', 'f']]], dtype='<U1')"
      ]
     },
     "execution_count": 27,
     "metadata": {},
     "output_type": "execute_result"
    }
   ],
   "source": [
    "# also by passing np.reshape()\n",
    "np.reshape(arr, newshape=(1,3,2))"
   ]
  },
  {
   "cell_type": "code",
   "execution_count": 28,
   "id": "68995669-b33b-4fda-bd00-448e7324d992",
   "metadata": {},
   "outputs": [
    {
     "data": {
      "text/plain": [
       "array([1, 2, 3, 4, 5, 6])"
      ]
     },
     "execution_count": 28,
     "metadata": {},
     "output_type": "execute_result"
    }
   ],
   "source": [
    "arr = np.array([1, 2, 3, 4, 5, 6])\n",
    "arr"
   ]
  },
  {
   "cell_type": "code",
   "execution_count": 29,
   "id": "0d678553-1363-4825-93fa-9d68ac8f7acc",
   "metadata": {},
   "outputs": [
    {
     "data": {
      "text/plain": [
       "(6,)"
      ]
     },
     "execution_count": 29,
     "metadata": {},
     "output_type": "execute_result"
    }
   ],
   "source": [
    "arr.shape"
   ]
  },
  {
   "cell_type": "code",
   "execution_count": 30,
   "id": "11601df9-8ba4-4e2e-9726-c2b4fc61abfc",
   "metadata": {},
   "outputs": [
    {
     "data": {
      "text/plain": [
       "array([1, 2, 3, 4, 5, 6])"
      ]
     },
     "execution_count": 30,
     "metadata": {},
     "output_type": "execute_result"
    }
   ],
   "source": [
    "arr2 = arr[np.newaxis, :]\n",
    "arr"
   ]
  },
  {
   "cell_type": "code",
   "execution_count": 31,
   "id": "40d99628-55ba-41d6-ab43-0ee8a8b1b1d4",
   "metadata": {},
   "outputs": [
    {
     "data": {
      "text/plain": [
       "(1, 6)"
      ]
     },
     "execution_count": 31,
     "metadata": {},
     "output_type": "execute_result"
    }
   ],
   "source": [
    "arr2.shape"
   ]
  },
  {
   "cell_type": "code",
   "execution_count": 32,
   "id": "40d8460b-a4cb-468f-bab1-75fb3f01dd39",
   "metadata": {},
   "outputs": [
    {
     "data": {
      "text/plain": [
       "array([[1],\n",
       "       [2],\n",
       "       [3],\n",
       "       [4],\n",
       "       [5],\n",
       "       [6]])"
      ]
     },
     "execution_count": 32,
     "metadata": {},
     "output_type": "execute_result"
    }
   ],
   "source": [
    "arr3 = arr[:, np.newaxis]\n",
    "arr3"
   ]
  },
  {
   "cell_type": "code",
   "execution_count": 37,
   "id": "30dbf08d-d93f-4708-87ca-43dd365ca03d",
   "metadata": {},
   "outputs": [
    {
     "data": {
      "text/plain": [
       "(6, 1)"
      ]
     },
     "execution_count": 37,
     "metadata": {},
     "output_type": "execute_result"
    }
   ],
   "source": [
    "arr3.shape"
   ]
  },
  {
   "cell_type": "code",
   "execution_count": 34,
   "id": "db6fe140-06f3-45dd-9d99-74780e177a7a",
   "metadata": {},
   "outputs": [
    {
     "data": {
      "text/plain": [
       "array([[1, 2, 3, 4, 5, 6]])"
      ]
     },
     "execution_count": 34,
     "metadata": {},
     "output_type": "execute_result"
    }
   ],
   "source": [
    "arr_4 = np.expand_dims(arr, axis=0)\n",
    "arr_4"
   ]
  },
  {
   "cell_type": "code",
   "execution_count": 35,
   "id": "0bd5f7fa-1d38-4ce9-9bda-d298fce6502c",
   "metadata": {},
   "outputs": [
    {
     "data": {
      "text/plain": [
       "array([[1],\n",
       "       [2],\n",
       "       [3],\n",
       "       [4],\n",
       "       [5],\n",
       "       [6]])"
      ]
     },
     "execution_count": 35,
     "metadata": {},
     "output_type": "execute_result"
    }
   ],
   "source": [
    "arr_5 = np.expand_dims(arr, axis=1)\n",
    "arr_5"
   ]
  },
  {
   "cell_type": "code",
   "execution_count": 39,
   "id": "6c35810b-58dd-4d19-90fc-c2a4514b155a",
   "metadata": {},
   "outputs": [
    {
     "data": {
      "text/plain": [
       "(1, 6)"
      ]
     },
     "execution_count": 39,
     "metadata": {},
     "output_type": "execute_result"
    }
   ],
   "source": [
    "arr_4.shape"
   ]
  },
  {
   "cell_type": "raw",
   "id": "ed9c3b41-a840-41e5-9fd0-1f68295661aa",
   "metadata": {},
   "source": [
    "arr_5.shape"
   ]
  },
  {
   "cell_type": "code",
   "execution_count": 43,
   "id": "c85240fb-a2c8-43ff-bb8f-d2d60d15cb61",
   "metadata": {},
   "outputs": [
    {
     "data": {
      "text/plain": [
       "array([0, 1, 2, 3, 4, 5, 6, 7, 8, 9])"
      ]
     },
     "execution_count": 43,
     "metadata": {},
     "output_type": "execute_result"
    }
   ],
   "source": [
    "arr= np.arange(10)\n",
    "arr"
   ]
  },
  {
   "cell_type": "code",
   "execution_count": 44,
   "id": "af86853a-9ab7-4135-aae2-137807658916",
   "metadata": {},
   "outputs": [
    {
     "data": {
      "text/plain": [
       "array([9, 8, 7, 6, 5, 4, 3, 2, 1, 0])"
      ]
     },
     "execution_count": 44,
     "metadata": {},
     "output_type": "execute_result"
    }
   ],
   "source": [
    "arr[::-1]"
   ]
  },
  {
   "cell_type": "code",
   "execution_count": 45,
   "id": "2f281aed-b43e-4e9d-89a8-e077cd85bccc",
   "metadata": {},
   "outputs": [
    {
     "data": {
      "text/plain": [
       "array([6, 7, 8, 9])"
      ]
     },
     "execution_count": 45,
     "metadata": {},
     "output_type": "execute_result"
    }
   ],
   "source": [
    "arr[arr > 5] #pass condition inside "
   ]
  },
  {
   "cell_type": "code",
   "execution_count": 47,
   "id": "97903f59-a80b-4487-a750-e08ae22e8e36",
   "metadata": {},
   "outputs": [
    {
     "data": {
      "text/plain": [
       "array([0, 2, 4, 6, 8])"
      ]
     },
     "execution_count": 47,
     "metadata": {},
     "output_type": "execute_result"
    }
   ],
   "source": [
    "even_no = arr[arr  % 2 == 0]\n",
    "arr[even_no]"
   ]
  },
  {
   "cell_type": "code",
   "execution_count": 48,
   "id": "0de9e2e0-25c0-4c54-a884-11dcc3434219",
   "metadata": {},
   "outputs": [
    {
     "data": {
      "text/plain": [
       "array([False, False,  True, False,  True, False,  True, False,  True,\n",
       "       False])"
      ]
     },
     "execution_count": 48,
     "metadata": {},
     "output_type": "execute_result"
    }
   ],
   "source": [
    "even = (arr % 2 == 0) & (arr != 0)\n",
    "even"
   ]
  },
  {
   "cell_type": "code",
   "execution_count": 49,
   "id": "40c0c0e2-1893-4e63-9215-c71fd7e481c2",
   "metadata": {},
   "outputs": [
    {
     "data": {
      "text/plain": [
       "array([2, 4, 6, 8])"
      ]
     },
     "execution_count": 49,
     "metadata": {},
     "output_type": "execute_result"
    }
   ],
   "source": [
    "arr[even]"
   ]
  },
  {
   "cell_type": "code",
   "execution_count": 51,
   "id": "5aee2bab-f853-4d9d-8c0b-8dac2d3d2ba6",
   "metadata": {},
   "outputs": [
    {
     "data": {
      "text/plain": [
       "array([[1, 2, 3, 4],\n",
       "       [5, 6, 7, 8],\n",
       "       [9, 0, 1, 3]])"
      ]
     },
     "execution_count": 51,
     "metadata": {},
     "output_type": "execute_result"
    }
   ],
   "source": [
    "arr = np.array([[1,2,3,4], [5,6,7,8], [9,0,1,3]])\n",
    "arr"
   ]
  },
  {
   "cell_type": "code",
   "execution_count": 53,
   "id": "536ace1b-e675-4bbb-b2aa-c0d9ba0863b1",
   "metadata": {},
   "outputs": [
    {
     "data": {
      "text/plain": [
       "(array([0, 1, 1, 1, 1, 2], dtype=int64),\n",
       " array([3, 0, 1, 2, 3, 0], dtype=int64))"
      ]
     },
     "execution_count": 53,
     "metadata": {},
     "output_type": "execute_result"
    }
   ],
   "source": [
    "mask = np.nonzero(arr > 3)\n",
    "mask"
   ]
  },
  {
   "cell_type": "code",
   "execution_count": 54,
   "id": "a94c9fda-6d46-45b7-ae65-795131cb9f6a",
   "metadata": {},
   "outputs": [
    {
     "data": {
      "text/plain": [
       "array([4, 5, 6, 7, 8, 9])"
      ]
     },
     "execution_count": 54,
     "metadata": {},
     "output_type": "execute_result"
    }
   ],
   "source": [
    "arr[mask]"
   ]
  },
  {
   "cell_type": "code",
   "execution_count": 55,
   "id": "9b4a9de0-81b1-4a2a-8536-1d7b61a6e5a4",
   "metadata": {},
   "outputs": [],
   "source": [
    "arr1 = [[1,1],[3,3]]\n",
    "arr2 = [[2,2],[4,4]]\n"
   ]
  },
  {
   "cell_type": "code",
   "execution_count": 57,
   "id": "0c68e152-b875-4bdb-8fe8-5e56e79b6210",
   "metadata": {},
   "outputs": [
    {
     "data": {
      "text/plain": [
       "array([[1, 1, 2, 2],\n",
       "       [3, 3, 4, 4]])"
      ]
     },
     "execution_count": 57,
     "metadata": {},
     "output_type": "execute_result"
    }
   ],
   "source": [
    "np.hstack((arr1,arr2))"
   ]
  },
  {
   "cell_type": "code",
   "execution_count": 59,
   "id": "2bcd9445-f355-4e3c-bf38-7952fabf1a2f",
   "metadata": {},
   "outputs": [
    {
     "data": {
      "text/plain": [
       "array([[1, 1],\n",
       "       [3, 3],\n",
       "       [2, 2],\n",
       "       [4, 4]])"
      ]
     },
     "execution_count": 59,
     "metadata": {},
     "output_type": "execute_result"
    }
   ],
   "source": [
    "np.vstack((arr1,arr2))"
   ]
  },
  {
   "cell_type": "code",
   "execution_count": 60,
   "id": "1f007b8c-bea2-4c57-a735-504f64251b91",
   "metadata": {},
   "outputs": [
    {
     "data": {
      "text/plain": [
       "array([[ 1,  2,  3,  4,  5,  6],\n",
       "       [ 7,  8,  9, 10, 11, 12]])"
      ]
     },
     "execution_count": 60,
     "metadata": {},
     "output_type": "execute_result"
    }
   ],
   "source": [
    "arr = np.arange(1,13).reshape(2,6)\n",
    "arr"
   ]
  },
  {
   "cell_type": "code",
   "execution_count": 61,
   "id": "582f4deb-6951-40b2-b6f4-5a060bdff774",
   "metadata": {},
   "outputs": [
    {
     "data": {
      "text/plain": [
       "[array([[1, 2],\n",
       "        [7, 8]]),\n",
       " array([[ 3,  4],\n",
       "        [ 9, 10]]),\n",
       " array([[ 5,  6],\n",
       "        [11, 12]])]"
      ]
     },
     "execution_count": 61,
     "metadata": {},
     "output_type": "execute_result"
    }
   ],
   "source": [
    "np.hsplit(arr,3)"
   ]
  },
  {
   "cell_type": "code",
   "execution_count": 62,
   "id": "7d908e03-ef6e-4ff0-8d33-d8868d7591b8",
   "metadata": {},
   "outputs": [
    {
     "data": {
      "text/plain": [
       "array([5, 7, 9])"
      ]
     },
     "execution_count": 62,
     "metadata": {},
     "output_type": "execute_result"
    }
   ],
   "source": [
    "arr1 = np.array([1,2,3])\n",
    "arr2 = np.array([4,5,6])\n",
    "arr1 + arr2"
   ]
  },
  {
   "cell_type": "code",
   "execution_count": 63,
   "id": "211a83ad-4fa7-4955-b205-d9608143c116",
   "metadata": {},
   "outputs": [
    {
     "data": {
      "text/plain": [
       "array([3, 3, 3])"
      ]
     },
     "execution_count": 63,
     "metadata": {},
     "output_type": "execute_result"
    }
   ],
   "source": [
    "arr2 - arr1"
   ]
  },
  {
   "cell_type": "code",
   "execution_count": 64,
   "id": "a7c809b4-b08d-4451-9414-a6f037edbec9",
   "metadata": {},
   "outputs": [
    {
     "data": {
      "text/plain": [
       "array([ 4, 10, 18])"
      ]
     },
     "execution_count": 64,
     "metadata": {},
     "output_type": "execute_result"
    }
   ],
   "source": [
    "arr1 * arr2"
   ]
  },
  {
   "cell_type": "code",
   "execution_count": 65,
   "id": "446efedc-addc-4c79-9b5b-c9aa2b3cc0d6",
   "metadata": {},
   "outputs": [
    {
     "data": {
      "text/plain": [
       "array([0.25, 0.4 , 0.5 ])"
      ]
     },
     "execution_count": 65,
     "metadata": {},
     "output_type": "execute_result"
    }
   ],
   "source": [
    "arr1 / arr2"
   ]
  },
  {
   "cell_type": "code",
   "execution_count": 67,
   "id": "d4b3bd0f-d948-4e12-bf50-9c4026ab995b",
   "metadata": {},
   "outputs": [
    {
     "data": {
      "text/plain": [
       "2.0"
      ]
     },
     "execution_count": 67,
     "metadata": {},
     "output_type": "execute_result"
    }
   ],
   "source": [
    "arr1.mean()"
   ]
  },
  {
   "cell_type": "code",
   "execution_count": 68,
   "id": "052f0bb7-bc98-4c05-926c-516f19576d3c",
   "metadata": {},
   "outputs": [
    {
     "data": {
      "text/plain": [
       "array([0.13224657, 0.06831226, 0.93680596, 0.69698132, 0.1454097 ])"
      ]
     },
     "execution_count": 68,
     "metadata": {},
     "output_type": "execute_result"
    }
   ],
   "source": [
    "rand = np.random.default_rng()\n",
    "rand.random(5)"
   ]
  },
  {
   "cell_type": "code",
   "execution_count": 70,
   "id": "a39bcf08-c7eb-4e32-90bf-47aa9b09617c",
   "metadata": {},
   "outputs": [
    {
     "data": {
      "text/plain": [
       "array([[0.86618155, 0.38875121],\n",
       "       [0.0752282 , 0.79137753],\n",
       "       [0.72176056, 0.07842885],\n",
       "       [0.19100687, 0.44455213]])"
      ]
     },
     "execution_count": 70,
     "metadata": {},
     "output_type": "execute_result"
    }
   ],
   "source": [
    "rand.random((4,2))"
   ]
  },
  {
   "cell_type": "code",
   "execution_count": 82,
   "id": "048d1cf6-4c67-439d-a626-30a47c651316",
   "metadata": {},
   "outputs": [
    {
     "data": {
      "text/plain": [
       "array([[1, 1, 2, 1, 4, 3],\n",
       "       [1, 1, 4, 3, 4, 3],\n",
       "       [2, 3, 3, 1, 3, 1],\n",
       "       [1, 4, 1, 2, 3, 3]], dtype=int64)"
      ]
     },
     "execution_count": 82,
     "metadata": {},
     "output_type": "execute_result"
    }
   ],
   "source": [
    "rand.integers(low=1, high=5, size=(4,6))"
   ]
  },
  {
   "cell_type": "code",
   "execution_count": 84,
   "id": "ca099754-d6cd-4057-b2fa-0d4fca98b5f3",
   "metadata": {},
   "outputs": [
    {
     "data": {
      "text/plain": [
       "array([[ 9, 15,  1, 12, 23, 23],\n",
       "       [ 2,  5, 21,  9, 11,  9],\n",
       "       [15,  3, 25,  5,  5, 21],\n",
       "       [22, 23,  4, 21,  8,  9]], dtype=int64)"
      ]
     },
     "execution_count": 84,
     "metadata": {},
     "output_type": "execute_result"
    }
   ],
   "source": [
    "rand.integers(low=1, high=25, size=(4,6), endpoint=True)"
   ]
  },
  {
   "cell_type": "code",
   "execution_count": 85,
   "id": "ea56eef5-6e19-49cf-a3b1-03e71e9f5bd9",
   "metadata": {},
   "outputs": [
    {
     "data": {
      "text/plain": [
       "array([[[0.33184246, 0.98169356, 0.14558932, 0.85498398, 0.72612686,\n",
       "         0.29459768],\n",
       "        [0.99199379, 0.58182193, 0.12586769, 0.40152542, 0.59739779,\n",
       "         0.5498926 ]],\n",
       "\n",
       "       [[0.62947365, 0.99604402, 0.00903543, 0.83815734, 0.14081536,\n",
       "         0.41966111],\n",
       "        [0.0308415 , 0.78620694, 0.00556691, 0.1884903 , 0.97184207,\n",
       "         0.13570691]],\n",
       "\n",
       "       [[0.57825528, 0.27131643, 0.29956991, 0.6557206 , 0.62197785,\n",
       "         0.23200843],\n",
       "        [0.34302684, 0.89720388, 0.94924315, 0.30795453, 0.24310566,\n",
       "         0.92773342]]])"
      ]
     },
     "execution_count": 85,
     "metadata": {},
     "output_type": "execute_result"
    }
   ],
   "source": [
    "rand.random((3,2,6))"
   ]
  },
  {
   "cell_type": "code",
   "execution_count": 87,
   "id": "8a16715d-49ef-4d0b-808b-7f0775565c3a",
   "metadata": {},
   "outputs": [],
   "source": [
    "arr = np.array([1,2,3,1,1,4,5,2,5,6,7,1])\n"
   ]
  },
  {
   "cell_type": "code",
   "execution_count": 88,
   "id": "d37fa932-c0ee-4aeb-ac17-da766d16b24d",
   "metadata": {},
   "outputs": [
    {
     "data": {
      "text/plain": [
       "array([1, 2, 3, 4, 5, 6, 7])"
      ]
     },
     "execution_count": 88,
     "metadata": {},
     "output_type": "execute_result"
    }
   ],
   "source": [
    "np.unique(arr)"
   ]
  },
  {
   "cell_type": "code",
   "execution_count": 89,
   "id": "3558375f-890e-45ed-b4db-461c0b9135e2",
   "metadata": {},
   "outputs": [
    {
     "data": {
      "text/plain": [
       "(array([1, 2, 3, 4, 5, 6, 7]),\n",
       " array([ 0,  1,  2,  5,  6,  9, 10], dtype=int64))"
      ]
     },
     "execution_count": 89,
     "metadata": {},
     "output_type": "execute_result"
    }
   ],
   "source": [
    "np.unique(arr, return_index=True)"
   ]
  },
  {
   "cell_type": "code",
   "execution_count": 90,
   "id": "2d8d1516-5621-4547-a817-3aaa5d478bd7",
   "metadata": {},
   "outputs": [
    {
     "data": {
      "text/plain": [
       "(array([1, 2, 3, 4, 5, 6, 7]),\n",
       " array([ 0,  1,  2,  5,  6,  9, 10], dtype=int64),\n",
       " array([4, 2, 1, 1, 2, 1, 1], dtype=int64))"
      ]
     },
     "execution_count": 90,
     "metadata": {},
     "output_type": "execute_result"
    }
   ],
   "source": [
    "np.unique(arr, return_index=True, return_counts=True)"
   ]
  },
  {
   "cell_type": "code",
   "execution_count": 118,
   "id": "528b1a89-8676-4fb2-9f51-06c8ad8fd960",
   "metadata": {},
   "outputs": [],
   "source": [
    "arr1 = np.array([[1,1,2], [3,3,2], [1,1,2]])\n"
   ]
  },
  {
   "cell_type": "code",
   "execution_count": 119,
   "id": "51e81293-0ba6-4b2c-9075-b05882e619bc",
   "metadata": {},
   "outputs": [
    {
     "data": {
      "text/plain": [
       "array([1, 2, 3])"
      ]
     },
     "execution_count": 119,
     "metadata": {},
     "output_type": "execute_result"
    }
   ],
   "source": [
    "np.unique(arr1)"
   ]
  },
  {
   "cell_type": "code",
   "execution_count": 120,
   "id": "43ffef47-25f7-4643-8c84-bc5925ae2393",
   "metadata": {},
   "outputs": [
    {
     "data": {
      "text/plain": [
       "array([[1, 2],\n",
       "       [3, 2],\n",
       "       [1, 2]])"
      ]
     },
     "execution_count": 120,
     "metadata": {},
     "output_type": "execute_result"
    }
   ],
   "source": [
    "np.unique(arr1, axis=1)"
   ]
  },
  {
   "cell_type": "code",
   "execution_count": 121,
   "id": "b24de28e-4e70-417b-a96e-7823bc3c76fa",
   "metadata": {},
   "outputs": [
    {
     "data": {
      "text/plain": [
       "array([[1, 1, 2],\n",
       "       [3, 3, 2]])"
      ]
     },
     "execution_count": 121,
     "metadata": {},
     "output_type": "execute_result"
    }
   ],
   "source": [
    "np.unique(arr1, axis=0)"
   ]
  },
  {
   "cell_type": "code",
   "execution_count": 123,
   "id": "8810a123-e145-43b3-8765-993010214708",
   "metadata": {},
   "outputs": [
    {
     "data": {
      "text/plain": [
       "array([0, 1, 2, 3, 4, 5, 6, 7, 8, 9])"
      ]
     },
     "execution_count": 123,
     "metadata": {},
     "output_type": "execute_result"
    }
   ],
   "source": [
    "org_arr = np.arange(10)\n",
    "org_arr"
   ]
  },
  {
   "cell_type": "code",
   "execution_count": 124,
   "id": "a40d05a6-417a-4768-a37f-51c48350daf6",
   "metadata": {},
   "outputs": [
    {
     "data": {
      "text/plain": [
       "array([9, 8, 7, 6, 5, 4, 3, 2, 1, 0])"
      ]
     },
     "execution_count": 124,
     "metadata": {},
     "output_type": "execute_result"
    }
   ],
   "source": [
    "np.flip(org_arr)"
   ]
  },
  {
   "cell_type": "code",
   "execution_count": 135,
   "id": "6d9b34d8-ed5a-461c-bdb0-431f71b3362f",
   "metadata": {},
   "outputs": [
    {
     "data": {
      "text/plain": [
       "array([[ 0,  1,  2,  3],\n",
       "       [ 4,  5,  6,  7],\n",
       "       [ 8,  9, 10, 11]])"
      ]
     },
     "execution_count": 135,
     "metadata": {},
     "output_type": "execute_result"
    }
   ],
   "source": [
    "org = np.arange(12).reshape(3,4)\n",
    "org"
   ]
  },
  {
   "cell_type": "code",
   "execution_count": 136,
   "id": "c78ad857-8e02-4aa3-aa2c-e85d92c2c584",
   "metadata": {},
   "outputs": [
    {
     "data": {
      "text/plain": [
       "array([[11, 10,  9,  8],\n",
       "       [ 7,  6,  5,  4],\n",
       "       [ 3,  2,  1,  0]])"
      ]
     },
     "execution_count": 136,
     "metadata": {},
     "output_type": "execute_result"
    }
   ],
   "source": [
    "np.flip(org)"
   ]
  },
  {
   "cell_type": "code",
   "execution_count": 137,
   "id": "4f261ae3-e9b8-4316-b23f-fef0b751035e",
   "metadata": {},
   "outputs": [
    {
     "data": {
      "text/plain": [
       "array([[ 8,  9, 10, 11],\n",
       "       [ 4,  5,  6,  7],\n",
       "       [ 0,  1,  2,  3]])"
      ]
     },
     "execution_count": 137,
     "metadata": {},
     "output_type": "execute_result"
    }
   ],
   "source": [
    "np.flip(org, axis=0)\n"
   ]
  },
  {
   "cell_type": "code",
   "execution_count": 138,
   "id": "25309665-bec9-4a22-823d-fb2de82d0405",
   "metadata": {},
   "outputs": [
    {
     "data": {
      "text/plain": [
       "array([[ 3,  2,  1,  0],\n",
       "       [ 7,  6,  5,  4],\n",
       "       [11, 10,  9,  8]])"
      ]
     },
     "execution_count": 138,
     "metadata": {},
     "output_type": "execute_result"
    }
   ],
   "source": [
    "np.flip(org, axis=1)"
   ]
  },
  {
   "cell_type": "code",
   "execution_count": 140,
   "id": "de49ef43-b184-4476-96be-b89a6d83bdfb",
   "metadata": {},
   "outputs": [
    {
     "data": {
      "text/plain": [
       "array([3, 2, 1, 0])"
      ]
     },
     "execution_count": 140,
     "metadata": {},
     "output_type": "execute_result"
    }
   ],
   "source": [
    "np.flip(org[0])"
   ]
  },
  {
   "cell_type": "code",
   "execution_count": 142,
   "id": "a314c99b-4c17-48a9-a986-e4afa6a58233",
   "metadata": {},
   "outputs": [
    {
     "data": {
      "text/plain": [
       "array([10,  6,  2])"
      ]
     },
     "execution_count": 142,
     "metadata": {},
     "output_type": "execute_result"
    }
   ],
   "source": [
    "np.flip(org[:,2])"
   ]
  },
  {
   "cell_type": "code",
   "execution_count": 143,
   "id": "23b05f44-71e5-47d1-a536-fb7bd096817e",
   "metadata": {},
   "outputs": [
    {
     "data": {
      "text/plain": [
       "array([ 0,  1,  2,  3,  4,  5,  6,  7,  8,  9, 10, 11])"
      ]
     },
     "execution_count": 143,
     "metadata": {},
     "output_type": "execute_result"
    }
   ],
   "source": [
    "org.flatten()"
   ]
  },
  {
   "cell_type": "code",
   "execution_count": null,
   "id": "d3d3342d-e686-4c4d-bcfb-f7bcf3d60a37",
   "metadata": {},
   "outputs": [],
   "source": []
  }
 ],
 "metadata": {
  "kernelspec": {
   "display_name": "Python 3 (ipykernel)",
   "language": "python",
   "name": "python3"
  },
  "language_info": {
   "codemirror_mode": {
    "name": "ipython",
    "version": 3
   },
   "file_extension": ".py",
   "mimetype": "text/x-python",
   "name": "python",
   "nbconvert_exporter": "python",
   "pygments_lexer": "ipython3",
   "version": "3.12.3"
  }
 },
 "nbformat": 4,
 "nbformat_minor": 5
}
