{
 "cells": [
  {
   "cell_type": "code",
   "execution_count": 208,
   "id": "781ff30d-57de-43d4-a240-210c09011244",
   "metadata": {},
   "outputs": [],
   "source": [
    "import pandas as pd"
   ]
  },
  {
   "cell_type": "code",
   "execution_count": 209,
   "id": "6f53b497-3ced-4327-b1e2-5fd22d4de2c0",
   "metadata": {},
   "outputs": [
    {
     "data": {
      "text/plain": [
       "Timestamp('2021-10-21 00:00:00')"
      ]
     },
     "execution_count": 209,
     "metadata": {},
     "output_type": "execute_result"
    }
   ],
   "source": [
    "pd.Timestamp('2021-10-21')"
   ]
  },
  {
   "cell_type": "code",
   "execution_count": 210,
   "id": "a378522d-4f47-4774-85bc-f447352ef1f5",
   "metadata": {},
   "outputs": [],
   "source": [
    "def display_timestamp(input_text: str):\n",
    "    print(pd.Timestamp(input_text))"
   ]
  },
  {
   "cell_type": "code",
   "execution_count": 211,
   "id": "050a1020-9779-4d51-98b5-573272c2a525",
   "metadata": {},
   "outputs": [
    {
     "name": "stdout",
     "output_type": "stream",
     "text": [
      "2021-10-21 00:00:00\n",
      "2021-12-01 00:00:00\n",
      "2021-10-21 00:00:00\n",
      "2021-11-01 00:00:00\n"
     ]
    }
   ],
   "source": [
    "display_timestamp('2021-10-21')\n",
    "display_timestamp('2021.12.01')\n",
    "display_timestamp('2021/10/21')\n",
    "display_timestamp('2021 Nov 01')"
   ]
  },
  {
   "cell_type": "code",
   "execution_count": 212,
   "id": "b89699ba-e2ce-4e7f-b58d-05b0926f8cbb",
   "metadata": {},
   "outputs": [
    {
     "data": {
      "text/plain": [
       "Timestamp('1975-05-02 03:43:18.939812398')"
      ]
     },
     "execution_count": 212,
     "metadata": {},
     "output_type": "execute_result"
    }
   ],
   "source": [
    "pd.Timestamp(168234198939812398)"
   ]
  },
  {
   "cell_type": "code",
   "execution_count": 213,
   "id": "e3c9163b-16a5-4e51-87bc-bdbfced5dc99",
   "metadata": {},
   "outputs": [
    {
     "data": {
      "text/plain": [
       "Timestamp('2026-06-12 02:24:58.123120070')"
      ]
     },
     "execution_count": 213,
     "metadata": {},
     "output_type": "execute_result"
    }
   ],
   "source": [
    "pd.Timestamp(1781231098.12312, unit='s')"
   ]
  },
  {
   "cell_type": "code",
   "execution_count": 214,
   "id": "3373bdaf-322c-44cb-9e41-11d9098c187a",
   "metadata": {},
   "outputs": [
    {
     "data": {
      "text/plain": [
       "Timestamp('2024-12-30 10:10:10')"
      ]
     },
     "execution_count": 214,
     "metadata": {},
     "output_type": "execute_result"
    }
   ],
   "source": [
    "pd.Timestamp(2024, 12, 30, 10, 10, 10)"
   ]
  },
  {
   "cell_type": "code",
   "execution_count": 215,
   "id": "335accbd-7b2d-4a1e-a7f9-ce1fc06a7b2d",
   "metadata": {},
   "outputs": [
    {
     "data": {
      "text/plain": [
       "Timestamp('2023-12-15 04:55:20')"
      ]
     },
     "execution_count": 215,
     "metadata": {},
     "output_type": "execute_result"
    }
   ],
   "source": [
    "pd.Timestamp(year=2023, month=12, day=15, hour=4, minute=55, second=20)"
   ]
  },
  {
   "cell_type": "code",
   "execution_count": 216,
   "id": "644f5042-ebb6-4886-9a54-e2a5186245ce",
   "metadata": {},
   "outputs": [],
   "source": [
    "def display_result(input_text: str):\n",
    "    print(pd.to_datetime(input_text))"
   ]
  },
  {
   "cell_type": "code",
   "execution_count": 217,
   "id": "0b9ce167-01f1-4755-893a-874fbd783bf6",
   "metadata": {},
   "outputs": [
    {
     "name": "stdout",
     "output_type": "stream",
     "text": [
      "2024-12-22 00:00:00\n",
      "1970-01-24 00:00:35.248324235\n"
     ]
    }
   ],
   "source": [
    "display_result('2024-12-22')\n",
    "display_result(1987235248324235)"
   ]
  },
  {
   "cell_type": "code",
   "execution_count": 218,
   "id": "01318692-78ea-428e-a0f5-0ee1dedd9637",
   "metadata": {},
   "outputs": [
    {
     "data": {
      "text/plain": [
       "DatetimeIndex(['2021-10-12', '2022-11-11'], dtype='datetime64[ns]', freq=None)"
      ]
     },
     "execution_count": 218,
     "metadata": {},
     "output_type": "execute_result"
    }
   ],
   "source": [
    "pd.to_datetime(['2021-10-12', '2022-11-11'])"
   ]
  },
  {
   "cell_type": "code",
   "execution_count": 219,
   "id": "0bd65178-7b80-450c-b3f0-706fb3499330",
   "metadata": {},
   "outputs": [
    {
     "data": {
      "text/plain": [
       "DatetimeIndex(['1970-01-01 00:00:19.876567891', '2021-10-12 00:00:00',\n",
       "               '2000-01-01 00:00:00'],\n",
       "              dtype='datetime64[ns]', freq=None)"
      ]
     },
     "execution_count": 219,
     "metadata": {},
     "output_type": "execute_result"
    }
   ],
   "source": [
    "pd.to_datetime([19876567891, '2021.10.12', '2000'])"
   ]
  },
  {
   "cell_type": "code",
   "execution_count": 220,
   "id": "d9b464a4-c202-4b81-867e-05959b5e72f2",
   "metadata": {},
   "outputs": [
    {
     "data": {
      "text/plain": [
       "DatetimeIndex(['1997-01-01', 'NaT'], dtype='datetime64[ns]', freq=None)"
      ]
     },
     "execution_count": 220,
     "metadata": {},
     "output_type": "execute_result"
    }
   ],
   "source": [
    "pd.to_datetime(['1997', '2021.10.12'], errors='coerce') # invalid date format raise error, avoid coerce"
   ]
  },
  {
   "cell_type": "code",
   "execution_count": 221,
   "id": "005bb666-f447-432d-a37b-379927124f8b",
   "metadata": {},
   "outputs": [
    {
     "data": {
      "text/plain": [
       "DatetimeIndex(['2024-01-01', '2024-01-02', '2024-01-03', '2024-01-04',\n",
       "               '2024-01-05', '2024-01-06', '2024-01-07', '2024-01-08',\n",
       "               '2024-01-09', '2024-01-10',\n",
       "               ...\n",
       "               '2024-12-22', '2024-12-23', '2024-12-24', '2024-12-25',\n",
       "               '2024-12-26', '2024-12-27', '2024-12-28', '2024-12-29',\n",
       "               '2024-12-30', '2024-12-31'],\n",
       "              dtype='datetime64[ns]', length=366, freq='D')"
      ]
     },
     "execution_count": 221,
     "metadata": {},
     "output_type": "execute_result"
    }
   ],
   "source": [
    "pd.date_range(start='2024-01-01', end='2024-12-31')"
   ]
  },
  {
   "cell_type": "code",
   "execution_count": 222,
   "id": "2b8b7c88-ba62-498b-81ae-5678e56f1cb1",
   "metadata": {},
   "outputs": [
    {
     "name": "stderr",
     "output_type": "stream",
     "text": [
      "C:\\Users\\maniu\\AppData\\Local\\Temp\\ipykernel_18192\\1715600590.py:1: FutureWarning: 'M' is deprecated and will be removed in a future version, please use 'ME' instead.\n",
      "  pd.date_range(start='2024-01-01', end='2024-12-31', freq='M')\n"
     ]
    },
    {
     "data": {
      "text/plain": [
       "DatetimeIndex(['2024-01-31', '2024-02-29', '2024-03-31', '2024-04-30',\n",
       "               '2024-05-31', '2024-06-30', '2024-07-31', '2024-08-31',\n",
       "               '2024-09-30', '2024-10-31', '2024-11-30', '2024-12-31'],\n",
       "              dtype='datetime64[ns]', freq='ME')"
      ]
     },
     "execution_count": 222,
     "metadata": {},
     "output_type": "execute_result"
    }
   ],
   "source": [
    "pd.date_range(start='2024-01-01', end='2024-12-31', freq='M')"
   ]
  },
  {
   "cell_type": "code",
   "execution_count": 223,
   "id": "74e46872-be43-455f-84df-b1c2964081d8",
   "metadata": {},
   "outputs": [
    {
     "data": {
      "text/plain": [
       "DatetimeIndex(['2024-01-01', '2024-02-01', '2024-03-01', '2024-04-01',\n",
       "               '2024-05-01', '2024-06-01', '2024-07-01', '2024-08-01',\n",
       "               '2024-09-01', '2024-10-01', '2024-11-01', '2024-12-01'],\n",
       "              dtype='datetime64[ns]', freq='MS')"
      ]
     },
     "execution_count": 223,
     "metadata": {},
     "output_type": "execute_result"
    }
   ],
   "source": [
    "pd.date_range(start='2024-01-01', end='2024-12-31', freq='MS')"
   ]
  },
  {
   "cell_type": "code",
   "execution_count": 224,
   "id": "db8d2c5f-d288-4378-9e60-70f8ee5f5835",
   "metadata": {},
   "outputs": [
    {
     "data": {
      "text/plain": [
       "DatetimeIndex([          '2024-01-01 00:00:00',\n",
       "               '2024-02-03 04:21:49.090909091',\n",
       "               '2024-03-07 08:43:38.181818182',\n",
       "               '2024-04-09 13:05:27.272727273',\n",
       "               '2024-05-12 17:27:16.363636364',\n",
       "               '2024-06-14 21:49:05.454545456',\n",
       "               '2024-07-18 02:10:54.545454546',\n",
       "               '2024-08-20 06:32:43.636363636',\n",
       "               '2024-09-22 10:54:32.727272728',\n",
       "               '2024-10-25 15:16:21.818181820',\n",
       "               '2024-11-27 19:38:10.909090912',\n",
       "                         '2024-12-31 00:00:00'],\n",
       "              dtype='datetime64[ns]', freq=None)"
      ]
     },
     "execution_count": 224,
     "metadata": {},
     "output_type": "execute_result"
    }
   ],
   "source": [
    "pd.date_range(start='2024-01-01', end='2024-12-31', periods=12)"
   ]
  },
  {
   "cell_type": "code",
   "execution_count": 225,
   "id": "4607b49f-ac28-4537-8ce9-9e821f9ddf08",
   "metadata": {},
   "outputs": [
    {
     "data": {
      "text/plain": [
       "DatetimeIndex(['2024-01-01', '2024-01-02', '2024-01-03', '2024-01-04',\n",
       "               '2024-01-05', '2024-01-06', '2024-01-07', '2024-01-08',\n",
       "               '2024-01-09', '2024-01-10', '2024-01-11', '2024-01-12',\n",
       "               '2024-01-13', '2024-01-14', '2024-01-15', '2024-01-16',\n",
       "               '2024-01-17', '2024-01-18', '2024-01-19', '2024-01-20'],\n",
       "              dtype='datetime64[ns]', freq='D')"
      ]
     },
     "execution_count": 225,
     "metadata": {},
     "output_type": "execute_result"
    }
   ],
   "source": [
    "pd.date_range(start='2024-01-01', periods=20)"
   ]
  },
  {
   "cell_type": "code",
   "execution_count": 226,
   "id": "2f247000-4919-4c66-8d1e-b8b931277d06",
   "metadata": {},
   "outputs": [
    {
     "data": {
      "text/plain": [
       "DatetimeIndex(['2024-12-20', '2024-12-21', '2024-12-22', '2024-12-23',\n",
       "               '2024-12-24', '2024-12-25', '2024-12-26', '2024-12-27',\n",
       "               '2024-12-28', '2024-12-29', '2024-12-30', '2024-12-31'],\n",
       "              dtype='datetime64[ns]', freq='D')"
      ]
     },
     "execution_count": 226,
     "metadata": {},
     "output_type": "execute_result"
    }
   ],
   "source": [
    "pd.date_range(end='2024-12-31', periods=12)"
   ]
  },
  {
   "cell_type": "code",
   "execution_count": 227,
   "id": "8469d575-c6dd-415d-89c7-960494224fab",
   "metadata": {},
   "outputs": [
    {
     "name": "stderr",
     "output_type": "stream",
     "text": [
      "C:\\Users\\maniu\\AppData\\Local\\Temp\\ipykernel_18192\\1715600590.py:1: FutureWarning: 'M' is deprecated and will be removed in a future version, please use 'ME' instead.\n",
      "  pd.date_range(start='2024-01-01', end='2024-12-31', freq='M')\n"
     ]
    },
    {
     "data": {
      "text/plain": [
       "DatetimeIndex(['2024-01-31', '2024-02-29', '2024-03-31', '2024-04-30',\n",
       "               '2024-05-31', '2024-06-30', '2024-07-31', '2024-08-31',\n",
       "               '2024-09-30', '2024-10-31', '2024-11-30', '2024-12-31'],\n",
       "              dtype='datetime64[ns]', freq='ME')"
      ]
     },
     "execution_count": 227,
     "metadata": {},
     "output_type": "execute_result"
    }
   ],
   "source": [
    "pd.date_range(start='2024-01-01', end='2024-12-31', freq='M')"
   ]
  },
  {
   "cell_type": "code",
   "execution_count": 228,
   "id": "4eb99fc1-b828-4ac4-85b0-ac171656d25a",
   "metadata": {},
   "outputs": [
    {
     "name": "stderr",
     "output_type": "stream",
     "text": [
      "C:\\Users\\maniu\\AppData\\Local\\Temp\\ipykernel_18192\\135927532.py:1: FutureWarning: 'M' is deprecated and will be removed in a future version, please use 'ME' instead.\n",
      "  pd.date_range(periods=20, end='2024-12-31', freq='M')\n"
     ]
    },
    {
     "data": {
      "text/plain": [
       "DatetimeIndex(['2023-05-31', '2023-06-30', '2023-07-31', '2023-08-31',\n",
       "               '2023-09-30', '2023-10-31', '2023-11-30', '2023-12-31',\n",
       "               '2024-01-31', '2024-02-29', '2024-03-31', '2024-04-30',\n",
       "               '2024-05-31', '2024-06-30', '2024-07-31', '2024-08-31',\n",
       "               '2024-09-30', '2024-10-31', '2024-11-30', '2024-12-31'],\n",
       "              dtype='datetime64[ns]', freq='ME')"
      ]
     },
     "execution_count": 228,
     "metadata": {},
     "output_type": "execute_result"
    }
   ],
   "source": [
    "pd.date_range(periods=20, end='2024-12-31', freq='M')"
   ]
  },
  {
   "cell_type": "code",
   "execution_count": 229,
   "id": "b5aa9545-ca59-47fd-bcc4-c1fa6ca5a2dd",
   "metadata": {},
   "outputs": [
    {
     "name": "stderr",
     "output_type": "stream",
     "text": [
      "C:\\Users\\maniu\\AppData\\Local\\Temp\\ipykernel_18192\\1996025427.py:1: FutureWarning: 'N' is deprecated and will be removed in a future version, please use 'ns' instead.\n",
      "  pd.date_range(periods=5, end='2024-12-31', freq='N')\n"
     ]
    },
    {
     "data": {
      "text/plain": [
       "DatetimeIndex(['2024-12-30 23:59:59.999999996',\n",
       "               '2024-12-30 23:59:59.999999997',\n",
       "               '2024-12-30 23:59:59.999999998',\n",
       "               '2024-12-30 23:59:59.999999999',\n",
       "                         '2024-12-31 00:00:00'],\n",
       "              dtype='datetime64[ns]', freq='ns')"
      ]
     },
     "execution_count": 229,
     "metadata": {},
     "output_type": "execute_result"
    }
   ],
   "source": [
    "pd.date_range(periods=5, end='2024-12-31', freq='N')"
   ]
  },
  {
   "cell_type": "code",
   "execution_count": 230,
   "id": "ff4d6330-3c7c-4a0b-bc57-158f535945a1",
   "metadata": {},
   "outputs": [
    {
     "data": {
      "text/plain": [
       "DatetimeIndex(['2024-01-01', '2024-04-01', '2024-07-01', '2024-10-01'], dtype='datetime64[ns]', freq='QS-JAN')"
      ]
     },
     "execution_count": 230,
     "metadata": {},
     "output_type": "execute_result"
    }
   ],
   "source": [
    "pd.date_range(start='2024-01-01', end='2024-12-31', freq='QS')"
   ]
  },
  {
   "cell_type": "code",
   "execution_count": 231,
   "id": "be9da0d7-3de8-4f52-b707-ec4e4fc1694e",
   "metadata": {},
   "outputs": [
    {
     "data": {
      "text/plain": [
       "Timedelta('0 days 00:03:00')"
      ]
     },
     "execution_count": 231,
     "metadata": {},
     "output_type": "execute_result"
    }
   ],
   "source": [
    "start_time = pd.Timestamp('2022-10-22 10:00')\n",
    "end_time = pd.Timestamp('2022-10-22 10:03')\n",
    "elapse_time = end_time - start_time\n",
    "elapse_time"
   ]
  },
  {
   "cell_type": "code",
   "execution_count": 232,
   "id": "d939883d-ed1a-4d1d-ac37-c82fcf3139c6",
   "metadata": {},
   "outputs": [],
   "source": [
    "def display_time(input_text: str):\n",
    "    print(pd.Timedelta(input_text))"
   ]
  },
  {
   "cell_type": "code",
   "execution_count": 233,
   "id": "79ebcd12-e4f5-4de4-a0e6-ddfdec519070",
   "metadata": {},
   "outputs": [
    {
     "name": "stdout",
     "output_type": "stream",
     "text": [
      "2 days 00:00:00\n",
      "2 days 21:00:04\n",
      "2 days 04:30:04\n",
      "9 days 00:00:00\n"
     ]
    },
    {
     "data": {
      "text/plain": [
       "TimedeltaIndex(['2 days 21:00:04', '3 days 00:00:00', '0 days 04:00:50'], dtype='timedelta64[ns]', freq=None)"
      ]
     },
     "execution_count": 233,
     "metadata": {},
     "output_type": "execute_result"
    }
   ],
   "source": [
    "display_time('2 days')\n",
    "display_time('2 days 21 hr 4s')\n",
    "display_time('2 days 4 hours 30 minutes 4seconds')\n",
    "display_time('1W 2D')\n",
    "pd.TimedeltaIndex(['2d 21 hr 4s', '3 days', '4 hours 50 seconds'])"
   ]
  },
  {
   "cell_type": "code",
   "execution_count": 234,
   "id": "dbaabc64-7846-4083-b0f0-43970bad89be",
   "metadata": {},
   "outputs": [
    {
     "data": {
      "text/plain": [
       "TimedeltaIndex([ '1 days',  '2 days',  '3 days',  '4 days',  '5 days',\n",
       "                 '6 days',  '7 days',  '8 days',  '9 days', '10 days',\n",
       "                '11 days', '12 days'],\n",
       "               dtype='timedelta64[ns]', freq='D')"
      ]
     },
     "execution_count": 234,
     "metadata": {},
     "output_type": "execute_result"
    }
   ],
   "source": [
    "pd.timedelta_range(start='1 day', periods=12)"
   ]
  },
  {
   "cell_type": "code",
   "execution_count": 235,
   "id": "d9130478-d1e7-43f7-aa70-a11e82aea1cb",
   "metadata": {},
   "outputs": [
    {
     "data": {
      "text/plain": [
       "TimedeltaIndex(['1 days', '2 days'], dtype='timedelta64[ns]', freq='D')"
      ]
     },
     "execution_count": 235,
     "metadata": {},
     "output_type": "execute_result"
    }
   ],
   "source": [
    "pd.timedelta_range(start='1 day', periods=3, closed='left')"
   ]
  },
  {
   "cell_type": "code",
   "execution_count": 236,
   "id": "2eaa7b97-154b-4c1c-b86f-1d4b65646754",
   "metadata": {},
   "outputs": [
    {
     "data": {
      "text/plain": [
       "TimedeltaIndex(['2 days', '3 days'], dtype='timedelta64[ns]', freq='D')"
      ]
     },
     "execution_count": 236,
     "metadata": {},
     "output_type": "execute_result"
    }
   ],
   "source": [
    "pd.timedelta_range(start='1 day', periods=3, closed='right')"
   ]
  },
  {
   "cell_type": "code",
   "execution_count": 237,
   "id": "61cd6dca-8bdb-4986-9584-e76dd228decd",
   "metadata": {},
   "outputs": [
    {
     "data": {
      "text/plain": [
       "TimedeltaIndex(['1 days', '3 days', '5 days'], dtype='timedelta64[ns]', freq='2D')"
      ]
     },
     "execution_count": 237,
     "metadata": {},
     "output_type": "execute_result"
    }
   ],
   "source": [
    "pd.timedelta_range(start='1 day', periods=3, freq='2D')"
   ]
  },
  {
   "cell_type": "code",
   "execution_count": 238,
   "id": "fdc087a9-b1ca-4d96-887f-969559fab633",
   "metadata": {},
   "outputs": [
    {
     "data": {
      "text/plain": [
       "TimedeltaIndex(['1 days 00:00:00', '5 days 12:00:00', '10 days 00:00:00'], dtype='timedelta64[ns]', freq=None)"
      ]
     },
     "execution_count": 238,
     "metadata": {},
     "output_type": "execute_result"
    }
   ],
   "source": [
    "pd.timedelta_range(start='1 day',  periods=3, end='10 days' )"
   ]
  },
  {
   "cell_type": "code",
   "execution_count": 239,
   "id": "6b9f7510-0f5f-455c-9837-184ef6b6f847",
   "metadata": {},
   "outputs": [
    {
     "data": {
      "text/plain": [
       "TimedeltaIndex(['1 days 00:00:00', '5 days 12:00:00', '10 days 00:00:00'], dtype='timedelta64[ns]', freq=None)"
      ]
     },
     "execution_count": 239,
     "metadata": {},
     "output_type": "execute_result"
    }
   ],
   "source": [
    "pd.timedelta_range(start='1 day',  periods=3, end='10 days' )"
   ]
  },
  {
   "cell_type": "code",
   "execution_count": 240,
   "id": "453cb2cf-b709-4be7-bd21-f10bff82ad54",
   "metadata": {},
   "outputs": [
    {
     "data": {
      "text/plain": [
       "DatetimeIndex(['2024-12-21', '2024-12-22', '2024-12-23', '2024-12-24',\n",
       "               '2024-12-25', '2024-12-26', '2024-12-27'],\n",
       "              dtype='datetime64[ns]', freq='D')"
      ]
     },
     "execution_count": 240,
     "metadata": {},
     "output_type": "execute_result"
    }
   ],
   "source": [
    "one_week = pd.date_range(start='21/12/2024', end='27/12/2024')\n",
    "one_week"
   ]
  },
  {
   "cell_type": "code",
   "execution_count": 241,
   "id": "8b002689-6ead-48bf-9c21-370ff9d67349",
   "metadata": {},
   "outputs": [
    {
     "data": {
      "text/html": [
       "<div>\n",
       "<style scoped>\n",
       "    .dataframe tbody tr th:only-of-type {\n",
       "        vertical-align: middle;\n",
       "    }\n",
       "\n",
       "    .dataframe tbody tr th {\n",
       "        vertical-align: top;\n",
       "    }\n",
       "\n",
       "    .dataframe thead th {\n",
       "        text-align: right;\n",
       "    }\n",
       "</style>\n",
       "<table border=\"1\" class=\"dataframe\">\n",
       "  <thead>\n",
       "    <tr style=\"text-align: right;\">\n",
       "      <th></th>\n",
       "      <th>Dates</th>\n",
       "    </tr>\n",
       "  </thead>\n",
       "  <tbody>\n",
       "    <tr>\n",
       "      <th>0</th>\n",
       "      <td>2024-12-21</td>\n",
       "    </tr>\n",
       "    <tr>\n",
       "      <th>1</th>\n",
       "      <td>2024-12-22</td>\n",
       "    </tr>\n",
       "    <tr>\n",
       "      <th>2</th>\n",
       "      <td>2024-12-23</td>\n",
       "    </tr>\n",
       "    <tr>\n",
       "      <th>3</th>\n",
       "      <td>2024-12-24</td>\n",
       "    </tr>\n",
       "    <tr>\n",
       "      <th>4</th>\n",
       "      <td>2024-12-25</td>\n",
       "    </tr>\n",
       "    <tr>\n",
       "      <th>5</th>\n",
       "      <td>2024-12-26</td>\n",
       "    </tr>\n",
       "    <tr>\n",
       "      <th>6</th>\n",
       "      <td>2024-12-27</td>\n",
       "    </tr>\n",
       "  </tbody>\n",
       "</table>\n",
       "</div>"
      ],
      "text/plain": [
       "       Dates\n",
       "0 2024-12-21\n",
       "1 2024-12-22\n",
       "2 2024-12-23\n",
       "3 2024-12-24\n",
       "4 2024-12-25\n",
       "5 2024-12-26\n",
       "6 2024-12-27"
      ]
     },
     "execution_count": 241,
     "metadata": {},
     "output_type": "execute_result"
    }
   ],
   "source": [
    "one_week_df = pd.Series(one_week).to_frame('Dates')\n",
    "one_week_df"
   ]
  },
  {
   "cell_type": "code",
   "execution_count": 242,
   "id": "3e76b1b7-1c9c-46fb-af8b-56097c91025c",
   "metadata": {},
   "outputs": [
    {
     "name": "stdout",
     "output_type": "stream",
     "text": [
      "<class 'pandas.core.frame.DataFrame'>\n",
      "RangeIndex: 7 entries, 0 to 6\n",
      "Data columns (total 1 columns):\n",
      " #   Column  Non-Null Count  Dtype         \n",
      "---  ------  --------------  -----         \n",
      " 0   Dates   7 non-null      datetime64[ns]\n",
      "dtypes: datetime64[ns](1)\n",
      "memory usage: 188.0 bytes\n"
     ]
    }
   ],
   "source": [
    "one_week_df.info()"
   ]
  },
  {
   "cell_type": "markdown",
   "id": "ff7c310f-ee08-456c-8d8d-b8a159e02b76",
   "metadata": {},
   "source": [
    "can access attributes by dt. like month, year, day"
   ]
  },
  {
   "cell_type": "code",
   "execution_count": 243,
   "id": "86871562-b933-47ab-a2a9-2aacf5ea56e6",
   "metadata": {},
   "outputs": [
    {
     "data": {
      "text/plain": [
       "0    21\n",
       "1    22\n",
       "2    23\n",
       "3    24\n",
       "4    25\n",
       "5    26\n",
       "6    27\n",
       "Name: Dates, dtype: int32"
      ]
     },
     "execution_count": 243,
     "metadata": {},
     "output_type": "execute_result"
    }
   ],
   "source": [
    "one_week_df['Dates'].dt.day"
   ]
  },
  {
   "cell_type": "code",
   "execution_count": 244,
   "id": "1461f25e-102e-4a23-860e-50513e5584f5",
   "metadata": {},
   "outputs": [
    {
     "data": {
      "text/plain": [
       "0    12\n",
       "1    12\n",
       "2    12\n",
       "3    12\n",
       "4    12\n",
       "5    12\n",
       "6    12\n",
       "Name: Dates, dtype: int32"
      ]
     },
     "execution_count": 244,
     "metadata": {},
     "output_type": "execute_result"
    }
   ],
   "source": [
    "one_week_df['Dates'].dt.month"
   ]
  },
  {
   "cell_type": "code",
   "execution_count": 245,
   "id": "e82de495-a9d8-4b2d-ae01-5d02f03530b6",
   "metadata": {},
   "outputs": [
    {
     "data": {
      "text/plain": [
       "0    2024\n",
       "1    2024\n",
       "2    2024\n",
       "3    2024\n",
       "4    2024\n",
       "5    2024\n",
       "6    2024\n",
       "Name: Dates, dtype: int32"
      ]
     },
     "execution_count": 245,
     "metadata": {},
     "output_type": "execute_result"
    }
   ],
   "source": [
    "one_week_df['Dates'].dt.year"
   ]
  },
  {
   "cell_type": "code",
   "execution_count": 246,
   "id": "4f62e500-5888-40fd-88ad-3e009a701a7f",
   "metadata": {},
   "outputs": [
    {
     "data": {
      "text/plain": [
       "0     Saturday\n",
       "1       Sunday\n",
       "2       Monday\n",
       "3      Tuesday\n",
       "4    Wednesday\n",
       "5     Thursday\n",
       "6       Friday\n",
       "Name: Dates, dtype: object"
      ]
     },
     "execution_count": 246,
     "metadata": {},
     "output_type": "execute_result"
    }
   ],
   "source": [
    "one_week_df['Dates'].dt.day_name()"
   ]
  },
  {
   "cell_type": "code",
   "execution_count": 247,
   "id": "ab8efca1-f134-48b2-bd84-6c8db747188e",
   "metadata": {},
   "outputs": [
    {
     "data": {
      "text/plain": [
       "0    2024-12-21\n",
       "1    2024-12-22\n",
       "2    2024-12-23\n",
       "3    2024-12-24\n",
       "4    2024-12-25\n",
       "5    2024-12-26\n",
       "6    2024-12-27\n",
       "Name: Dates, dtype: period[D]"
      ]
     },
     "execution_count": 247,
     "metadata": {},
     "output_type": "execute_result"
    }
   ],
   "source": [
    "one_week_df['Dates'].dt.to_period()"
   ]
  },
  {
   "cell_type": "code",
   "execution_count": 248,
   "id": "de4e78cc-46a5-482e-95a8-721b3608a770",
   "metadata": {},
   "outputs": [
    {
     "data": {
      "text/html": [
       "<div>\n",
       "<style scoped>\n",
       "    .dataframe tbody tr th:only-of-type {\n",
       "        vertical-align: middle;\n",
       "    }\n",
       "\n",
       "    .dataframe tbody tr th {\n",
       "        vertical-align: top;\n",
       "    }\n",
       "\n",
       "    .dataframe thead th {\n",
       "        text-align: right;\n",
       "    }\n",
       "</style>\n",
       "<table border=\"1\" class=\"dataframe\">\n",
       "  <thead>\n",
       "    <tr style=\"text-align: right;\">\n",
       "      <th></th>\n",
       "      <th>Data</th>\n",
       "    </tr>\n",
       "  </thead>\n",
       "  <tbody>\n",
       "    <tr>\n",
       "      <th>2024-01-01</th>\n",
       "      <td>something</td>\n",
       "    </tr>\n",
       "    <tr>\n",
       "      <th>2024-02-01</th>\n",
       "      <td>something</td>\n",
       "    </tr>\n",
       "    <tr>\n",
       "      <th>2024-03-01</th>\n",
       "      <td>something</td>\n",
       "    </tr>\n",
       "    <tr>\n",
       "      <th>2024-04-01</th>\n",
       "      <td>something</td>\n",
       "    </tr>\n",
       "    <tr>\n",
       "      <th>2024-05-01</th>\n",
       "      <td>something</td>\n",
       "    </tr>\n",
       "    <tr>\n",
       "      <th>2024-06-01</th>\n",
       "      <td>something</td>\n",
       "    </tr>\n",
       "    <tr>\n",
       "      <th>2024-07-01</th>\n",
       "      <td>something</td>\n",
       "    </tr>\n",
       "    <tr>\n",
       "      <th>2024-08-01</th>\n",
       "      <td>something</td>\n",
       "    </tr>\n",
       "    <tr>\n",
       "      <th>2024-09-01</th>\n",
       "      <td>something</td>\n",
       "    </tr>\n",
       "    <tr>\n",
       "      <th>2024-10-01</th>\n",
       "      <td>something</td>\n",
       "    </tr>\n",
       "    <tr>\n",
       "      <th>2024-11-01</th>\n",
       "      <td>something</td>\n",
       "    </tr>\n",
       "    <tr>\n",
       "      <th>2024-12-01</th>\n",
       "      <td>something</td>\n",
       "    </tr>\n",
       "  </tbody>\n",
       "</table>\n",
       "</div>"
      ],
      "text/plain": [
       "                 Data\n",
       "2024-01-01  something\n",
       "2024-02-01  something\n",
       "2024-03-01  something\n",
       "2024-04-01  something\n",
       "2024-05-01  something\n",
       "2024-06-01  something\n",
       "2024-07-01  something\n",
       "2024-08-01  something\n",
       "2024-09-01  something\n",
       "2024-10-01  something\n",
       "2024-11-01  something\n",
       "2024-12-01  something"
      ]
     },
     "execution_count": 248,
     "metadata": {},
     "output_type": "execute_result"
    }
   ],
   "source": [
    "twelve_months= pd.date_range(start='2024-01', end='2024-12', freq='MS')\n",
    "df = pd.Series(data='something', index=twelve_months).to_frame('Data')\n",
    "df"
   ]
  },
  {
   "cell_type": "code",
   "execution_count": 249,
   "id": "b620b18d-82ee-4b6b-9eda-545ae7fb3223",
   "metadata": {},
   "outputs": [
    {
     "data": {
      "text/plain": [
       "'January'"
      ]
     },
     "execution_count": 249,
     "metadata": {},
     "output_type": "execute_result"
    }
   ],
   "source": [
    "ts = df.index[0]\n",
    "ts.month_name()"
   ]
  },
  {
   "cell_type": "code",
   "execution_count": 250,
   "id": "636f3632-a29c-46a2-a4a6-9432ad5e0c67",
   "metadata": {},
   "outputs": [
    {
     "data": {
      "text/plain": [
       "'Monday'"
      ]
     },
     "execution_count": 250,
     "metadata": {},
     "output_type": "execute_result"
    }
   ],
   "source": [
    "ts.day_name()"
   ]
  },
  {
   "cell_type": "code",
   "execution_count": 251,
   "id": "25b27caf-01f3-4039-bce6-39a40bd17f12",
   "metadata": {},
   "outputs": [
    {
     "data": {
      "text/plain": [
       "2024"
      ]
     },
     "execution_count": 251,
     "metadata": {},
     "output_type": "execute_result"
    }
   ],
   "source": [
    "ts.year"
   ]
  },
  {
   "cell_type": "code",
   "execution_count": 252,
   "id": "b0f3e53a-c142-45d5-8eba-0515631c219b",
   "metadata": {},
   "outputs": [
    {
     "data": {
      "text/plain": [
       "31"
      ]
     },
     "execution_count": 252,
     "metadata": {},
     "output_type": "execute_result"
    }
   ],
   "source": [
    "ts.days_in_month"
   ]
  },
  {
   "cell_type": "code",
   "execution_count": 253,
   "id": "2b38ad47-c39a-46a4-a4cc-5dc596451989",
   "metadata": {},
   "outputs": [
    {
     "data": {
      "text/plain": [
       "0"
      ]
     },
     "execution_count": 253,
     "metadata": {},
     "output_type": "execute_result"
    }
   ],
   "source": [
    "ts.day_of_week"
   ]
  },
  {
   "cell_type": "code",
   "execution_count": 254,
   "id": "6891bac2-2288-468d-b67d-526629d59ef8",
   "metadata": {},
   "outputs": [
    {
     "data": {
      "text/plain": [
       "1"
      ]
     },
     "execution_count": 254,
     "metadata": {},
     "output_type": "execute_result"
    }
   ],
   "source": [
    "ts.dayofyear"
   ]
  },
  {
   "cell_type": "code",
   "execution_count": 255,
   "id": "92f3f5f8-002f-4f34-9dae-9dc880cbfba6",
   "metadata": {},
   "outputs": [
    {
     "data": {
      "text/plain": [
       "Index(['January', 'February', 'March', 'April', 'May', 'June', 'July',\n",
       "       'August', 'September', 'October', 'November', 'December'],\n",
       "      dtype='object')"
      ]
     },
     "execution_count": 255,
     "metadata": {},
     "output_type": "execute_result"
    }
   ],
   "source": [
    "df.index.month_name()"
   ]
  },
  {
   "cell_type": "code",
   "execution_count": 256,
   "id": "3759b11f-ebf4-4021-b4ca-8563198ea032",
   "metadata": {},
   "outputs": [
    {
     "data": {
      "text/html": [
       "<div>\n",
       "<style scoped>\n",
       "    .dataframe tbody tr th:only-of-type {\n",
       "        vertical-align: middle;\n",
       "    }\n",
       "\n",
       "    .dataframe tbody tr th {\n",
       "        vertical-align: top;\n",
       "    }\n",
       "\n",
       "    .dataframe thead th {\n",
       "        text-align: right;\n",
       "    }\n",
       "</style>\n",
       "<table border=\"1\" class=\"dataframe\">\n",
       "  <thead>\n",
       "    <tr style=\"text-align: right;\">\n",
       "      <th></th>\n",
       "      <th>Data</th>\n",
       "      <th>Month</th>\n",
       "    </tr>\n",
       "  </thead>\n",
       "  <tbody>\n",
       "    <tr>\n",
       "      <th>2024-01-01</th>\n",
       "      <td>something</td>\n",
       "      <td>January</td>\n",
       "    </tr>\n",
       "    <tr>\n",
       "      <th>2024-02-01</th>\n",
       "      <td>something</td>\n",
       "      <td>February</td>\n",
       "    </tr>\n",
       "    <tr>\n",
       "      <th>2024-03-01</th>\n",
       "      <td>something</td>\n",
       "      <td>March</td>\n",
       "    </tr>\n",
       "    <tr>\n",
       "      <th>2024-04-01</th>\n",
       "      <td>something</td>\n",
       "      <td>April</td>\n",
       "    </tr>\n",
       "    <tr>\n",
       "      <th>2024-05-01</th>\n",
       "      <td>something</td>\n",
       "      <td>May</td>\n",
       "    </tr>\n",
       "    <tr>\n",
       "      <th>2024-06-01</th>\n",
       "      <td>something</td>\n",
       "      <td>June</td>\n",
       "    </tr>\n",
       "    <tr>\n",
       "      <th>2024-07-01</th>\n",
       "      <td>something</td>\n",
       "      <td>July</td>\n",
       "    </tr>\n",
       "    <tr>\n",
       "      <th>2024-08-01</th>\n",
       "      <td>something</td>\n",
       "      <td>August</td>\n",
       "    </tr>\n",
       "    <tr>\n",
       "      <th>2024-09-01</th>\n",
       "      <td>something</td>\n",
       "      <td>September</td>\n",
       "    </tr>\n",
       "    <tr>\n",
       "      <th>2024-10-01</th>\n",
       "      <td>something</td>\n",
       "      <td>October</td>\n",
       "    </tr>\n",
       "    <tr>\n",
       "      <th>2024-11-01</th>\n",
       "      <td>something</td>\n",
       "      <td>November</td>\n",
       "    </tr>\n",
       "    <tr>\n",
       "      <th>2024-12-01</th>\n",
       "      <td>something</td>\n",
       "      <td>December</td>\n",
       "    </tr>\n",
       "  </tbody>\n",
       "</table>\n",
       "</div>"
      ],
      "text/plain": [
       "                 Data      Month\n",
       "2024-01-01  something    January\n",
       "2024-02-01  something   February\n",
       "2024-03-01  something      March\n",
       "2024-04-01  something      April\n",
       "2024-05-01  something        May\n",
       "2024-06-01  something       June\n",
       "2024-07-01  something       July\n",
       "2024-08-01  something     August\n",
       "2024-09-01  something  September\n",
       "2024-10-01  something    October\n",
       "2024-11-01  something   November\n",
       "2024-12-01  something   December"
      ]
     },
     "execution_count": 256,
     "metadata": {},
     "output_type": "execute_result"
    }
   ],
   "source": [
    "df['Month'] = df.index.month_name()\n",
    "df"
   ]
  },
  {
   "cell_type": "code",
   "execution_count": 257,
   "id": "a3f43ec6-3a09-4f6b-80cb-6374d4542c05",
   "metadata": {},
   "outputs": [
    {
     "data": {
      "text/html": [
       "<div>\n",
       "<style scoped>\n",
       "    .dataframe tbody tr th:only-of-type {\n",
       "        vertical-align: middle;\n",
       "    }\n",
       "\n",
       "    .dataframe tbody tr th {\n",
       "        vertical-align: top;\n",
       "    }\n",
       "\n",
       "    .dataframe thead th {\n",
       "        text-align: right;\n",
       "    }\n",
       "</style>\n",
       "<table border=\"1\" class=\"dataframe\">\n",
       "  <thead>\n",
       "    <tr style=\"text-align: right;\">\n",
       "      <th></th>\n",
       "      <th>Data</th>\n",
       "      <th>Month</th>\n",
       "      <th>Dates</th>\n",
       "    </tr>\n",
       "  </thead>\n",
       "  <tbody>\n",
       "    <tr>\n",
       "      <th>2024-01-01</th>\n",
       "      <td>something</td>\n",
       "      <td>January</td>\n",
       "      <td>2024-01-01</td>\n",
       "    </tr>\n",
       "    <tr>\n",
       "      <th>2024-02-01</th>\n",
       "      <td>something</td>\n",
       "      <td>February</td>\n",
       "      <td>2024-02-01</td>\n",
       "    </tr>\n",
       "    <tr>\n",
       "      <th>2024-03-01</th>\n",
       "      <td>something</td>\n",
       "      <td>March</td>\n",
       "      <td>2024-03-01</td>\n",
       "    </tr>\n",
       "    <tr>\n",
       "      <th>2024-04-01</th>\n",
       "      <td>something</td>\n",
       "      <td>April</td>\n",
       "      <td>2024-04-01</td>\n",
       "    </tr>\n",
       "    <tr>\n",
       "      <th>2024-05-01</th>\n",
       "      <td>something</td>\n",
       "      <td>May</td>\n",
       "      <td>2024-05-01</td>\n",
       "    </tr>\n",
       "    <tr>\n",
       "      <th>2024-06-01</th>\n",
       "      <td>something</td>\n",
       "      <td>June</td>\n",
       "      <td>2024-06-01</td>\n",
       "    </tr>\n",
       "    <tr>\n",
       "      <th>2024-07-01</th>\n",
       "      <td>something</td>\n",
       "      <td>July</td>\n",
       "      <td>2024-07-01</td>\n",
       "    </tr>\n",
       "    <tr>\n",
       "      <th>2024-08-01</th>\n",
       "      <td>something</td>\n",
       "      <td>August</td>\n",
       "      <td>2024-08-01</td>\n",
       "    </tr>\n",
       "    <tr>\n",
       "      <th>2024-09-01</th>\n",
       "      <td>something</td>\n",
       "      <td>September</td>\n",
       "      <td>2024-09-01</td>\n",
       "    </tr>\n",
       "    <tr>\n",
       "      <th>2024-10-01</th>\n",
       "      <td>something</td>\n",
       "      <td>October</td>\n",
       "      <td>2024-10-01</td>\n",
       "    </tr>\n",
       "    <tr>\n",
       "      <th>2024-11-01</th>\n",
       "      <td>something</td>\n",
       "      <td>November</td>\n",
       "      <td>2024-11-01</td>\n",
       "    </tr>\n",
       "    <tr>\n",
       "      <th>2024-12-01</th>\n",
       "      <td>something</td>\n",
       "      <td>December</td>\n",
       "      <td>2024-12-01</td>\n",
       "    </tr>\n",
       "  </tbody>\n",
       "</table>\n",
       "</div>"
      ],
      "text/plain": [
       "                 Data      Month      Dates\n",
       "2024-01-01  something    January 2024-01-01\n",
       "2024-02-01  something   February 2024-02-01\n",
       "2024-03-01  something      March 2024-03-01\n",
       "2024-04-01  something      April 2024-04-01\n",
       "2024-05-01  something        May 2024-05-01\n",
       "2024-06-01  something       June 2024-06-01\n",
       "2024-07-01  something       July 2024-07-01\n",
       "2024-08-01  something     August 2024-08-01\n",
       "2024-09-01  something  September 2024-09-01\n",
       "2024-10-01  something    October 2024-10-01\n",
       "2024-11-01  something   November 2024-11-01\n",
       "2024-12-01  something   December 2024-12-01"
      ]
     },
     "execution_count": 257,
     "metadata": {},
     "output_type": "execute_result"
    }
   ],
   "source": [
    "df['Dates'] = df.index\n",
    "df"
   ]
  },
  {
   "cell_type": "code",
   "execution_count": 258,
   "id": "84d558b9-8d20-4401-a08e-589a2f47266c",
   "metadata": {},
   "outputs": [
    {
     "data": {
      "text/plain": [
       "2024-01-01       Monday\n",
       "2024-02-01     Thursday\n",
       "2024-03-01       Friday\n",
       "2024-04-01       Monday\n",
       "2024-05-01    Wednesday\n",
       "2024-06-01     Saturday\n",
       "2024-07-01       Monday\n",
       "2024-08-01     Thursday\n",
       "2024-09-01       Sunday\n",
       "2024-10-01      Tuesday\n",
       "2024-11-01       Friday\n",
       "2024-12-01       Sunday\n",
       "Freq: MS, Name: Dates, dtype: object"
      ]
     },
     "execution_count": 258,
     "metadata": {},
     "output_type": "execute_result"
    }
   ],
   "source": [
    "df['Dates'].dt.day_name()"
   ]
  },
  {
   "cell_type": "code",
   "execution_count": 259,
   "id": "7255fb3b-1421-4a5d-92cf-04528fc1ed89",
   "metadata": {},
   "outputs": [
    {
     "data": {
      "text/html": [
       "<div>\n",
       "<style scoped>\n",
       "    .dataframe tbody tr th:only-of-type {\n",
       "        vertical-align: middle;\n",
       "    }\n",
       "\n",
       "    .dataframe tbody tr th {\n",
       "        vertical-align: top;\n",
       "    }\n",
       "\n",
       "    .dataframe thead th {\n",
       "        text-align: right;\n",
       "    }\n",
       "</style>\n",
       "<table border=\"1\" class=\"dataframe\">\n",
       "  <thead>\n",
       "    <tr style=\"text-align: right;\">\n",
       "      <th></th>\n",
       "      <th>Data</th>\n",
       "      <th>Month</th>\n",
       "      <th>Dates</th>\n",
       "      <th>Days</th>\n",
       "    </tr>\n",
       "  </thead>\n",
       "  <tbody>\n",
       "    <tr>\n",
       "      <th>2024-01-01</th>\n",
       "      <td>something</td>\n",
       "      <td>January</td>\n",
       "      <td>2024-01-01</td>\n",
       "      <td>Monday</td>\n",
       "    </tr>\n",
       "    <tr>\n",
       "      <th>2024-02-01</th>\n",
       "      <td>something</td>\n",
       "      <td>February</td>\n",
       "      <td>2024-02-01</td>\n",
       "      <td>Thursday</td>\n",
       "    </tr>\n",
       "    <tr>\n",
       "      <th>2024-03-01</th>\n",
       "      <td>something</td>\n",
       "      <td>March</td>\n",
       "      <td>2024-03-01</td>\n",
       "      <td>Friday</td>\n",
       "    </tr>\n",
       "    <tr>\n",
       "      <th>2024-04-01</th>\n",
       "      <td>something</td>\n",
       "      <td>April</td>\n",
       "      <td>2024-04-01</td>\n",
       "      <td>Monday</td>\n",
       "    </tr>\n",
       "    <tr>\n",
       "      <th>2024-05-01</th>\n",
       "      <td>something</td>\n",
       "      <td>May</td>\n",
       "      <td>2024-05-01</td>\n",
       "      <td>Wednesday</td>\n",
       "    </tr>\n",
       "    <tr>\n",
       "      <th>2024-06-01</th>\n",
       "      <td>something</td>\n",
       "      <td>June</td>\n",
       "      <td>2024-06-01</td>\n",
       "      <td>Saturday</td>\n",
       "    </tr>\n",
       "    <tr>\n",
       "      <th>2024-07-01</th>\n",
       "      <td>something</td>\n",
       "      <td>July</td>\n",
       "      <td>2024-07-01</td>\n",
       "      <td>Monday</td>\n",
       "    </tr>\n",
       "    <tr>\n",
       "      <th>2024-08-01</th>\n",
       "      <td>something</td>\n",
       "      <td>August</td>\n",
       "      <td>2024-08-01</td>\n",
       "      <td>Thursday</td>\n",
       "    </tr>\n",
       "    <tr>\n",
       "      <th>2024-09-01</th>\n",
       "      <td>something</td>\n",
       "      <td>September</td>\n",
       "      <td>2024-09-01</td>\n",
       "      <td>Sunday</td>\n",
       "    </tr>\n",
       "    <tr>\n",
       "      <th>2024-10-01</th>\n",
       "      <td>something</td>\n",
       "      <td>October</td>\n",
       "      <td>2024-10-01</td>\n",
       "      <td>Tuesday</td>\n",
       "    </tr>\n",
       "    <tr>\n",
       "      <th>2024-11-01</th>\n",
       "      <td>something</td>\n",
       "      <td>November</td>\n",
       "      <td>2024-11-01</td>\n",
       "      <td>Friday</td>\n",
       "    </tr>\n",
       "    <tr>\n",
       "      <th>2024-12-01</th>\n",
       "      <td>something</td>\n",
       "      <td>December</td>\n",
       "      <td>2024-12-01</td>\n",
       "      <td>Sunday</td>\n",
       "    </tr>\n",
       "  </tbody>\n",
       "</table>\n",
       "</div>"
      ],
      "text/plain": [
       "                 Data      Month      Dates       Days\n",
       "2024-01-01  something    January 2024-01-01     Monday\n",
       "2024-02-01  something   February 2024-02-01   Thursday\n",
       "2024-03-01  something      March 2024-03-01     Friday\n",
       "2024-04-01  something      April 2024-04-01     Monday\n",
       "2024-05-01  something        May 2024-05-01  Wednesday\n",
       "2024-06-01  something       June 2024-06-01   Saturday\n",
       "2024-07-01  something       July 2024-07-01     Monday\n",
       "2024-08-01  something     August 2024-08-01   Thursday\n",
       "2024-09-01  something  September 2024-09-01     Sunday\n",
       "2024-10-01  something    October 2024-10-01    Tuesday\n",
       "2024-11-01  something   November 2024-11-01     Friday\n",
       "2024-12-01  something   December 2024-12-01     Sunday"
      ]
     },
     "execution_count": 259,
     "metadata": {},
     "output_type": "execute_result"
    }
   ],
   "source": [
    "df['Days'] = df['Dates'].dt.day_name()\n",
    "df"
   ]
  },
  {
   "cell_type": "code",
   "execution_count": 260,
   "id": "45f666b7-2963-4abd-9709-ad267e221b36",
   "metadata": {},
   "outputs": [
    {
     "data": {
      "text/html": [
       "<div>\n",
       "<style scoped>\n",
       "    .dataframe tbody tr th:only-of-type {\n",
       "        vertical-align: middle;\n",
       "    }\n",
       "\n",
       "    .dataframe tbody tr th {\n",
       "        vertical-align: top;\n",
       "    }\n",
       "\n",
       "    .dataframe thead th {\n",
       "        text-align: right;\n",
       "    }\n",
       "</style>\n",
       "<table border=\"1\" class=\"dataframe\">\n",
       "  <thead>\n",
       "    <tr style=\"text-align: right;\">\n",
       "      <th></th>\n",
       "      <th>date</th>\n",
       "      <th>close</th>\n",
       "      <th>high</th>\n",
       "      <th>low</th>\n",
       "      <th>open</th>\n",
       "    </tr>\n",
       "  </thead>\n",
       "  <tbody>\n",
       "    <tr>\n",
       "      <th>0</th>\n",
       "      <td>2015-05-27 00:00:00+00:00</td>\n",
       "      <td>132.045</td>\n",
       "      <td>132.260</td>\n",
       "      <td>130.0500</td>\n",
       "      <td>130.34</td>\n",
       "    </tr>\n",
       "    <tr>\n",
       "      <th>1</th>\n",
       "      <td>2015-05-28 00:00:00+00:00</td>\n",
       "      <td>131.780</td>\n",
       "      <td>131.950</td>\n",
       "      <td>131.1000</td>\n",
       "      <td>131.86</td>\n",
       "    </tr>\n",
       "    <tr>\n",
       "      <th>2</th>\n",
       "      <td>2015-05-29 00:00:00+00:00</td>\n",
       "      <td>130.280</td>\n",
       "      <td>131.450</td>\n",
       "      <td>129.9000</td>\n",
       "      <td>131.23</td>\n",
       "    </tr>\n",
       "    <tr>\n",
       "      <th>3</th>\n",
       "      <td>2015-06-01 00:00:00+00:00</td>\n",
       "      <td>130.535</td>\n",
       "      <td>131.390</td>\n",
       "      <td>130.0500</td>\n",
       "      <td>131.20</td>\n",
       "    </tr>\n",
       "    <tr>\n",
       "      <th>4</th>\n",
       "      <td>2015-06-02 00:00:00+00:00</td>\n",
       "      <td>129.960</td>\n",
       "      <td>130.655</td>\n",
       "      <td>129.3200</td>\n",
       "      <td>129.86</td>\n",
       "    </tr>\n",
       "    <tr>\n",
       "      <th>...</th>\n",
       "      <td>...</td>\n",
       "      <td>...</td>\n",
       "      <td>...</td>\n",
       "      <td>...</td>\n",
       "      <td>...</td>\n",
       "    </tr>\n",
       "    <tr>\n",
       "      <th>1253</th>\n",
       "      <td>2020-05-18 00:00:00+00:00</td>\n",
       "      <td>314.960</td>\n",
       "      <td>316.500</td>\n",
       "      <td>310.3241</td>\n",
       "      <td>313.17</td>\n",
       "    </tr>\n",
       "    <tr>\n",
       "      <th>1254</th>\n",
       "      <td>2020-05-19 00:00:00+00:00</td>\n",
       "      <td>313.140</td>\n",
       "      <td>318.520</td>\n",
       "      <td>313.0100</td>\n",
       "      <td>315.03</td>\n",
       "    </tr>\n",
       "    <tr>\n",
       "      <th>1255</th>\n",
       "      <td>2020-05-20 00:00:00+00:00</td>\n",
       "      <td>319.230</td>\n",
       "      <td>319.520</td>\n",
       "      <td>316.2000</td>\n",
       "      <td>316.68</td>\n",
       "    </tr>\n",
       "    <tr>\n",
       "      <th>1256</th>\n",
       "      <td>2020-05-21 00:00:00+00:00</td>\n",
       "      <td>316.850</td>\n",
       "      <td>320.890</td>\n",
       "      <td>315.8700</td>\n",
       "      <td>318.66</td>\n",
       "    </tr>\n",
       "    <tr>\n",
       "      <th>1257</th>\n",
       "      <td>2020-05-22 00:00:00+00:00</td>\n",
       "      <td>318.890</td>\n",
       "      <td>319.230</td>\n",
       "      <td>315.3500</td>\n",
       "      <td>315.77</td>\n",
       "    </tr>\n",
       "  </tbody>\n",
       "</table>\n",
       "<p>1258 rows × 5 columns</p>\n",
       "</div>"
      ],
      "text/plain": [
       "                           date    close     high       low    open\n",
       "0     2015-05-27 00:00:00+00:00  132.045  132.260  130.0500  130.34\n",
       "1     2015-05-28 00:00:00+00:00  131.780  131.950  131.1000  131.86\n",
       "2     2015-05-29 00:00:00+00:00  130.280  131.450  129.9000  131.23\n",
       "3     2015-06-01 00:00:00+00:00  130.535  131.390  130.0500  131.20\n",
       "4     2015-06-02 00:00:00+00:00  129.960  130.655  129.3200  129.86\n",
       "...                         ...      ...      ...       ...     ...\n",
       "1253  2020-05-18 00:00:00+00:00  314.960  316.500  310.3241  313.17\n",
       "1254  2020-05-19 00:00:00+00:00  313.140  318.520  313.0100  315.03\n",
       "1255  2020-05-20 00:00:00+00:00  319.230  319.520  316.2000  316.68\n",
       "1256  2020-05-21 00:00:00+00:00  316.850  320.890  315.8700  318.66\n",
       "1257  2020-05-22 00:00:00+00:00  318.890  319.230  315.3500  315.77\n",
       "\n",
       "[1258 rows x 5 columns]"
      ]
     },
     "execution_count": 260,
     "metadata": {},
     "output_type": "execute_result"
    }
   ],
   "source": [
    "cols = ['date', 'high', 'low', 'open', 'close']\n",
    "apple_stocks = pd.read_csv('AAPL.csv', usecols=cols)\n",
    "apple_stocks"
   ]
  },
  {
   "cell_type": "code",
   "execution_count": 261,
   "id": "f71a15e1-0ad3-49ba-a4fd-7f8d0612c327",
   "metadata": {},
   "outputs": [
    {
     "name": "stdout",
     "output_type": "stream",
     "text": [
      "<class 'pandas.core.frame.DataFrame'>\n",
      "RangeIndex: 1258 entries, 0 to 1257\n",
      "Data columns (total 5 columns):\n",
      " #   Column  Non-Null Count  Dtype  \n",
      "---  ------  --------------  -----  \n",
      " 0   date    1258 non-null   object \n",
      " 1   close   1258 non-null   float64\n",
      " 2   high    1258 non-null   float64\n",
      " 3   low     1258 non-null   float64\n",
      " 4   open    1258 non-null   float64\n",
      "dtypes: float64(4), object(1)\n",
      "memory usage: 49.3+ KB\n"
     ]
    }
   ],
   "source": [
    "apple_stocks.info()"
   ]
  },
  {
   "cell_type": "code",
   "execution_count": 262,
   "id": "29076fec-3b2a-49bc-a350-2ddb95d18ca9",
   "metadata": {},
   "outputs": [],
   "source": [
    "apple_stocks.set_index('date', inplace=True)"
   ]
  },
  {
   "cell_type": "code",
   "execution_count": 263,
   "id": "498d7787-2503-4c3d-a622-8e7e90b767da",
   "metadata": {},
   "outputs": [
    {
     "data": {
      "text/plain": [
       "Index(['2015-05-27 00:00:00+00:00', '2015-05-28 00:00:00+00:00',\n",
       "       '2015-05-29 00:00:00+00:00', '2015-06-01 00:00:00+00:00',\n",
       "       '2015-06-02 00:00:00+00:00', '2015-06-03 00:00:00+00:00',\n",
       "       '2015-06-04 00:00:00+00:00', '2015-06-05 00:00:00+00:00',\n",
       "       '2015-06-08 00:00:00+00:00', '2015-06-09 00:00:00+00:00',\n",
       "       ...\n",
       "       '2020-05-11 00:00:00+00:00', '2020-05-12 00:00:00+00:00',\n",
       "       '2020-05-13 00:00:00+00:00', '2020-05-14 00:00:00+00:00',\n",
       "       '2020-05-15 00:00:00+00:00', '2020-05-18 00:00:00+00:00',\n",
       "       '2020-05-19 00:00:00+00:00', '2020-05-20 00:00:00+00:00',\n",
       "       '2020-05-21 00:00:00+00:00', '2020-05-22 00:00:00+00:00'],\n",
       "      dtype='object', name='date', length=1258)"
      ]
     },
     "execution_count": 263,
     "metadata": {},
     "output_type": "execute_result"
    }
   ],
   "source": [
    "apple_stocks.index"
   ]
  },
  {
   "cell_type": "code",
   "execution_count": 264,
   "id": "831a884b-9230-4d52-9f4a-05861c464dc4",
   "metadata": {},
   "outputs": [
    {
     "data": {
      "text/plain": [
       "DatetimeIndex(['2015-05-27 00:00:00+00:00', '2015-05-28 00:00:00+00:00',\n",
       "               '2015-05-29 00:00:00+00:00', '2015-06-01 00:00:00+00:00',\n",
       "               '2015-06-02 00:00:00+00:00', '2015-06-03 00:00:00+00:00',\n",
       "               '2015-06-04 00:00:00+00:00', '2015-06-05 00:00:00+00:00',\n",
       "               '2015-06-08 00:00:00+00:00', '2015-06-09 00:00:00+00:00',\n",
       "               ...\n",
       "               '2020-05-11 00:00:00+00:00', '2020-05-12 00:00:00+00:00',\n",
       "               '2020-05-13 00:00:00+00:00', '2020-05-14 00:00:00+00:00',\n",
       "               '2020-05-15 00:00:00+00:00', '2020-05-18 00:00:00+00:00',\n",
       "               '2020-05-19 00:00:00+00:00', '2020-05-20 00:00:00+00:00',\n",
       "               '2020-05-21 00:00:00+00:00', '2020-05-22 00:00:00+00:00'],\n",
       "              dtype='datetime64[ns, UTC]', name='date', length=1258, freq=None)"
      ]
     },
     "execution_count": 264,
     "metadata": {},
     "output_type": "execute_result"
    }
   ],
   "source": [
    "pd.to_datetime(apple_stocks.index)"
   ]
  },
  {
   "cell_type": "code",
   "execution_count": 265,
   "id": "984371cc-6775-4c57-b772-829405649da3",
   "metadata": {},
   "outputs": [
    {
     "data": {
      "text/html": [
       "<div>\n",
       "<style scoped>\n",
       "    .dataframe tbody tr th:only-of-type {\n",
       "        vertical-align: middle;\n",
       "    }\n",
       "\n",
       "    .dataframe tbody tr th {\n",
       "        vertical-align: top;\n",
       "    }\n",
       "\n",
       "    .dataframe thead th {\n",
       "        text-align: right;\n",
       "    }\n",
       "</style>\n",
       "<table border=\"1\" class=\"dataframe\">\n",
       "  <thead>\n",
       "    <tr style=\"text-align: right;\">\n",
       "      <th></th>\n",
       "      <th>close</th>\n",
       "      <th>high</th>\n",
       "      <th>low</th>\n",
       "      <th>open</th>\n",
       "    </tr>\n",
       "    <tr>\n",
       "      <th>date</th>\n",
       "      <th></th>\n",
       "      <th></th>\n",
       "      <th></th>\n",
       "      <th></th>\n",
       "    </tr>\n",
       "  </thead>\n",
       "  <tbody>\n",
       "    <tr>\n",
       "      <th>2015-05-27 00:00:00+00:00</th>\n",
       "      <td>132.045</td>\n",
       "      <td>132.260</td>\n",
       "      <td>130.0500</td>\n",
       "      <td>130.34</td>\n",
       "    </tr>\n",
       "    <tr>\n",
       "      <th>2015-05-28 00:00:00+00:00</th>\n",
       "      <td>131.780</td>\n",
       "      <td>131.950</td>\n",
       "      <td>131.1000</td>\n",
       "      <td>131.86</td>\n",
       "    </tr>\n",
       "    <tr>\n",
       "      <th>2015-05-29 00:00:00+00:00</th>\n",
       "      <td>130.280</td>\n",
       "      <td>131.450</td>\n",
       "      <td>129.9000</td>\n",
       "      <td>131.23</td>\n",
       "    </tr>\n",
       "    <tr>\n",
       "      <th>2015-06-01 00:00:00+00:00</th>\n",
       "      <td>130.535</td>\n",
       "      <td>131.390</td>\n",
       "      <td>130.0500</td>\n",
       "      <td>131.20</td>\n",
       "    </tr>\n",
       "    <tr>\n",
       "      <th>2015-06-02 00:00:00+00:00</th>\n",
       "      <td>129.960</td>\n",
       "      <td>130.655</td>\n",
       "      <td>129.3200</td>\n",
       "      <td>129.86</td>\n",
       "    </tr>\n",
       "    <tr>\n",
       "      <th>...</th>\n",
       "      <td>...</td>\n",
       "      <td>...</td>\n",
       "      <td>...</td>\n",
       "      <td>...</td>\n",
       "    </tr>\n",
       "    <tr>\n",
       "      <th>2020-05-18 00:00:00+00:00</th>\n",
       "      <td>314.960</td>\n",
       "      <td>316.500</td>\n",
       "      <td>310.3241</td>\n",
       "      <td>313.17</td>\n",
       "    </tr>\n",
       "    <tr>\n",
       "      <th>2020-05-19 00:00:00+00:00</th>\n",
       "      <td>313.140</td>\n",
       "      <td>318.520</td>\n",
       "      <td>313.0100</td>\n",
       "      <td>315.03</td>\n",
       "    </tr>\n",
       "    <tr>\n",
       "      <th>2020-05-20 00:00:00+00:00</th>\n",
       "      <td>319.230</td>\n",
       "      <td>319.520</td>\n",
       "      <td>316.2000</td>\n",
       "      <td>316.68</td>\n",
       "    </tr>\n",
       "    <tr>\n",
       "      <th>2020-05-21 00:00:00+00:00</th>\n",
       "      <td>316.850</td>\n",
       "      <td>320.890</td>\n",
       "      <td>315.8700</td>\n",
       "      <td>318.66</td>\n",
       "    </tr>\n",
       "    <tr>\n",
       "      <th>2020-05-22 00:00:00+00:00</th>\n",
       "      <td>318.890</td>\n",
       "      <td>319.230</td>\n",
       "      <td>315.3500</td>\n",
       "      <td>315.77</td>\n",
       "    </tr>\n",
       "  </tbody>\n",
       "</table>\n",
       "<p>1258 rows × 4 columns</p>\n",
       "</div>"
      ],
      "text/plain": [
       "                             close     high       low    open\n",
       "date                                                         \n",
       "2015-05-27 00:00:00+00:00  132.045  132.260  130.0500  130.34\n",
       "2015-05-28 00:00:00+00:00  131.780  131.950  131.1000  131.86\n",
       "2015-05-29 00:00:00+00:00  130.280  131.450  129.9000  131.23\n",
       "2015-06-01 00:00:00+00:00  130.535  131.390  130.0500  131.20\n",
       "2015-06-02 00:00:00+00:00  129.960  130.655  129.3200  129.86\n",
       "...                            ...      ...       ...     ...\n",
       "2020-05-18 00:00:00+00:00  314.960  316.500  310.3241  313.17\n",
       "2020-05-19 00:00:00+00:00  313.140  318.520  313.0100  315.03\n",
       "2020-05-20 00:00:00+00:00  319.230  319.520  316.2000  316.68\n",
       "2020-05-21 00:00:00+00:00  316.850  320.890  315.8700  318.66\n",
       "2020-05-22 00:00:00+00:00  318.890  319.230  315.3500  315.77\n",
       "\n",
       "[1258 rows x 4 columns]"
      ]
     },
     "execution_count": 265,
     "metadata": {},
     "output_type": "execute_result"
    }
   ],
   "source": [
    "apple_stocks = pd.read_csv('AAPL.csv', usecols=cols, parse_dates=['date'], index_col='date')\n",
    "apple_stocks"
   ]
  },
  {
   "cell_type": "code",
   "execution_count": 266,
   "id": "afe7bcb6-6842-46ac-ba11-970295b8ef34",
   "metadata": {},
   "outputs": [
    {
     "data": {
      "text/html": [
       "<div>\n",
       "<style scoped>\n",
       "    .dataframe tbody tr th:only-of-type {\n",
       "        vertical-align: middle;\n",
       "    }\n",
       "\n",
       "    .dataframe tbody tr th {\n",
       "        vertical-align: top;\n",
       "    }\n",
       "\n",
       "    .dataframe thead th {\n",
       "        text-align: right;\n",
       "    }\n",
       "</style>\n",
       "<table border=\"1\" class=\"dataframe\">\n",
       "  <thead>\n",
       "    <tr style=\"text-align: right;\">\n",
       "      <th></th>\n",
       "      <th>day</th>\n",
       "      <th>close</th>\n",
       "      <th>high</th>\n",
       "      <th>low</th>\n",
       "      <th>open</th>\n",
       "    </tr>\n",
       "    <tr>\n",
       "      <th>date</th>\n",
       "      <th></th>\n",
       "      <th></th>\n",
       "      <th></th>\n",
       "      <th></th>\n",
       "      <th></th>\n",
       "    </tr>\n",
       "  </thead>\n",
       "  <tbody>\n",
       "    <tr>\n",
       "      <th>2015-05-27 00:00:00+00:00</th>\n",
       "      <td>Wednesday</td>\n",
       "      <td>132.045</td>\n",
       "      <td>132.260</td>\n",
       "      <td>130.0500</td>\n",
       "      <td>130.34</td>\n",
       "    </tr>\n",
       "    <tr>\n",
       "      <th>2015-05-28 00:00:00+00:00</th>\n",
       "      <td>Thursday</td>\n",
       "      <td>131.780</td>\n",
       "      <td>131.950</td>\n",
       "      <td>131.1000</td>\n",
       "      <td>131.86</td>\n",
       "    </tr>\n",
       "    <tr>\n",
       "      <th>2015-05-29 00:00:00+00:00</th>\n",
       "      <td>Friday</td>\n",
       "      <td>130.280</td>\n",
       "      <td>131.450</td>\n",
       "      <td>129.9000</td>\n",
       "      <td>131.23</td>\n",
       "    </tr>\n",
       "    <tr>\n",
       "      <th>2015-06-01 00:00:00+00:00</th>\n",
       "      <td>Monday</td>\n",
       "      <td>130.535</td>\n",
       "      <td>131.390</td>\n",
       "      <td>130.0500</td>\n",
       "      <td>131.20</td>\n",
       "    </tr>\n",
       "    <tr>\n",
       "      <th>2015-06-02 00:00:00+00:00</th>\n",
       "      <td>Tuesday</td>\n",
       "      <td>129.960</td>\n",
       "      <td>130.655</td>\n",
       "      <td>129.3200</td>\n",
       "      <td>129.86</td>\n",
       "    </tr>\n",
       "    <tr>\n",
       "      <th>...</th>\n",
       "      <td>...</td>\n",
       "      <td>...</td>\n",
       "      <td>...</td>\n",
       "      <td>...</td>\n",
       "      <td>...</td>\n",
       "    </tr>\n",
       "    <tr>\n",
       "      <th>2020-05-18 00:00:00+00:00</th>\n",
       "      <td>Monday</td>\n",
       "      <td>314.960</td>\n",
       "      <td>316.500</td>\n",
       "      <td>310.3241</td>\n",
       "      <td>313.17</td>\n",
       "    </tr>\n",
       "    <tr>\n",
       "      <th>2020-05-19 00:00:00+00:00</th>\n",
       "      <td>Tuesday</td>\n",
       "      <td>313.140</td>\n",
       "      <td>318.520</td>\n",
       "      <td>313.0100</td>\n",
       "      <td>315.03</td>\n",
       "    </tr>\n",
       "    <tr>\n",
       "      <th>2020-05-20 00:00:00+00:00</th>\n",
       "      <td>Wednesday</td>\n",
       "      <td>319.230</td>\n",
       "      <td>319.520</td>\n",
       "      <td>316.2000</td>\n",
       "      <td>316.68</td>\n",
       "    </tr>\n",
       "    <tr>\n",
       "      <th>2020-05-21 00:00:00+00:00</th>\n",
       "      <td>Thursday</td>\n",
       "      <td>316.850</td>\n",
       "      <td>320.890</td>\n",
       "      <td>315.8700</td>\n",
       "      <td>318.66</td>\n",
       "    </tr>\n",
       "    <tr>\n",
       "      <th>2020-05-22 00:00:00+00:00</th>\n",
       "      <td>Friday</td>\n",
       "      <td>318.890</td>\n",
       "      <td>319.230</td>\n",
       "      <td>315.3500</td>\n",
       "      <td>315.77</td>\n",
       "    </tr>\n",
       "  </tbody>\n",
       "</table>\n",
       "<p>1258 rows × 5 columns</p>\n",
       "</div>"
      ],
      "text/plain": [
       "                                 day    close     high       low    open\n",
       "date                                                                    \n",
       "2015-05-27 00:00:00+00:00  Wednesday  132.045  132.260  130.0500  130.34\n",
       "2015-05-28 00:00:00+00:00   Thursday  131.780  131.950  131.1000  131.86\n",
       "2015-05-29 00:00:00+00:00     Friday  130.280  131.450  129.9000  131.23\n",
       "2015-06-01 00:00:00+00:00     Monday  130.535  131.390  130.0500  131.20\n",
       "2015-06-02 00:00:00+00:00    Tuesday  129.960  130.655  129.3200  129.86\n",
       "...                              ...      ...      ...       ...     ...\n",
       "2020-05-18 00:00:00+00:00     Monday  314.960  316.500  310.3241  313.17\n",
       "2020-05-19 00:00:00+00:00    Tuesday  313.140  318.520  313.0100  315.03\n",
       "2020-05-20 00:00:00+00:00  Wednesday  319.230  319.520  316.2000  316.68\n",
       "2020-05-21 00:00:00+00:00   Thursday  316.850  320.890  315.8700  318.66\n",
       "2020-05-22 00:00:00+00:00     Friday  318.890  319.230  315.3500  315.77\n",
       "\n",
       "[1258 rows x 5 columns]"
      ]
     },
     "execution_count": 266,
     "metadata": {},
     "output_type": "execute_result"
    }
   ],
   "source": [
    "days = apple_stocks.index.day_name()\n",
    "apple_stocks.insert(0, 'day', days)\n",
    "apple_stocks"
   ]
  },
  {
   "cell_type": "code",
   "execution_count": 267,
   "id": "3a6dcef2-1aa0-4367-b7bf-5999a147e4d8",
   "metadata": {},
   "outputs": [
    {
     "name": "stdout",
     "output_type": "stream",
     "text": [
      "<class 'pandas.core.frame.DataFrame'>\n",
      "DatetimeIndex: 1258 entries, 2015-05-27 00:00:00+00:00 to 2020-05-22 00:00:00+00:00\n",
      "Data columns (total 5 columns):\n",
      " #   Column  Non-Null Count  Dtype  \n",
      "---  ------  --------------  -----  \n",
      " 0   day     1258 non-null   object \n",
      " 1   close   1258 non-null   float64\n",
      " 2   high    1258 non-null   float64\n",
      " 3   low     1258 non-null   float64\n",
      " 4   open    1258 non-null   float64\n",
      "dtypes: float64(4), object(1)\n",
      "memory usage: 59.0+ KB\n"
     ]
    }
   ],
   "source": [
    "apple_stocks.info()"
   ]
  },
  {
   "cell_type": "code",
   "execution_count": 268,
   "id": "19c80e35-56c8-40f5-a427-af7c5d338bfe",
   "metadata": {},
   "outputs": [
    {
     "name": "stdout",
     "output_type": "stream",
     "text": [
      "<class 'pandas.core.frame.DataFrame'>\n",
      "RangeIndex: 1258 entries, 0 to 1257\n",
      "Data columns (total 5 columns):\n",
      " #   Column  Non-Null Count  Dtype              \n",
      "---  ------  --------------  -----              \n",
      " 0   date    1258 non-null   datetime64[ns, UTC]\n",
      " 1   close   1258 non-null   float64            \n",
      " 2   high    1258 non-null   float64            \n",
      " 3   low     1258 non-null   float64            \n",
      " 4   open    1258 non-null   float64            \n",
      "dtypes: datetime64[ns, UTC](1), float64(4)\n",
      "memory usage: 49.3 KB\n"
     ]
    }
   ],
   "source": [
    "apple_stocks = pd.read_csv('AAPL.csv', usecols=cols, parse_dates=['date'])\n",
    "apple_stocks.info()"
   ]
  },
  {
   "cell_type": "code",
   "execution_count": 269,
   "id": "77fc6b29-6e95-441a-a4ce-bf96ba96f824",
   "metadata": {},
   "outputs": [
    {
     "data": {
      "text/plain": [
       "0       27.05.2015__00:00__AM\n",
       "1       28.05.2015__00:00__AM\n",
       "2       29.05.2015__00:00__AM\n",
       "3       01.06.2015__00:00__AM\n",
       "4       02.06.2015__00:00__AM\n",
       "                ...          \n",
       "1253    18.05.2020__00:00__AM\n",
       "1254    19.05.2020__00:00__AM\n",
       "1255    20.05.2020__00:00__AM\n",
       "1256    21.05.2020__00:00__AM\n",
       "1257    22.05.2020__00:00__AM\n",
       "Name: date, Length: 1258, dtype: object"
      ]
     },
     "execution_count": 269,
     "metadata": {},
     "output_type": "execute_result"
    }
   ],
   "source": [
    "date = pd.to_datetime(apple_stocks['date'])\n",
    "new_format = date.dt.strftime('%d.%m.%Y__%H:%M__%p')\n",
    "new_format"
   ]
  },
  {
   "cell_type": "code",
   "execution_count": 270,
   "id": "bf35bef6-b221-45c5-97f2-38a96ddddbec",
   "metadata": {},
   "outputs": [
    {
     "data": {
      "text/html": [
       "<div>\n",
       "<style scoped>\n",
       "    .dataframe tbody tr th:only-of-type {\n",
       "        vertical-align: middle;\n",
       "    }\n",
       "\n",
       "    .dataframe tbody tr th {\n",
       "        vertical-align: top;\n",
       "    }\n",
       "\n",
       "    .dataframe thead th {\n",
       "        text-align: right;\n",
       "    }\n",
       "</style>\n",
       "<table border=\"1\" class=\"dataframe\">\n",
       "  <thead>\n",
       "    <tr style=\"text-align: right;\">\n",
       "      <th></th>\n",
       "      <th>close</th>\n",
       "      <th>high</th>\n",
       "      <th>low</th>\n",
       "      <th>open</th>\n",
       "    </tr>\n",
       "    <tr>\n",
       "      <th>date</th>\n",
       "      <th></th>\n",
       "      <th></th>\n",
       "      <th></th>\n",
       "      <th></th>\n",
       "    </tr>\n",
       "  </thead>\n",
       "  <tbody>\n",
       "    <tr>\n",
       "      <th>27.05.2015__00:00__AM</th>\n",
       "      <td>132.045</td>\n",
       "      <td>132.260</td>\n",
       "      <td>130.0500</td>\n",
       "      <td>130.34</td>\n",
       "    </tr>\n",
       "    <tr>\n",
       "      <th>28.05.2015__00:00__AM</th>\n",
       "      <td>131.780</td>\n",
       "      <td>131.950</td>\n",
       "      <td>131.1000</td>\n",
       "      <td>131.86</td>\n",
       "    </tr>\n",
       "    <tr>\n",
       "      <th>29.05.2015__00:00__AM</th>\n",
       "      <td>130.280</td>\n",
       "      <td>131.450</td>\n",
       "      <td>129.9000</td>\n",
       "      <td>131.23</td>\n",
       "    </tr>\n",
       "    <tr>\n",
       "      <th>01.06.2015__00:00__AM</th>\n",
       "      <td>130.535</td>\n",
       "      <td>131.390</td>\n",
       "      <td>130.0500</td>\n",
       "      <td>131.20</td>\n",
       "    </tr>\n",
       "    <tr>\n",
       "      <th>02.06.2015__00:00__AM</th>\n",
       "      <td>129.960</td>\n",
       "      <td>130.655</td>\n",
       "      <td>129.3200</td>\n",
       "      <td>129.86</td>\n",
       "    </tr>\n",
       "    <tr>\n",
       "      <th>...</th>\n",
       "      <td>...</td>\n",
       "      <td>...</td>\n",
       "      <td>...</td>\n",
       "      <td>...</td>\n",
       "    </tr>\n",
       "    <tr>\n",
       "      <th>18.05.2020__00:00__AM</th>\n",
       "      <td>314.960</td>\n",
       "      <td>316.500</td>\n",
       "      <td>310.3241</td>\n",
       "      <td>313.17</td>\n",
       "    </tr>\n",
       "    <tr>\n",
       "      <th>19.05.2020__00:00__AM</th>\n",
       "      <td>313.140</td>\n",
       "      <td>318.520</td>\n",
       "      <td>313.0100</td>\n",
       "      <td>315.03</td>\n",
       "    </tr>\n",
       "    <tr>\n",
       "      <th>20.05.2020__00:00__AM</th>\n",
       "      <td>319.230</td>\n",
       "      <td>319.520</td>\n",
       "      <td>316.2000</td>\n",
       "      <td>316.68</td>\n",
       "    </tr>\n",
       "    <tr>\n",
       "      <th>21.05.2020__00:00__AM</th>\n",
       "      <td>316.850</td>\n",
       "      <td>320.890</td>\n",
       "      <td>315.8700</td>\n",
       "      <td>318.66</td>\n",
       "    </tr>\n",
       "    <tr>\n",
       "      <th>22.05.2020__00:00__AM</th>\n",
       "      <td>318.890</td>\n",
       "      <td>319.230</td>\n",
       "      <td>315.3500</td>\n",
       "      <td>315.77</td>\n",
       "    </tr>\n",
       "  </tbody>\n",
       "</table>\n",
       "<p>1258 rows × 4 columns</p>\n",
       "</div>"
      ],
      "text/plain": [
       "                         close     high       low    open\n",
       "date                                                     \n",
       "27.05.2015__00:00__AM  132.045  132.260  130.0500  130.34\n",
       "28.05.2015__00:00__AM  131.780  131.950  131.1000  131.86\n",
       "29.05.2015__00:00__AM  130.280  131.450  129.9000  131.23\n",
       "01.06.2015__00:00__AM  130.535  131.390  130.0500  131.20\n",
       "02.06.2015__00:00__AM  129.960  130.655  129.3200  129.86\n",
       "...                        ...      ...       ...     ...\n",
       "18.05.2020__00:00__AM  314.960  316.500  310.3241  313.17\n",
       "19.05.2020__00:00__AM  313.140  318.520  313.0100  315.03\n",
       "20.05.2020__00:00__AM  319.230  319.520  316.2000  316.68\n",
       "21.05.2020__00:00__AM  316.850  320.890  315.8700  318.66\n",
       "22.05.2020__00:00__AM  318.890  319.230  315.3500  315.77\n",
       "\n",
       "[1258 rows x 4 columns]"
      ]
     },
     "execution_count": 270,
     "metadata": {},
     "output_type": "execute_result"
    }
   ],
   "source": [
    "apple_stocks.set_index(new_format, inplace=True)\n",
    "apple_stocks.drop(columns='date', inplace=True)\n",
    "apple_stocks"
   ]
  },
  {
   "cell_type": "code",
   "execution_count": 271,
   "id": "18db2fe1-f095-4c85-83e3-5c0f506a9615",
   "metadata": {},
   "outputs": [],
   "source": [
    "apple_stocks.to_csv('bad_apple.csv')"
   ]
  },
  {
   "cell_type": "code",
   "execution_count": 272,
   "id": "68aa64ce-8efe-40f1-909d-2abf25e232c3",
   "metadata": {},
   "outputs": [
    {
     "name": "stderr",
     "output_type": "stream",
     "text": [
      "C:\\Users\\maniu\\AppData\\Local\\Temp\\ipykernel_18192\\882307715.py:1: UserWarning: Could not infer format, so each element will be parsed individually, falling back to `dateutil`. To ensure parsing is consistent and as-expected, please specify a format.\n",
      "  bad_apple = pd.read_csv('bad_apple.csv', parse_dates=['date'])\n"
     ]
    },
    {
     "data": {
      "text/html": [
       "<div>\n",
       "<style scoped>\n",
       "    .dataframe tbody tr th:only-of-type {\n",
       "        vertical-align: middle;\n",
       "    }\n",
       "\n",
       "    .dataframe tbody tr th {\n",
       "        vertical-align: top;\n",
       "    }\n",
       "\n",
       "    .dataframe thead th {\n",
       "        text-align: right;\n",
       "    }\n",
       "</style>\n",
       "<table border=\"1\" class=\"dataframe\">\n",
       "  <thead>\n",
       "    <tr style=\"text-align: right;\">\n",
       "      <th></th>\n",
       "      <th>date</th>\n",
       "      <th>close</th>\n",
       "      <th>high</th>\n",
       "      <th>low</th>\n",
       "      <th>open</th>\n",
       "    </tr>\n",
       "  </thead>\n",
       "  <tbody>\n",
       "    <tr>\n",
       "      <th>0</th>\n",
       "      <td>27.05.2015__00:00__AM</td>\n",
       "      <td>132.045</td>\n",
       "      <td>132.260</td>\n",
       "      <td>130.0500</td>\n",
       "      <td>130.34</td>\n",
       "    </tr>\n",
       "    <tr>\n",
       "      <th>1</th>\n",
       "      <td>28.05.2015__00:00__AM</td>\n",
       "      <td>131.780</td>\n",
       "      <td>131.950</td>\n",
       "      <td>131.1000</td>\n",
       "      <td>131.86</td>\n",
       "    </tr>\n",
       "    <tr>\n",
       "      <th>2</th>\n",
       "      <td>29.05.2015__00:00__AM</td>\n",
       "      <td>130.280</td>\n",
       "      <td>131.450</td>\n",
       "      <td>129.9000</td>\n",
       "      <td>131.23</td>\n",
       "    </tr>\n",
       "    <tr>\n",
       "      <th>3</th>\n",
       "      <td>01.06.2015__00:00__AM</td>\n",
       "      <td>130.535</td>\n",
       "      <td>131.390</td>\n",
       "      <td>130.0500</td>\n",
       "      <td>131.20</td>\n",
       "    </tr>\n",
       "    <tr>\n",
       "      <th>4</th>\n",
       "      <td>02.06.2015__00:00__AM</td>\n",
       "      <td>129.960</td>\n",
       "      <td>130.655</td>\n",
       "      <td>129.3200</td>\n",
       "      <td>129.86</td>\n",
       "    </tr>\n",
       "    <tr>\n",
       "      <th>...</th>\n",
       "      <td>...</td>\n",
       "      <td>...</td>\n",
       "      <td>...</td>\n",
       "      <td>...</td>\n",
       "      <td>...</td>\n",
       "    </tr>\n",
       "    <tr>\n",
       "      <th>1253</th>\n",
       "      <td>18.05.2020__00:00__AM</td>\n",
       "      <td>314.960</td>\n",
       "      <td>316.500</td>\n",
       "      <td>310.3241</td>\n",
       "      <td>313.17</td>\n",
       "    </tr>\n",
       "    <tr>\n",
       "      <th>1254</th>\n",
       "      <td>19.05.2020__00:00__AM</td>\n",
       "      <td>313.140</td>\n",
       "      <td>318.520</td>\n",
       "      <td>313.0100</td>\n",
       "      <td>315.03</td>\n",
       "    </tr>\n",
       "    <tr>\n",
       "      <th>1255</th>\n",
       "      <td>20.05.2020__00:00__AM</td>\n",
       "      <td>319.230</td>\n",
       "      <td>319.520</td>\n",
       "      <td>316.2000</td>\n",
       "      <td>316.68</td>\n",
       "    </tr>\n",
       "    <tr>\n",
       "      <th>1256</th>\n",
       "      <td>21.05.2020__00:00__AM</td>\n",
       "      <td>316.850</td>\n",
       "      <td>320.890</td>\n",
       "      <td>315.8700</td>\n",
       "      <td>318.66</td>\n",
       "    </tr>\n",
       "    <tr>\n",
       "      <th>1257</th>\n",
       "      <td>22.05.2020__00:00__AM</td>\n",
       "      <td>318.890</td>\n",
       "      <td>319.230</td>\n",
       "      <td>315.3500</td>\n",
       "      <td>315.77</td>\n",
       "    </tr>\n",
       "  </tbody>\n",
       "</table>\n",
       "<p>1258 rows × 5 columns</p>\n",
       "</div>"
      ],
      "text/plain": [
       "                       date    close     high       low    open\n",
       "0     27.05.2015__00:00__AM  132.045  132.260  130.0500  130.34\n",
       "1     28.05.2015__00:00__AM  131.780  131.950  131.1000  131.86\n",
       "2     29.05.2015__00:00__AM  130.280  131.450  129.9000  131.23\n",
       "3     01.06.2015__00:00__AM  130.535  131.390  130.0500  131.20\n",
       "4     02.06.2015__00:00__AM  129.960  130.655  129.3200  129.86\n",
       "...                     ...      ...      ...       ...     ...\n",
       "1253  18.05.2020__00:00__AM  314.960  316.500  310.3241  313.17\n",
       "1254  19.05.2020__00:00__AM  313.140  318.520  313.0100  315.03\n",
       "1255  20.05.2020__00:00__AM  319.230  319.520  316.2000  316.68\n",
       "1256  21.05.2020__00:00__AM  316.850  320.890  315.8700  318.66\n",
       "1257  22.05.2020__00:00__AM  318.890  319.230  315.3500  315.77\n",
       "\n",
       "[1258 rows x 5 columns]"
      ]
     },
     "execution_count": 272,
     "metadata": {},
     "output_type": "execute_result"
    }
   ],
   "source": [
    "bad_apple = pd.read_csv('bad_apple.csv', parse_dates=['date'])\n",
    "bad_apple"
   ]
  },
  {
   "cell_type": "code",
   "execution_count": 273,
   "id": "f8b57958-d820-4a8d-a175-bf7e818f7642",
   "metadata": {},
   "outputs": [
    {
     "name": "stderr",
     "output_type": "stream",
     "text": [
      "C:\\Users\\maniu\\AppData\\Local\\Temp\\ipykernel_18192\\2503795379.py:1: UserWarning: Could not infer format, so each element will be parsed individually, falling back to `dateutil`. To ensure parsing is consistent and as-expected, please specify a format.\n",
      "  pd.to_datetime(bad_apple['date']) # it won't work\n"
     ]
    },
    {
     "ename": "DateParseError",
     "evalue": "Unknown datetime string format, unable to parse: 27.05.2015__00:00__AM, at position 0",
     "output_type": "error",
     "traceback": [
      "\u001b[1;31m---------------------------------------------------------------------------\u001b[0m",
      "\u001b[1;31mDateParseError\u001b[0m                            Traceback (most recent call last)",
      "Cell \u001b[1;32mIn[273], line 1\u001b[0m\n\u001b[1;32m----> 1\u001b[0m pd\u001b[38;5;241m.\u001b[39mto_datetime(bad_apple[\u001b[38;5;124m'\u001b[39m\u001b[38;5;124mdate\u001b[39m\u001b[38;5;124m'\u001b[39m])\n",
      "File \u001b[1;32m~\\AppData\\Local\\anaconda3\\Lib\\site-packages\\pandas\\core\\tools\\datetimes.py:1067\u001b[0m, in \u001b[0;36mto_datetime\u001b[1;34m(arg, errors, dayfirst, yearfirst, utc, format, exact, unit, infer_datetime_format, origin, cache)\u001b[0m\n\u001b[0;32m   1065\u001b[0m         result \u001b[38;5;241m=\u001b[39m arg\u001b[38;5;241m.\u001b[39mmap(cache_array)\n\u001b[0;32m   1066\u001b[0m     \u001b[38;5;28;01melse\u001b[39;00m:\n\u001b[1;32m-> 1067\u001b[0m         values \u001b[38;5;241m=\u001b[39m convert_listlike(arg\u001b[38;5;241m.\u001b[39m_values, \u001b[38;5;28mformat\u001b[39m)\n\u001b[0;32m   1068\u001b[0m         result \u001b[38;5;241m=\u001b[39m arg\u001b[38;5;241m.\u001b[39m_constructor(values, index\u001b[38;5;241m=\u001b[39marg\u001b[38;5;241m.\u001b[39mindex, name\u001b[38;5;241m=\u001b[39marg\u001b[38;5;241m.\u001b[39mname)\n\u001b[0;32m   1069\u001b[0m \u001b[38;5;28;01melif\u001b[39;00m \u001b[38;5;28misinstance\u001b[39m(arg, (ABCDataFrame, abc\u001b[38;5;241m.\u001b[39mMutableMapping)):\n",
      "File \u001b[1;32m~\\AppData\\Local\\anaconda3\\Lib\\site-packages\\pandas\\core\\tools\\datetimes.py:435\u001b[0m, in \u001b[0;36m_convert_listlike_datetimes\u001b[1;34m(arg, format, name, utc, unit, errors, dayfirst, yearfirst, exact)\u001b[0m\n\u001b[0;32m    432\u001b[0m \u001b[38;5;28;01mif\u001b[39;00m \u001b[38;5;28mformat\u001b[39m \u001b[38;5;129;01mis\u001b[39;00m \u001b[38;5;129;01mnot\u001b[39;00m \u001b[38;5;28;01mNone\u001b[39;00m \u001b[38;5;129;01mand\u001b[39;00m \u001b[38;5;28mformat\u001b[39m \u001b[38;5;241m!=\u001b[39m \u001b[38;5;124m\"\u001b[39m\u001b[38;5;124mmixed\u001b[39m\u001b[38;5;124m\"\u001b[39m:\n\u001b[0;32m    433\u001b[0m     \u001b[38;5;28;01mreturn\u001b[39;00m _array_strptime_with_fallback(arg, name, utc, \u001b[38;5;28mformat\u001b[39m, exact, errors)\n\u001b[1;32m--> 435\u001b[0m result, tz_parsed \u001b[38;5;241m=\u001b[39m objects_to_datetime64(\n\u001b[0;32m    436\u001b[0m     arg,\n\u001b[0;32m    437\u001b[0m     dayfirst\u001b[38;5;241m=\u001b[39mdayfirst,\n\u001b[0;32m    438\u001b[0m     yearfirst\u001b[38;5;241m=\u001b[39myearfirst,\n\u001b[0;32m    439\u001b[0m     utc\u001b[38;5;241m=\u001b[39mutc,\n\u001b[0;32m    440\u001b[0m     errors\u001b[38;5;241m=\u001b[39merrors,\n\u001b[0;32m    441\u001b[0m     allow_object\u001b[38;5;241m=\u001b[39m\u001b[38;5;28;01mTrue\u001b[39;00m,\n\u001b[0;32m    442\u001b[0m )\n\u001b[0;32m    444\u001b[0m \u001b[38;5;28;01mif\u001b[39;00m tz_parsed \u001b[38;5;129;01mis\u001b[39;00m \u001b[38;5;129;01mnot\u001b[39;00m \u001b[38;5;28;01mNone\u001b[39;00m:\n\u001b[0;32m    445\u001b[0m     \u001b[38;5;66;03m# We can take a shortcut since the datetime64 numpy array\u001b[39;00m\n\u001b[0;32m    446\u001b[0m     \u001b[38;5;66;03m# is in UTC\u001b[39;00m\n\u001b[0;32m    447\u001b[0m     out_unit \u001b[38;5;241m=\u001b[39m np\u001b[38;5;241m.\u001b[39mdatetime_data(result\u001b[38;5;241m.\u001b[39mdtype)[\u001b[38;5;241m0\u001b[39m]\n",
      "File \u001b[1;32m~\\AppData\\Local\\anaconda3\\Lib\\site-packages\\pandas\\core\\arrays\\datetimes.py:2398\u001b[0m, in \u001b[0;36mobjects_to_datetime64\u001b[1;34m(data, dayfirst, yearfirst, utc, errors, allow_object, out_unit)\u001b[0m\n\u001b[0;32m   2395\u001b[0m \u001b[38;5;66;03m# if str-dtype, convert\u001b[39;00m\n\u001b[0;32m   2396\u001b[0m data \u001b[38;5;241m=\u001b[39m np\u001b[38;5;241m.\u001b[39masarray(data, dtype\u001b[38;5;241m=\u001b[39mnp\u001b[38;5;241m.\u001b[39mobject_)\n\u001b[1;32m-> 2398\u001b[0m result, tz_parsed \u001b[38;5;241m=\u001b[39m tslib\u001b[38;5;241m.\u001b[39marray_to_datetime(\n\u001b[0;32m   2399\u001b[0m     data,\n\u001b[0;32m   2400\u001b[0m     errors\u001b[38;5;241m=\u001b[39merrors,\n\u001b[0;32m   2401\u001b[0m     utc\u001b[38;5;241m=\u001b[39mutc,\n\u001b[0;32m   2402\u001b[0m     dayfirst\u001b[38;5;241m=\u001b[39mdayfirst,\n\u001b[0;32m   2403\u001b[0m     yearfirst\u001b[38;5;241m=\u001b[39myearfirst,\n\u001b[0;32m   2404\u001b[0m     creso\u001b[38;5;241m=\u001b[39mabbrev_to_npy_unit(out_unit),\n\u001b[0;32m   2405\u001b[0m )\n\u001b[0;32m   2407\u001b[0m \u001b[38;5;28;01mif\u001b[39;00m tz_parsed \u001b[38;5;129;01mis\u001b[39;00m \u001b[38;5;129;01mnot\u001b[39;00m \u001b[38;5;28;01mNone\u001b[39;00m:\n\u001b[0;32m   2408\u001b[0m     \u001b[38;5;66;03m# We can take a shortcut since the datetime64 numpy array\u001b[39;00m\n\u001b[0;32m   2409\u001b[0m     \u001b[38;5;66;03m#  is in UTC\u001b[39;00m\n\u001b[0;32m   2410\u001b[0m     \u001b[38;5;28;01mreturn\u001b[39;00m result, tz_parsed\n",
      "File \u001b[1;32mtslib.pyx:414\u001b[0m, in \u001b[0;36mpandas._libs.tslib.array_to_datetime\u001b[1;34m()\u001b[0m\n",
      "File \u001b[1;32mtslib.pyx:596\u001b[0m, in \u001b[0;36mpandas._libs.tslib.array_to_datetime\u001b[1;34m()\u001b[0m\n",
      "File \u001b[1;32mtslib.pyx:553\u001b[0m, in \u001b[0;36mpandas._libs.tslib.array_to_datetime\u001b[1;34m()\u001b[0m\n",
      "File \u001b[1;32mconversion.pyx:641\u001b[0m, in \u001b[0;36mpandas._libs.tslibs.conversion.convert_str_to_tsobject\u001b[1;34m()\u001b[0m\n",
      "File \u001b[1;32mparsing.pyx:336\u001b[0m, in \u001b[0;36mpandas._libs.tslibs.parsing.parse_datetime_string\u001b[1;34m()\u001b[0m\n",
      "File \u001b[1;32mparsing.pyx:666\u001b[0m, in \u001b[0;36mpandas._libs.tslibs.parsing.dateutil_parse\u001b[1;34m()\u001b[0m\n",
      "\u001b[1;31mDateParseError\u001b[0m: Unknown datetime string format, unable to parse: 27.05.2015__00:00__AM, at position 0"
     ]
    }
   ],
   "source": [
    "pd.to_datetime(bad_apple['date']) # it won't work"
   ]
  },
  {
   "cell_type": "code",
   "execution_count": 274,
   "id": "56ba08e6-fe96-4cab-94fe-d8934d447204",
   "metadata": {},
   "outputs": [
    {
     "data": {
      "text/plain": [
       "0      2015-05-27\n",
       "1      2015-05-28\n",
       "2      2015-05-29\n",
       "3      2015-06-01\n",
       "4      2015-06-02\n",
       "          ...    \n",
       "1253   2020-05-18\n",
       "1254   2020-05-19\n",
       "1255   2020-05-20\n",
       "1256   2020-05-21\n",
       "1257   2020-05-22\n",
       "Name: date, Length: 1258, dtype: datetime64[ns]"
      ]
     },
     "execution_count": 274,
     "metadata": {},
     "output_type": "execute_result"
    }
   ],
   "source": [
    "good_dates = pd.to_datetime(bad_apple['date'], format='%d.%m.%Y__%H:%M__%p')\n",
    "good_dates                            "
   ]
  },
  {
   "cell_type": "code",
   "execution_count": 275,
   "id": "285d3554-6542-459d-bef1-bc165de12c0a",
   "metadata": {},
   "outputs": [
    {
     "data": {
      "text/html": [
       "<div>\n",
       "<style scoped>\n",
       "    .dataframe tbody tr th:only-of-type {\n",
       "        vertical-align: middle;\n",
       "    }\n",
       "\n",
       "    .dataframe tbody tr th {\n",
       "        vertical-align: top;\n",
       "    }\n",
       "\n",
       "    .dataframe thead th {\n",
       "        text-align: right;\n",
       "    }\n",
       "</style>\n",
       "<table border=\"1\" class=\"dataframe\">\n",
       "  <thead>\n",
       "    <tr style=\"text-align: right;\">\n",
       "      <th></th>\n",
       "      <th>close</th>\n",
       "      <th>high</th>\n",
       "      <th>low</th>\n",
       "      <th>open</th>\n",
       "    </tr>\n",
       "    <tr>\n",
       "      <th>date</th>\n",
       "      <th></th>\n",
       "      <th></th>\n",
       "      <th></th>\n",
       "      <th></th>\n",
       "    </tr>\n",
       "  </thead>\n",
       "  <tbody>\n",
       "    <tr>\n",
       "      <th>2015-05-27</th>\n",
       "      <td>132.045</td>\n",
       "      <td>132.260</td>\n",
       "      <td>130.0500</td>\n",
       "      <td>130.34</td>\n",
       "    </tr>\n",
       "    <tr>\n",
       "      <th>2015-05-28</th>\n",
       "      <td>131.780</td>\n",
       "      <td>131.950</td>\n",
       "      <td>131.1000</td>\n",
       "      <td>131.86</td>\n",
       "    </tr>\n",
       "    <tr>\n",
       "      <th>2015-05-29</th>\n",
       "      <td>130.280</td>\n",
       "      <td>131.450</td>\n",
       "      <td>129.9000</td>\n",
       "      <td>131.23</td>\n",
       "    </tr>\n",
       "    <tr>\n",
       "      <th>2015-06-01</th>\n",
       "      <td>130.535</td>\n",
       "      <td>131.390</td>\n",
       "      <td>130.0500</td>\n",
       "      <td>131.20</td>\n",
       "    </tr>\n",
       "    <tr>\n",
       "      <th>2015-06-02</th>\n",
       "      <td>129.960</td>\n",
       "      <td>130.655</td>\n",
       "      <td>129.3200</td>\n",
       "      <td>129.86</td>\n",
       "    </tr>\n",
       "    <tr>\n",
       "      <th>...</th>\n",
       "      <td>...</td>\n",
       "      <td>...</td>\n",
       "      <td>...</td>\n",
       "      <td>...</td>\n",
       "    </tr>\n",
       "    <tr>\n",
       "      <th>2020-05-18</th>\n",
       "      <td>314.960</td>\n",
       "      <td>316.500</td>\n",
       "      <td>310.3241</td>\n",
       "      <td>313.17</td>\n",
       "    </tr>\n",
       "    <tr>\n",
       "      <th>2020-05-19</th>\n",
       "      <td>313.140</td>\n",
       "      <td>318.520</td>\n",
       "      <td>313.0100</td>\n",
       "      <td>315.03</td>\n",
       "    </tr>\n",
       "    <tr>\n",
       "      <th>2020-05-20</th>\n",
       "      <td>319.230</td>\n",
       "      <td>319.520</td>\n",
       "      <td>316.2000</td>\n",
       "      <td>316.68</td>\n",
       "    </tr>\n",
       "    <tr>\n",
       "      <th>2020-05-21</th>\n",
       "      <td>316.850</td>\n",
       "      <td>320.890</td>\n",
       "      <td>315.8700</td>\n",
       "      <td>318.66</td>\n",
       "    </tr>\n",
       "    <tr>\n",
       "      <th>2020-05-22</th>\n",
       "      <td>318.890</td>\n",
       "      <td>319.230</td>\n",
       "      <td>315.3500</td>\n",
       "      <td>315.77</td>\n",
       "    </tr>\n",
       "  </tbody>\n",
       "</table>\n",
       "<p>1258 rows × 4 columns</p>\n",
       "</div>"
      ],
      "text/plain": [
       "              close     high       low    open\n",
       "date                                          \n",
       "2015-05-27  132.045  132.260  130.0500  130.34\n",
       "2015-05-28  131.780  131.950  131.1000  131.86\n",
       "2015-05-29  130.280  131.450  129.9000  131.23\n",
       "2015-06-01  130.535  131.390  130.0500  131.20\n",
       "2015-06-02  129.960  130.655  129.3200  129.86\n",
       "...             ...      ...       ...     ...\n",
       "2020-05-18  314.960  316.500  310.3241  313.17\n",
       "2020-05-19  313.140  318.520  313.0100  315.03\n",
       "2020-05-20  319.230  319.520  316.2000  316.68\n",
       "2020-05-21  316.850  320.890  315.8700  318.66\n",
       "2020-05-22  318.890  319.230  315.3500  315.77\n",
       "\n",
       "[1258 rows x 4 columns]"
      ]
     },
     "execution_count": 275,
     "metadata": {},
     "output_type": "execute_result"
    }
   ],
   "source": [
    "bad_apple.set_index(good_dates, inplace=True)\n",
    "bad_apple.drop(columns='date', inplace=True)\n",
    "bad_apple"
   ]
  },
  {
   "cell_type": "code",
   "execution_count": 276,
   "id": "63433056-e5ce-4405-9d65-2715cf3c0de6",
   "metadata": {},
   "outputs": [
    {
     "data": {
      "text/html": [
       "<div>\n",
       "<style scoped>\n",
       "    .dataframe tbody tr th:only-of-type {\n",
       "        vertical-align: middle;\n",
       "    }\n",
       "\n",
       "    .dataframe tbody tr th {\n",
       "        vertical-align: top;\n",
       "    }\n",
       "\n",
       "    .dataframe thead th {\n",
       "        text-align: right;\n",
       "    }\n",
       "</style>\n",
       "<table border=\"1\" class=\"dataframe\">\n",
       "  <thead>\n",
       "    <tr style=\"text-align: right;\">\n",
       "      <th></th>\n",
       "      <th>close</th>\n",
       "      <th>high</th>\n",
       "      <th>low</th>\n",
       "      <th>open</th>\n",
       "    </tr>\n",
       "    <tr>\n",
       "      <th>date</th>\n",
       "      <th></th>\n",
       "      <th></th>\n",
       "      <th></th>\n",
       "      <th></th>\n",
       "    </tr>\n",
       "  </thead>\n",
       "  <tbody>\n",
       "    <tr>\n",
       "      <th>2015-05-27 00:00:00+00:00</th>\n",
       "      <td>132.045</td>\n",
       "      <td>132.260</td>\n",
       "      <td>130.0500</td>\n",
       "      <td>130.34</td>\n",
       "    </tr>\n",
       "    <tr>\n",
       "      <th>2015-05-28 00:00:00+00:00</th>\n",
       "      <td>131.780</td>\n",
       "      <td>131.950</td>\n",
       "      <td>131.1000</td>\n",
       "      <td>131.86</td>\n",
       "    </tr>\n",
       "    <tr>\n",
       "      <th>2015-05-29 00:00:00+00:00</th>\n",
       "      <td>130.280</td>\n",
       "      <td>131.450</td>\n",
       "      <td>129.9000</td>\n",
       "      <td>131.23</td>\n",
       "    </tr>\n",
       "    <tr>\n",
       "      <th>2015-06-01 00:00:00+00:00</th>\n",
       "      <td>130.535</td>\n",
       "      <td>131.390</td>\n",
       "      <td>130.0500</td>\n",
       "      <td>131.20</td>\n",
       "    </tr>\n",
       "    <tr>\n",
       "      <th>2015-06-02 00:00:00+00:00</th>\n",
       "      <td>129.960</td>\n",
       "      <td>130.655</td>\n",
       "      <td>129.3200</td>\n",
       "      <td>129.86</td>\n",
       "    </tr>\n",
       "    <tr>\n",
       "      <th>...</th>\n",
       "      <td>...</td>\n",
       "      <td>...</td>\n",
       "      <td>...</td>\n",
       "      <td>...</td>\n",
       "    </tr>\n",
       "    <tr>\n",
       "      <th>2020-05-18 00:00:00+00:00</th>\n",
       "      <td>314.960</td>\n",
       "      <td>316.500</td>\n",
       "      <td>310.3241</td>\n",
       "      <td>313.17</td>\n",
       "    </tr>\n",
       "    <tr>\n",
       "      <th>2020-05-19 00:00:00+00:00</th>\n",
       "      <td>313.140</td>\n",
       "      <td>318.520</td>\n",
       "      <td>313.0100</td>\n",
       "      <td>315.03</td>\n",
       "    </tr>\n",
       "    <tr>\n",
       "      <th>2020-05-20 00:00:00+00:00</th>\n",
       "      <td>319.230</td>\n",
       "      <td>319.520</td>\n",
       "      <td>316.2000</td>\n",
       "      <td>316.68</td>\n",
       "    </tr>\n",
       "    <tr>\n",
       "      <th>2020-05-21 00:00:00+00:00</th>\n",
       "      <td>316.850</td>\n",
       "      <td>320.890</td>\n",
       "      <td>315.8700</td>\n",
       "      <td>318.66</td>\n",
       "    </tr>\n",
       "    <tr>\n",
       "      <th>2020-05-22 00:00:00+00:00</th>\n",
       "      <td>318.890</td>\n",
       "      <td>319.230</td>\n",
       "      <td>315.3500</td>\n",
       "      <td>315.77</td>\n",
       "    </tr>\n",
       "  </tbody>\n",
       "</table>\n",
       "<p>1258 rows × 4 columns</p>\n",
       "</div>"
      ],
      "text/plain": [
       "                             close     high       low    open\n",
       "date                                                         \n",
       "2015-05-27 00:00:00+00:00  132.045  132.260  130.0500  130.34\n",
       "2015-05-28 00:00:00+00:00  131.780  131.950  131.1000  131.86\n",
       "2015-05-29 00:00:00+00:00  130.280  131.450  129.9000  131.23\n",
       "2015-06-01 00:00:00+00:00  130.535  131.390  130.0500  131.20\n",
       "2015-06-02 00:00:00+00:00  129.960  130.655  129.3200  129.86\n",
       "...                            ...      ...       ...     ...\n",
       "2020-05-18 00:00:00+00:00  314.960  316.500  310.3241  313.17\n",
       "2020-05-19 00:00:00+00:00  313.140  318.520  313.0100  315.03\n",
       "2020-05-20 00:00:00+00:00  319.230  319.520  316.2000  316.68\n",
       "2020-05-21 00:00:00+00:00  316.850  320.890  315.8700  318.66\n",
       "2020-05-22 00:00:00+00:00  318.890  319.230  315.3500  315.77\n",
       "\n",
       "[1258 rows x 4 columns]"
      ]
     },
     "execution_count": 276,
     "metadata": {},
     "output_type": "execute_result"
    }
   ],
   "source": [
    "apple_stocks = pd.read_csv('AAPL.csv', usecols=cols, parse_dates=['date'], index_col='date')\n",
    "apple_stocks"
   ]
  },
  {
   "cell_type": "code",
   "execution_count": 277,
   "id": "e6b7780c-22a0-49ec-955c-505b0a486477",
   "metadata": {},
   "outputs": [
    {
     "data": {
      "text/plain": [
       "close    132.045\n",
       "high     132.260\n",
       "low      130.050\n",
       "open     130.340\n",
       "Name: 2015-05-27 00:00:00+00:00, dtype: float64"
      ]
     },
     "execution_count": 277,
     "metadata": {},
     "output_type": "execute_result"
    }
   ],
   "source": [
    "apple_stocks.iloc[0]"
   ]
  },
  {
   "cell_type": "code",
   "execution_count": 278,
   "id": "dab71c9d-4067-4c7e-96b9-b15bd85f443b",
   "metadata": {},
   "outputs": [
    {
     "data": {
      "text/html": [
       "<div>\n",
       "<style scoped>\n",
       "    .dataframe tbody tr th:only-of-type {\n",
       "        vertical-align: middle;\n",
       "    }\n",
       "\n",
       "    .dataframe tbody tr th {\n",
       "        vertical-align: top;\n",
       "    }\n",
       "\n",
       "    .dataframe thead th {\n",
       "        text-align: right;\n",
       "    }\n",
       "</style>\n",
       "<table border=\"1\" class=\"dataframe\">\n",
       "  <thead>\n",
       "    <tr style=\"text-align: right;\">\n",
       "      <th></th>\n",
       "      <th>close</th>\n",
       "      <th>high</th>\n",
       "      <th>low</th>\n",
       "      <th>open</th>\n",
       "    </tr>\n",
       "    <tr>\n",
       "      <th>date</th>\n",
       "      <th></th>\n",
       "      <th></th>\n",
       "      <th></th>\n",
       "      <th></th>\n",
       "    </tr>\n",
       "  </thead>\n",
       "  <tbody>\n",
       "    <tr>\n",
       "      <th>2015-05-27 00:00:00+00:00</th>\n",
       "      <td>132.045</td>\n",
       "      <td>132.260</td>\n",
       "      <td>130.05</td>\n",
       "      <td>130.34</td>\n",
       "    </tr>\n",
       "    <tr>\n",
       "      <th>2015-05-28 00:00:00+00:00</th>\n",
       "      <td>131.780</td>\n",
       "      <td>131.950</td>\n",
       "      <td>131.10</td>\n",
       "      <td>131.86</td>\n",
       "    </tr>\n",
       "    <tr>\n",
       "      <th>2015-05-29 00:00:00+00:00</th>\n",
       "      <td>130.280</td>\n",
       "      <td>131.450</td>\n",
       "      <td>129.90</td>\n",
       "      <td>131.23</td>\n",
       "    </tr>\n",
       "    <tr>\n",
       "      <th>2015-06-01 00:00:00+00:00</th>\n",
       "      <td>130.535</td>\n",
       "      <td>131.390</td>\n",
       "      <td>130.05</td>\n",
       "      <td>131.20</td>\n",
       "    </tr>\n",
       "    <tr>\n",
       "      <th>2015-06-02 00:00:00+00:00</th>\n",
       "      <td>129.960</td>\n",
       "      <td>130.655</td>\n",
       "      <td>129.32</td>\n",
       "      <td>129.86</td>\n",
       "    </tr>\n",
       "  </tbody>\n",
       "</table>\n",
       "</div>"
      ],
      "text/plain": [
       "                             close     high     low    open\n",
       "date                                                       \n",
       "2015-05-27 00:00:00+00:00  132.045  132.260  130.05  130.34\n",
       "2015-05-28 00:00:00+00:00  131.780  131.950  131.10  131.86\n",
       "2015-05-29 00:00:00+00:00  130.280  131.450  129.90  131.23\n",
       "2015-06-01 00:00:00+00:00  130.535  131.390  130.05  131.20\n",
       "2015-06-02 00:00:00+00:00  129.960  130.655  129.32  129.86"
      ]
     },
     "execution_count": 278,
     "metadata": {},
     "output_type": "execute_result"
    }
   ],
   "source": [
    "apple_stocks.iloc[0:5]"
   ]
  },
  {
   "cell_type": "code",
   "execution_count": 279,
   "id": "2c6b2e18-2341-42cb-a461-d58b34d78adf",
   "metadata": {},
   "outputs": [
    {
     "data": {
      "text/html": [
       "<div>\n",
       "<style scoped>\n",
       "    .dataframe tbody tr th:only-of-type {\n",
       "        vertical-align: middle;\n",
       "    }\n",
       "\n",
       "    .dataframe tbody tr th {\n",
       "        vertical-align: top;\n",
       "    }\n",
       "\n",
       "    .dataframe thead th {\n",
       "        text-align: right;\n",
       "    }\n",
       "</style>\n",
       "<table border=\"1\" class=\"dataframe\">\n",
       "  <thead>\n",
       "    <tr style=\"text-align: right;\">\n",
       "      <th></th>\n",
       "      <th>close</th>\n",
       "      <th>high</th>\n",
       "      <th>low</th>\n",
       "      <th>open</th>\n",
       "    </tr>\n",
       "    <tr>\n",
       "      <th>date</th>\n",
       "      <th></th>\n",
       "      <th></th>\n",
       "      <th></th>\n",
       "      <th></th>\n",
       "    </tr>\n",
       "  </thead>\n",
       "  <tbody>\n",
       "    <tr>\n",
       "      <th>2015-05-27 00:00:00+00:00</th>\n",
       "      <td>132.045</td>\n",
       "      <td>132.260</td>\n",
       "      <td>130.05</td>\n",
       "      <td>130.34</td>\n",
       "    </tr>\n",
       "    <tr>\n",
       "      <th>2015-05-28 00:00:00+00:00</th>\n",
       "      <td>131.780</td>\n",
       "      <td>131.950</td>\n",
       "      <td>131.10</td>\n",
       "      <td>131.86</td>\n",
       "    </tr>\n",
       "    <tr>\n",
       "      <th>2015-05-29 00:00:00+00:00</th>\n",
       "      <td>130.280</td>\n",
       "      <td>131.450</td>\n",
       "      <td>129.90</td>\n",
       "      <td>131.23</td>\n",
       "    </tr>\n",
       "    <tr>\n",
       "      <th>2015-06-01 00:00:00+00:00</th>\n",
       "      <td>130.535</td>\n",
       "      <td>131.390</td>\n",
       "      <td>130.05</td>\n",
       "      <td>131.20</td>\n",
       "    </tr>\n",
       "    <tr>\n",
       "      <th>2015-06-02 00:00:00+00:00</th>\n",
       "      <td>129.960</td>\n",
       "      <td>130.655</td>\n",
       "      <td>129.32</td>\n",
       "      <td>129.86</td>\n",
       "    </tr>\n",
       "  </tbody>\n",
       "</table>\n",
       "</div>"
      ],
      "text/plain": [
       "                             close     high     low    open\n",
       "date                                                       \n",
       "2015-05-27 00:00:00+00:00  132.045  132.260  130.05  130.34\n",
       "2015-05-28 00:00:00+00:00  131.780  131.950  131.10  131.86\n",
       "2015-05-29 00:00:00+00:00  130.280  131.450  129.90  131.23\n",
       "2015-06-01 00:00:00+00:00  130.535  131.390  130.05  131.20\n",
       "2015-06-02 00:00:00+00:00  129.960  130.655  129.32  129.86"
      ]
     },
     "execution_count": 279,
     "metadata": {},
     "output_type": "execute_result"
    }
   ],
   "source": [
    "apple_stocks[:5]"
   ]
  },
  {
   "cell_type": "code",
   "execution_count": 281,
   "id": "c82ffcc1-3422-42eb-93f0-cc5a22967dfb",
   "metadata": {},
   "outputs": [
    {
     "data": {
      "text/plain": [
       "close    129.960\n",
       "high     130.655\n",
       "low      129.320\n",
       "open     129.860\n",
       "Name: 2015-06-02 00:00:00+00:00, dtype: float64"
      ]
     },
     "execution_count": 281,
     "metadata": {},
     "output_type": "execute_result"
    }
   ],
   "source": [
    "apple_stocks.loc['2015-06-02'] # even partial date format it retrieves"
   ]
  },
  {
   "cell_type": "code",
   "execution_count": 282,
   "id": "7e072149-4c88-47a7-bce5-561e52e593c5",
   "metadata": {},
   "outputs": [
    {
     "data": {
      "text/html": [
       "<div>\n",
       "<style scoped>\n",
       "    .dataframe tbody tr th:only-of-type {\n",
       "        vertical-align: middle;\n",
       "    }\n",
       "\n",
       "    .dataframe tbody tr th {\n",
       "        vertical-align: top;\n",
       "    }\n",
       "\n",
       "    .dataframe thead th {\n",
       "        text-align: right;\n",
       "    }\n",
       "</style>\n",
       "<table border=\"1\" class=\"dataframe\">\n",
       "  <thead>\n",
       "    <tr style=\"text-align: right;\">\n",
       "      <th></th>\n",
       "      <th>close</th>\n",
       "      <th>high</th>\n",
       "      <th>low</th>\n",
       "      <th>open</th>\n",
       "    </tr>\n",
       "    <tr>\n",
       "      <th>date</th>\n",
       "      <th></th>\n",
       "      <th></th>\n",
       "      <th></th>\n",
       "      <th></th>\n",
       "    </tr>\n",
       "  </thead>\n",
       "  <tbody>\n",
       "    <tr>\n",
       "      <th>2015-05-27 00:00:00+00:00</th>\n",
       "      <td>132.045</td>\n",
       "      <td>132.26</td>\n",
       "      <td>130.05</td>\n",
       "      <td>130.34</td>\n",
       "    </tr>\n",
       "    <tr>\n",
       "      <th>2015-05-28 00:00:00+00:00</th>\n",
       "      <td>131.780</td>\n",
       "      <td>131.95</td>\n",
       "      <td>131.10</td>\n",
       "      <td>131.86</td>\n",
       "    </tr>\n",
       "    <tr>\n",
       "      <th>2015-05-29 00:00:00+00:00</th>\n",
       "      <td>130.280</td>\n",
       "      <td>131.45</td>\n",
       "      <td>129.90</td>\n",
       "      <td>131.23</td>\n",
       "    </tr>\n",
       "  </tbody>\n",
       "</table>\n",
       "</div>"
      ],
      "text/plain": [
       "                             close    high     low    open\n",
       "date                                                      \n",
       "2015-05-27 00:00:00+00:00  132.045  132.26  130.05  130.34\n",
       "2015-05-28 00:00:00+00:00  131.780  131.95  131.10  131.86\n",
       "2015-05-29 00:00:00+00:00  130.280  131.45  129.90  131.23"
      ]
     },
     "execution_count": 282,
     "metadata": {},
     "output_type": "execute_result"
    }
   ],
   "source": [
    "apple_stocks.loc['2015-05-27': '2015-05-29']"
   ]
  },
  {
   "cell_type": "code",
   "execution_count": 284,
   "id": "9eb1b2ba-0128-4691-9d28-6aae37a769da",
   "metadata": {},
   "outputs": [
    {
     "data": {
      "text/html": [
       "<div>\n",
       "<style scoped>\n",
       "    .dataframe tbody tr th:only-of-type {\n",
       "        vertical-align: middle;\n",
       "    }\n",
       "\n",
       "    .dataframe tbody tr th {\n",
       "        vertical-align: top;\n",
       "    }\n",
       "\n",
       "    .dataframe thead th {\n",
       "        text-align: right;\n",
       "    }\n",
       "</style>\n",
       "<table border=\"1\" class=\"dataframe\">\n",
       "  <thead>\n",
       "    <tr style=\"text-align: right;\">\n",
       "      <th></th>\n",
       "      <th>close</th>\n",
       "      <th>high</th>\n",
       "      <th>low</th>\n",
       "      <th>open</th>\n",
       "    </tr>\n",
       "    <tr>\n",
       "      <th>date</th>\n",
       "      <th></th>\n",
       "      <th></th>\n",
       "      <th></th>\n",
       "      <th></th>\n",
       "    </tr>\n",
       "  </thead>\n",
       "  <tbody>\n",
       "    <tr>\n",
       "      <th>2015-05-27 00:00:00+00:00</th>\n",
       "      <td>132.045</td>\n",
       "      <td>132.26</td>\n",
       "      <td>130.05</td>\n",
       "      <td>130.34</td>\n",
       "    </tr>\n",
       "    <tr>\n",
       "      <th>2015-05-28 00:00:00+00:00</th>\n",
       "      <td>131.780</td>\n",
       "      <td>131.95</td>\n",
       "      <td>131.10</td>\n",
       "      <td>131.86</td>\n",
       "    </tr>\n",
       "    <tr>\n",
       "      <th>2015-05-29 00:00:00+00:00</th>\n",
       "      <td>130.280</td>\n",
       "      <td>131.45</td>\n",
       "      <td>129.90</td>\n",
       "      <td>131.23</td>\n",
       "    </tr>\n",
       "  </tbody>\n",
       "</table>\n",
       "</div>"
      ],
      "text/plain": [
       "                             close    high     low    open\n",
       "date                                                      \n",
       "2015-05-27 00:00:00+00:00  132.045  132.26  130.05  130.34\n",
       "2015-05-28 00:00:00+00:00  131.780  131.95  131.10  131.86\n",
       "2015-05-29 00:00:00+00:00  130.280  131.45  129.90  131.23"
      ]
     },
     "execution_count": 284,
     "metadata": {},
     "output_type": "execute_result"
    }
   ],
   "source": [
    "apple_stocks.loc['2015-05']"
   ]
  },
  {
   "cell_type": "code",
   "execution_count": 285,
   "id": "ec5810eb-010a-443f-bfb8-c09077256794",
   "metadata": {},
   "outputs": [
    {
     "data": {
      "text/html": [
       "<div>\n",
       "<style scoped>\n",
       "    .dataframe tbody tr th:only-of-type {\n",
       "        vertical-align: middle;\n",
       "    }\n",
       "\n",
       "    .dataframe tbody tr th {\n",
       "        vertical-align: top;\n",
       "    }\n",
       "\n",
       "    .dataframe thead th {\n",
       "        text-align: right;\n",
       "    }\n",
       "</style>\n",
       "<table border=\"1\" class=\"dataframe\">\n",
       "  <thead>\n",
       "    <tr style=\"text-align: right;\">\n",
       "      <th></th>\n",
       "      <th>close</th>\n",
       "      <th>high</th>\n",
       "      <th>low</th>\n",
       "      <th>open</th>\n",
       "    </tr>\n",
       "    <tr>\n",
       "      <th>date</th>\n",
       "      <th></th>\n",
       "      <th></th>\n",
       "      <th></th>\n",
       "      <th></th>\n",
       "    </tr>\n",
       "  </thead>\n",
       "  <tbody>\n",
       "    <tr>\n",
       "      <th>2015-05-27 00:00:00+00:00</th>\n",
       "      <td>132.045</td>\n",
       "      <td>132.2600</td>\n",
       "      <td>130.0500</td>\n",
       "      <td>130.340</td>\n",
       "    </tr>\n",
       "    <tr>\n",
       "      <th>2015-05-28 00:00:00+00:00</th>\n",
       "      <td>131.780</td>\n",
       "      <td>131.9500</td>\n",
       "      <td>131.1000</td>\n",
       "      <td>131.860</td>\n",
       "    </tr>\n",
       "    <tr>\n",
       "      <th>2015-05-29 00:00:00+00:00</th>\n",
       "      <td>130.280</td>\n",
       "      <td>131.4500</td>\n",
       "      <td>129.9000</td>\n",
       "      <td>131.230</td>\n",
       "    </tr>\n",
       "    <tr>\n",
       "      <th>2015-06-01 00:00:00+00:00</th>\n",
       "      <td>130.535</td>\n",
       "      <td>131.3900</td>\n",
       "      <td>130.0500</td>\n",
       "      <td>131.200</td>\n",
       "    </tr>\n",
       "    <tr>\n",
       "      <th>2015-06-02 00:00:00+00:00</th>\n",
       "      <td>129.960</td>\n",
       "      <td>130.6550</td>\n",
       "      <td>129.3200</td>\n",
       "      <td>129.860</td>\n",
       "    </tr>\n",
       "    <tr>\n",
       "      <th>2015-06-03 00:00:00+00:00</th>\n",
       "      <td>130.120</td>\n",
       "      <td>130.9400</td>\n",
       "      <td>129.9000</td>\n",
       "      <td>130.660</td>\n",
       "    </tr>\n",
       "    <tr>\n",
       "      <th>2015-06-04 00:00:00+00:00</th>\n",
       "      <td>129.360</td>\n",
       "      <td>130.5800</td>\n",
       "      <td>128.9100</td>\n",
       "      <td>129.580</td>\n",
       "    </tr>\n",
       "    <tr>\n",
       "      <th>2015-06-05 00:00:00+00:00</th>\n",
       "      <td>128.650</td>\n",
       "      <td>129.6900</td>\n",
       "      <td>128.3600</td>\n",
       "      <td>129.500</td>\n",
       "    </tr>\n",
       "    <tr>\n",
       "      <th>2015-06-08 00:00:00+00:00</th>\n",
       "      <td>127.800</td>\n",
       "      <td>129.2100</td>\n",
       "      <td>126.8300</td>\n",
       "      <td>128.900</td>\n",
       "    </tr>\n",
       "    <tr>\n",
       "      <th>2015-06-09 00:00:00+00:00</th>\n",
       "      <td>127.420</td>\n",
       "      <td>128.0800</td>\n",
       "      <td>125.6200</td>\n",
       "      <td>126.700</td>\n",
       "    </tr>\n",
       "    <tr>\n",
       "      <th>2015-06-10 00:00:00+00:00</th>\n",
       "      <td>128.880</td>\n",
       "      <td>129.3400</td>\n",
       "      <td>127.8500</td>\n",
       "      <td>127.920</td>\n",
       "    </tr>\n",
       "    <tr>\n",
       "      <th>2015-06-11 00:00:00+00:00</th>\n",
       "      <td>128.590</td>\n",
       "      <td>130.1800</td>\n",
       "      <td>128.4750</td>\n",
       "      <td>129.180</td>\n",
       "    </tr>\n",
       "    <tr>\n",
       "      <th>2015-06-12 00:00:00+00:00</th>\n",
       "      <td>127.170</td>\n",
       "      <td>128.3300</td>\n",
       "      <td>127.1100</td>\n",
       "      <td>128.185</td>\n",
       "    </tr>\n",
       "    <tr>\n",
       "      <th>2015-06-15 00:00:00+00:00</th>\n",
       "      <td>126.920</td>\n",
       "      <td>127.2400</td>\n",
       "      <td>125.7100</td>\n",
       "      <td>126.100</td>\n",
       "    </tr>\n",
       "    <tr>\n",
       "      <th>2015-06-16 00:00:00+00:00</th>\n",
       "      <td>127.600</td>\n",
       "      <td>127.8500</td>\n",
       "      <td>126.3700</td>\n",
       "      <td>127.030</td>\n",
       "    </tr>\n",
       "    <tr>\n",
       "      <th>2015-06-17 00:00:00+00:00</th>\n",
       "      <td>127.300</td>\n",
       "      <td>127.8800</td>\n",
       "      <td>126.7400</td>\n",
       "      <td>127.720</td>\n",
       "    </tr>\n",
       "    <tr>\n",
       "      <th>2015-06-18 00:00:00+00:00</th>\n",
       "      <td>127.880</td>\n",
       "      <td>128.3100</td>\n",
       "      <td>127.2200</td>\n",
       "      <td>127.230</td>\n",
       "    </tr>\n",
       "    <tr>\n",
       "      <th>2015-06-19 00:00:00+00:00</th>\n",
       "      <td>126.600</td>\n",
       "      <td>127.8200</td>\n",
       "      <td>126.4000</td>\n",
       "      <td>127.710</td>\n",
       "    </tr>\n",
       "    <tr>\n",
       "      <th>2015-06-22 00:00:00+00:00</th>\n",
       "      <td>127.610</td>\n",
       "      <td>128.0600</td>\n",
       "      <td>127.0800</td>\n",
       "      <td>127.490</td>\n",
       "    </tr>\n",
       "    <tr>\n",
       "      <th>2015-06-23 00:00:00+00:00</th>\n",
       "      <td>127.030</td>\n",
       "      <td>127.6100</td>\n",
       "      <td>126.8792</td>\n",
       "      <td>127.480</td>\n",
       "    </tr>\n",
       "    <tr>\n",
       "      <th>2015-06-24 00:00:00+00:00</th>\n",
       "      <td>128.110</td>\n",
       "      <td>129.8000</td>\n",
       "      <td>127.1200</td>\n",
       "      <td>127.210</td>\n",
       "    </tr>\n",
       "    <tr>\n",
       "      <th>2015-06-25 00:00:00+00:00</th>\n",
       "      <td>127.500</td>\n",
       "      <td>129.2000</td>\n",
       "      <td>127.5000</td>\n",
       "      <td>128.860</td>\n",
       "    </tr>\n",
       "    <tr>\n",
       "      <th>2015-06-26 00:00:00+00:00</th>\n",
       "      <td>126.750</td>\n",
       "      <td>127.9900</td>\n",
       "      <td>126.5100</td>\n",
       "      <td>127.670</td>\n",
       "    </tr>\n",
       "    <tr>\n",
       "      <th>2015-06-29 00:00:00+00:00</th>\n",
       "      <td>124.530</td>\n",
       "      <td>126.4700</td>\n",
       "      <td>124.4800</td>\n",
       "      <td>125.460</td>\n",
       "    </tr>\n",
       "    <tr>\n",
       "      <th>2015-06-30 00:00:00+00:00</th>\n",
       "      <td>125.425</td>\n",
       "      <td>126.1200</td>\n",
       "      <td>124.8600</td>\n",
       "      <td>125.570</td>\n",
       "    </tr>\n",
       "    <tr>\n",
       "      <th>2015-07-01 00:00:00+00:00</th>\n",
       "      <td>126.600</td>\n",
       "      <td>126.9400</td>\n",
       "      <td>125.9900</td>\n",
       "      <td>126.900</td>\n",
       "    </tr>\n",
       "    <tr>\n",
       "      <th>2015-07-02 00:00:00+00:00</th>\n",
       "      <td>126.440</td>\n",
       "      <td>126.6900</td>\n",
       "      <td>125.7700</td>\n",
       "      <td>126.430</td>\n",
       "    </tr>\n",
       "    <tr>\n",
       "      <th>2015-07-06 00:00:00+00:00</th>\n",
       "      <td>126.000</td>\n",
       "      <td>126.2300</td>\n",
       "      <td>124.8500</td>\n",
       "      <td>124.940</td>\n",
       "    </tr>\n",
       "    <tr>\n",
       "      <th>2015-07-07 00:00:00+00:00</th>\n",
       "      <td>125.690</td>\n",
       "      <td>126.1500</td>\n",
       "      <td>123.7700</td>\n",
       "      <td>125.890</td>\n",
       "    </tr>\n",
       "    <tr>\n",
       "      <th>2015-07-08 00:00:00+00:00</th>\n",
       "      <td>122.570</td>\n",
       "      <td>124.6400</td>\n",
       "      <td>122.5400</td>\n",
       "      <td>124.480</td>\n",
       "    </tr>\n",
       "    <tr>\n",
       "      <th>2015-07-09 00:00:00+00:00</th>\n",
       "      <td>120.070</td>\n",
       "      <td>124.0600</td>\n",
       "      <td>119.2200</td>\n",
       "      <td>123.850</td>\n",
       "    </tr>\n",
       "    <tr>\n",
       "      <th>2015-07-10 00:00:00+00:00</th>\n",
       "      <td>123.280</td>\n",
       "      <td>123.8500</td>\n",
       "      <td>121.2100</td>\n",
       "      <td>121.940</td>\n",
       "    </tr>\n",
       "    <tr>\n",
       "      <th>2015-07-13 00:00:00+00:00</th>\n",
       "      <td>125.660</td>\n",
       "      <td>125.7550</td>\n",
       "      <td>124.3200</td>\n",
       "      <td>125.030</td>\n",
       "    </tr>\n",
       "    <tr>\n",
       "      <th>2015-07-14 00:00:00+00:00</th>\n",
       "      <td>125.610</td>\n",
       "      <td>126.3700</td>\n",
       "      <td>125.0400</td>\n",
       "      <td>126.040</td>\n",
       "    </tr>\n",
       "    <tr>\n",
       "      <th>2015-07-15 00:00:00+00:00</th>\n",
       "      <td>126.820</td>\n",
       "      <td>127.1500</td>\n",
       "      <td>125.5800</td>\n",
       "      <td>125.720</td>\n",
       "    </tr>\n",
       "    <tr>\n",
       "      <th>2015-07-16 00:00:00+00:00</th>\n",
       "      <td>128.510</td>\n",
       "      <td>128.5700</td>\n",
       "      <td>127.3500</td>\n",
       "      <td>127.740</td>\n",
       "    </tr>\n",
       "    <tr>\n",
       "      <th>2015-07-17 00:00:00+00:00</th>\n",
       "      <td>129.620</td>\n",
       "      <td>129.6200</td>\n",
       "      <td>128.3100</td>\n",
       "      <td>129.080</td>\n",
       "    </tr>\n",
       "    <tr>\n",
       "      <th>2015-07-20 00:00:00+00:00</th>\n",
       "      <td>132.070</td>\n",
       "      <td>132.9700</td>\n",
       "      <td>130.7000</td>\n",
       "      <td>130.970</td>\n",
       "    </tr>\n",
       "    <tr>\n",
       "      <th>2015-07-21 00:00:00+00:00</th>\n",
       "      <td>130.750</td>\n",
       "      <td>132.9200</td>\n",
       "      <td>130.3200</td>\n",
       "      <td>132.850</td>\n",
       "    </tr>\n",
       "    <tr>\n",
       "      <th>2015-07-22 00:00:00+00:00</th>\n",
       "      <td>125.220</td>\n",
       "      <td>125.5000</td>\n",
       "      <td>121.9900</td>\n",
       "      <td>121.990</td>\n",
       "    </tr>\n",
       "    <tr>\n",
       "      <th>2015-07-23 00:00:00+00:00</th>\n",
       "      <td>125.160</td>\n",
       "      <td>127.0900</td>\n",
       "      <td>125.0600</td>\n",
       "      <td>126.200</td>\n",
       "    </tr>\n",
       "    <tr>\n",
       "      <th>2015-07-24 00:00:00+00:00</th>\n",
       "      <td>124.500</td>\n",
       "      <td>125.7400</td>\n",
       "      <td>123.9000</td>\n",
       "      <td>125.320</td>\n",
       "    </tr>\n",
       "    <tr>\n",
       "      <th>2015-07-27 00:00:00+00:00</th>\n",
       "      <td>122.770</td>\n",
       "      <td>123.6100</td>\n",
       "      <td>122.1200</td>\n",
       "      <td>123.090</td>\n",
       "    </tr>\n",
       "    <tr>\n",
       "      <th>2015-07-28 00:00:00+00:00</th>\n",
       "      <td>123.380</td>\n",
       "      <td>123.9100</td>\n",
       "      <td>122.5500</td>\n",
       "      <td>123.380</td>\n",
       "    </tr>\n",
       "    <tr>\n",
       "      <th>2015-07-29 00:00:00+00:00</th>\n",
       "      <td>122.990</td>\n",
       "      <td>123.5000</td>\n",
       "      <td>122.2700</td>\n",
       "      <td>123.150</td>\n",
       "    </tr>\n",
       "    <tr>\n",
       "      <th>2015-07-30 00:00:00+00:00</th>\n",
       "      <td>122.370</td>\n",
       "      <td>122.5699</td>\n",
       "      <td>121.7100</td>\n",
       "      <td>122.320</td>\n",
       "    </tr>\n",
       "    <tr>\n",
       "      <th>2015-07-31 00:00:00+00:00</th>\n",
       "      <td>121.300</td>\n",
       "      <td>122.6425</td>\n",
       "      <td>120.9100</td>\n",
       "      <td>122.600</td>\n",
       "    </tr>\n",
       "  </tbody>\n",
       "</table>\n",
       "</div>"
      ],
      "text/plain": [
       "                             close      high       low     open\n",
       "date                                                           \n",
       "2015-05-27 00:00:00+00:00  132.045  132.2600  130.0500  130.340\n",
       "2015-05-28 00:00:00+00:00  131.780  131.9500  131.1000  131.860\n",
       "2015-05-29 00:00:00+00:00  130.280  131.4500  129.9000  131.230\n",
       "2015-06-01 00:00:00+00:00  130.535  131.3900  130.0500  131.200\n",
       "2015-06-02 00:00:00+00:00  129.960  130.6550  129.3200  129.860\n",
       "2015-06-03 00:00:00+00:00  130.120  130.9400  129.9000  130.660\n",
       "2015-06-04 00:00:00+00:00  129.360  130.5800  128.9100  129.580\n",
       "2015-06-05 00:00:00+00:00  128.650  129.6900  128.3600  129.500\n",
       "2015-06-08 00:00:00+00:00  127.800  129.2100  126.8300  128.900\n",
       "2015-06-09 00:00:00+00:00  127.420  128.0800  125.6200  126.700\n",
       "2015-06-10 00:00:00+00:00  128.880  129.3400  127.8500  127.920\n",
       "2015-06-11 00:00:00+00:00  128.590  130.1800  128.4750  129.180\n",
       "2015-06-12 00:00:00+00:00  127.170  128.3300  127.1100  128.185\n",
       "2015-06-15 00:00:00+00:00  126.920  127.2400  125.7100  126.100\n",
       "2015-06-16 00:00:00+00:00  127.600  127.8500  126.3700  127.030\n",
       "2015-06-17 00:00:00+00:00  127.300  127.8800  126.7400  127.720\n",
       "2015-06-18 00:00:00+00:00  127.880  128.3100  127.2200  127.230\n",
       "2015-06-19 00:00:00+00:00  126.600  127.8200  126.4000  127.710\n",
       "2015-06-22 00:00:00+00:00  127.610  128.0600  127.0800  127.490\n",
       "2015-06-23 00:00:00+00:00  127.030  127.6100  126.8792  127.480\n",
       "2015-06-24 00:00:00+00:00  128.110  129.8000  127.1200  127.210\n",
       "2015-06-25 00:00:00+00:00  127.500  129.2000  127.5000  128.860\n",
       "2015-06-26 00:00:00+00:00  126.750  127.9900  126.5100  127.670\n",
       "2015-06-29 00:00:00+00:00  124.530  126.4700  124.4800  125.460\n",
       "2015-06-30 00:00:00+00:00  125.425  126.1200  124.8600  125.570\n",
       "2015-07-01 00:00:00+00:00  126.600  126.9400  125.9900  126.900\n",
       "2015-07-02 00:00:00+00:00  126.440  126.6900  125.7700  126.430\n",
       "2015-07-06 00:00:00+00:00  126.000  126.2300  124.8500  124.940\n",
       "2015-07-07 00:00:00+00:00  125.690  126.1500  123.7700  125.890\n",
       "2015-07-08 00:00:00+00:00  122.570  124.6400  122.5400  124.480\n",
       "2015-07-09 00:00:00+00:00  120.070  124.0600  119.2200  123.850\n",
       "2015-07-10 00:00:00+00:00  123.280  123.8500  121.2100  121.940\n",
       "2015-07-13 00:00:00+00:00  125.660  125.7550  124.3200  125.030\n",
       "2015-07-14 00:00:00+00:00  125.610  126.3700  125.0400  126.040\n",
       "2015-07-15 00:00:00+00:00  126.820  127.1500  125.5800  125.720\n",
       "2015-07-16 00:00:00+00:00  128.510  128.5700  127.3500  127.740\n",
       "2015-07-17 00:00:00+00:00  129.620  129.6200  128.3100  129.080\n",
       "2015-07-20 00:00:00+00:00  132.070  132.9700  130.7000  130.970\n",
       "2015-07-21 00:00:00+00:00  130.750  132.9200  130.3200  132.850\n",
       "2015-07-22 00:00:00+00:00  125.220  125.5000  121.9900  121.990\n",
       "2015-07-23 00:00:00+00:00  125.160  127.0900  125.0600  126.200\n",
       "2015-07-24 00:00:00+00:00  124.500  125.7400  123.9000  125.320\n",
       "2015-07-27 00:00:00+00:00  122.770  123.6100  122.1200  123.090\n",
       "2015-07-28 00:00:00+00:00  123.380  123.9100  122.5500  123.380\n",
       "2015-07-29 00:00:00+00:00  122.990  123.5000  122.2700  123.150\n",
       "2015-07-30 00:00:00+00:00  122.370  122.5699  121.7100  122.320\n",
       "2015-07-31 00:00:00+00:00  121.300  122.6425  120.9100  122.600"
      ]
     },
     "execution_count": 285,
     "metadata": {},
     "output_type": "execute_result"
    }
   ],
   "source": [
    "apple_stocks.loc[:'2015-07']"
   ]
  },
  {
   "cell_type": "code",
   "execution_count": 286,
   "id": "9818079d-6925-42b1-86c4-f8f4f8ad4570",
   "metadata": {},
   "outputs": [
    {
     "data": {
      "text/html": [
       "<div>\n",
       "<style scoped>\n",
       "    .dataframe tbody tr th:only-of-type {\n",
       "        vertical-align: middle;\n",
       "    }\n",
       "\n",
       "    .dataframe tbody tr th {\n",
       "        vertical-align: top;\n",
       "    }\n",
       "\n",
       "    .dataframe thead th {\n",
       "        text-align: right;\n",
       "    }\n",
       "</style>\n",
       "<table border=\"1\" class=\"dataframe\">\n",
       "  <thead>\n",
       "    <tr style=\"text-align: right;\">\n",
       "      <th></th>\n",
       "      <th>close</th>\n",
       "      <th>high</th>\n",
       "      <th>low</th>\n",
       "      <th>open</th>\n",
       "    </tr>\n",
       "    <tr>\n",
       "      <th>date</th>\n",
       "      <th></th>\n",
       "      <th></th>\n",
       "      <th></th>\n",
       "      <th></th>\n",
       "    </tr>\n",
       "  </thead>\n",
       "  <tbody>\n",
       "    <tr>\n",
       "      <th>2015-05-27 00:00:00+00:00</th>\n",
       "      <td>132.045</td>\n",
       "      <td>132.26</td>\n",
       "      <td>130.05</td>\n",
       "      <td>130.34</td>\n",
       "    </tr>\n",
       "    <tr>\n",
       "      <th>2015-05-29 00:00:00+00:00</th>\n",
       "      <td>130.280</td>\n",
       "      <td>131.45</td>\n",
       "      <td>129.90</td>\n",
       "      <td>131.23</td>\n",
       "    </tr>\n",
       "  </tbody>\n",
       "</table>\n",
       "</div>"
      ],
      "text/plain": [
       "                             close    high     low    open\n",
       "date                                                      \n",
       "2015-05-27 00:00:00+00:00  132.045  132.26  130.05  130.34\n",
       "2015-05-29 00:00:00+00:00  130.280  131.45  129.90  131.23"
      ]
     },
     "execution_count": 286,
     "metadata": {},
     "output_type": "execute_result"
    }
   ],
   "source": [
    "apple_stocks.loc[['2015-05-27','2015-05-29']]"
   ]
  },
  {
   "cell_type": "code",
   "execution_count": 287,
   "id": "a1ffed4d-2e61-48b5-8a5e-4033bb17299f",
   "metadata": {},
   "outputs": [
    {
     "name": "stdout",
     "output_type": "stream",
     "text": [
      "<class 'pandas.core.frame.DataFrame'>\n",
      "DatetimeIndex: 1258 entries, 2015-05-27 00:00:00+00:00 to 2020-05-22 00:00:00+00:00\n",
      "Data columns (total 4 columns):\n",
      " #   Column  Non-Null Count  Dtype  \n",
      "---  ------  --------------  -----  \n",
      " 0   close   1258 non-null   float64\n",
      " 1   high    1258 non-null   float64\n",
      " 2   low     1258 non-null   float64\n",
      " 3   open    1258 non-null   float64\n",
      "dtypes: float64(4)\n",
      "memory usage: 81.4 KB\n"
     ]
    }
   ],
   "source": [
    "apple_stocks.info()"
   ]
  },
  {
   "cell_type": "code",
   "execution_count": 288,
   "id": "5908cd8f-97b6-414f-8e97-1099d8a159fc",
   "metadata": {},
   "outputs": [
    {
     "data": {
      "text/plain": [
       "date\n",
       "Wednesday    257\n",
       "Tuesday      257\n",
       "Thursday     255\n",
       "Friday       253\n",
       "Monday       236\n",
       "Name: count, dtype: int64"
      ]
     },
     "execution_count": 288,
     "metadata": {},
     "output_type": "execute_result"
    }
   ],
   "source": [
    "apple_stocks.index.day_name().value_counts()"
   ]
  },
  {
   "cell_type": "code",
   "execution_count": 289,
   "id": "028331a9-d691-479a-8f38-2eb8f8ffb3c5",
   "metadata": {},
   "outputs": [
    {
     "data": {
      "text/plain": [
       "Timestamp('2020-05-22 00:00:00+0000', tz='UTC')"
      ]
     },
     "execution_count": 289,
     "metadata": {},
     "output_type": "execute_result"
    }
   ],
   "source": [
    "max_date = apple_stocks.index.max()\n",
    "max_date"
   ]
  },
  {
   "cell_type": "code",
   "execution_count": 290,
   "id": "042f70fb-e46a-4adc-af14-136aa7856f2c",
   "metadata": {},
   "outputs": [
    {
     "data": {
      "text/plain": [
       "Timestamp('2015-05-27 00:00:00+0000', tz='UTC')"
      ]
     },
     "execution_count": 290,
     "metadata": {},
     "output_type": "execute_result"
    }
   ],
   "source": [
    "min_date = apple_stocks.index.min()\n",
    "min_date"
   ]
  },
  {
   "cell_type": "code",
   "execution_count": 291,
   "id": "96fb83e4-893d-4ec4-aed1-a93d00414a00",
   "metadata": {},
   "outputs": [
    {
     "data": {
      "text/plain": [
       "DatetimeIndex(['2015-05-27 00:00:00+00:00', '2015-05-28 00:00:00+00:00',\n",
       "               '2015-05-29 00:00:00+00:00', '2015-05-30 00:00:00+00:00',\n",
       "               '2015-05-31 00:00:00+00:00', '2015-06-01 00:00:00+00:00',\n",
       "               '2015-06-02 00:00:00+00:00', '2015-06-03 00:00:00+00:00',\n",
       "               '2015-06-04 00:00:00+00:00', '2015-06-05 00:00:00+00:00',\n",
       "               ...\n",
       "               '2020-05-13 00:00:00+00:00', '2020-05-14 00:00:00+00:00',\n",
       "               '2020-05-15 00:00:00+00:00', '2020-05-16 00:00:00+00:00',\n",
       "               '2020-05-17 00:00:00+00:00', '2020-05-18 00:00:00+00:00',\n",
       "               '2020-05-19 00:00:00+00:00', '2020-05-20 00:00:00+00:00',\n",
       "               '2020-05-21 00:00:00+00:00', '2020-05-22 00:00:00+00:00'],\n",
       "              dtype='datetime64[ns, UTC]', length=1823, freq='D')"
      ]
     },
     "execution_count": 291,
     "metadata": {},
     "output_type": "execute_result"
    }
   ],
   "source": [
    "date_incl_weekends = pd.date_range(start=min_date, end=max_date, freq='d')\n",
    "date_incl_weekends"
   ]
  },
  {
   "cell_type": "code",
   "execution_count": 292,
   "id": "e65ff98f-9d80-4c8d-a34d-d23c6d119554",
   "metadata": {},
   "outputs": [
    {
     "data": {
      "text/plain": [
       "Wednesday    261\n",
       "Thursday     261\n",
       "Friday       261\n",
       "Saturday     260\n",
       "Sunday       260\n",
       "Monday       260\n",
       "Tuesday      260\n",
       "Name: count, dtype: int64"
      ]
     },
     "execution_count": 292,
     "metadata": {},
     "output_type": "execute_result"
    }
   ],
   "source": [
    "date_incl_weekends.day_name().value_counts()"
   ]
  },
  {
   "cell_type": "code",
   "execution_count": 293,
   "id": "1a850577-7399-4e18-b17b-b8f08d463f73",
   "metadata": {},
   "outputs": [
    {
     "data": {
      "text/html": [
       "<div>\n",
       "<style scoped>\n",
       "    .dataframe tbody tr th:only-of-type {\n",
       "        vertical-align: middle;\n",
       "    }\n",
       "\n",
       "    .dataframe tbody tr th {\n",
       "        vertical-align: top;\n",
       "    }\n",
       "\n",
       "    .dataframe thead th {\n",
       "        text-align: right;\n",
       "    }\n",
       "</style>\n",
       "<table border=\"1\" class=\"dataframe\">\n",
       "  <thead>\n",
       "    <tr style=\"text-align: right;\">\n",
       "      <th></th>\n",
       "      <th>close</th>\n",
       "      <th>high</th>\n",
       "      <th>low</th>\n",
       "      <th>open</th>\n",
       "    </tr>\n",
       "  </thead>\n",
       "  <tbody>\n",
       "    <tr>\n",
       "      <th>2015-05-27 00:00:00+00:00</th>\n",
       "      <td>132.045</td>\n",
       "      <td>132.260</td>\n",
       "      <td>130.05</td>\n",
       "      <td>130.34</td>\n",
       "    </tr>\n",
       "    <tr>\n",
       "      <th>2015-05-28 00:00:00+00:00</th>\n",
       "      <td>131.780</td>\n",
       "      <td>131.950</td>\n",
       "      <td>131.10</td>\n",
       "      <td>131.86</td>\n",
       "    </tr>\n",
       "    <tr>\n",
       "      <th>2015-05-29 00:00:00+00:00</th>\n",
       "      <td>130.280</td>\n",
       "      <td>131.450</td>\n",
       "      <td>129.90</td>\n",
       "      <td>131.23</td>\n",
       "    </tr>\n",
       "    <tr>\n",
       "      <th>2015-05-30 00:00:00+00:00</th>\n",
       "      <td>NaN</td>\n",
       "      <td>NaN</td>\n",
       "      <td>NaN</td>\n",
       "      <td>NaN</td>\n",
       "    </tr>\n",
       "    <tr>\n",
       "      <th>2015-05-31 00:00:00+00:00</th>\n",
       "      <td>NaN</td>\n",
       "      <td>NaN</td>\n",
       "      <td>NaN</td>\n",
       "      <td>NaN</td>\n",
       "    </tr>\n",
       "    <tr>\n",
       "      <th>2015-06-01 00:00:00+00:00</th>\n",
       "      <td>130.535</td>\n",
       "      <td>131.390</td>\n",
       "      <td>130.05</td>\n",
       "      <td>131.20</td>\n",
       "    </tr>\n",
       "    <tr>\n",
       "      <th>2015-06-02 00:00:00+00:00</th>\n",
       "      <td>129.960</td>\n",
       "      <td>130.655</td>\n",
       "      <td>129.32</td>\n",
       "      <td>129.86</td>\n",
       "    </tr>\n",
       "  </tbody>\n",
       "</table>\n",
       "</div>"
      ],
      "text/plain": [
       "                             close     high     low    open\n",
       "2015-05-27 00:00:00+00:00  132.045  132.260  130.05  130.34\n",
       "2015-05-28 00:00:00+00:00  131.780  131.950  131.10  131.86\n",
       "2015-05-29 00:00:00+00:00  130.280  131.450  129.90  131.23\n",
       "2015-05-30 00:00:00+00:00      NaN      NaN     NaN     NaN\n",
       "2015-05-31 00:00:00+00:00      NaN      NaN     NaN     NaN\n",
       "2015-06-01 00:00:00+00:00  130.535  131.390  130.05  131.20\n",
       "2015-06-02 00:00:00+00:00  129.960  130.655  129.32  129.86"
      ]
     },
     "execution_count": 293,
     "metadata": {},
     "output_type": "execute_result"
    }
   ],
   "source": [
    "apple_stocks.reindex(date_incl_weekends).head(7)"
   ]
  },
  {
   "cell_type": "code",
   "execution_count": 295,
   "id": "35299490-57cb-4f7c-978a-07c404d1f924",
   "metadata": {},
   "outputs": [
    {
     "data": {
      "text/html": [
       "<div>\n",
       "<style scoped>\n",
       "    .dataframe tbody tr th:only-of-type {\n",
       "        vertical-align: middle;\n",
       "    }\n",
       "\n",
       "    .dataframe tbody tr th {\n",
       "        vertical-align: top;\n",
       "    }\n",
       "\n",
       "    .dataframe thead th {\n",
       "        text-align: right;\n",
       "    }\n",
       "</style>\n",
       "<table border=\"1\" class=\"dataframe\">\n",
       "  <thead>\n",
       "    <tr style=\"text-align: right;\">\n",
       "      <th></th>\n",
       "      <th>close</th>\n",
       "      <th>high</th>\n",
       "      <th>low</th>\n",
       "      <th>open</th>\n",
       "      <th>day</th>\n",
       "    </tr>\n",
       "  </thead>\n",
       "  <tbody>\n",
       "    <tr>\n",
       "      <th>2015-05-27 00:00:00+00:00</th>\n",
       "      <td>132.045</td>\n",
       "      <td>132.260</td>\n",
       "      <td>130.05</td>\n",
       "      <td>130.34</td>\n",
       "      <td>Wednesday</td>\n",
       "    </tr>\n",
       "    <tr>\n",
       "      <th>2015-05-28 00:00:00+00:00</th>\n",
       "      <td>131.780</td>\n",
       "      <td>131.950</td>\n",
       "      <td>131.10</td>\n",
       "      <td>131.86</td>\n",
       "      <td>Thursday</td>\n",
       "    </tr>\n",
       "    <tr>\n",
       "      <th>2015-05-29 00:00:00+00:00</th>\n",
       "      <td>130.280</td>\n",
       "      <td>131.450</td>\n",
       "      <td>129.90</td>\n",
       "      <td>131.23</td>\n",
       "      <td>Friday</td>\n",
       "    </tr>\n",
       "    <tr>\n",
       "      <th>2015-05-30 00:00:00+00:00</th>\n",
       "      <td>130.280</td>\n",
       "      <td>131.450</td>\n",
       "      <td>129.90</td>\n",
       "      <td>131.23</td>\n",
       "      <td>Saturday</td>\n",
       "    </tr>\n",
       "    <tr>\n",
       "      <th>2015-05-31 00:00:00+00:00</th>\n",
       "      <td>130.280</td>\n",
       "      <td>131.450</td>\n",
       "      <td>129.90</td>\n",
       "      <td>131.23</td>\n",
       "      <td>Sunday</td>\n",
       "    </tr>\n",
       "    <tr>\n",
       "      <th>2015-06-01 00:00:00+00:00</th>\n",
       "      <td>130.535</td>\n",
       "      <td>131.390</td>\n",
       "      <td>130.05</td>\n",
       "      <td>131.20</td>\n",
       "      <td>Monday</td>\n",
       "    </tr>\n",
       "    <tr>\n",
       "      <th>2015-06-02 00:00:00+00:00</th>\n",
       "      <td>129.960</td>\n",
       "      <td>130.655</td>\n",
       "      <td>129.32</td>\n",
       "      <td>129.86</td>\n",
       "      <td>Tuesday</td>\n",
       "    </tr>\n",
       "  </tbody>\n",
       "</table>\n",
       "</div>"
      ],
      "text/plain": [
       "                             close     high     low    open        day\n",
       "2015-05-27 00:00:00+00:00  132.045  132.260  130.05  130.34  Wednesday\n",
       "2015-05-28 00:00:00+00:00  131.780  131.950  131.10  131.86   Thursday\n",
       "2015-05-29 00:00:00+00:00  130.280  131.450  129.90  131.23     Friday\n",
       "2015-05-30 00:00:00+00:00  130.280  131.450  129.90  131.23   Saturday\n",
       "2015-05-31 00:00:00+00:00  130.280  131.450  129.90  131.23     Sunday\n",
       "2015-06-01 00:00:00+00:00  130.535  131.390  130.05  131.20     Monday\n",
       "2015-06-02 00:00:00+00:00  129.960  130.655  129.32  129.86    Tuesday"
      ]
     },
     "execution_count": 295,
     "metadata": {},
     "output_type": "execute_result"
    }
   ],
   "source": [
    "as2 = apple_stocks.reindex(date_incl_weekends, method='ffill')\n",
    "as2['day'] = as2.index.day_name()\n",
    "as2.head(7)"
   ]
  },
  {
   "cell_type": "code",
   "execution_count": 297,
   "id": "d00f4741-3bf5-4bf5-b53d-305567462ce7",
   "metadata": {},
   "outputs": [
    {
     "data": {
      "text/html": [
       "<div>\n",
       "<style scoped>\n",
       "    .dataframe tbody tr th:only-of-type {\n",
       "        vertical-align: middle;\n",
       "    }\n",
       "\n",
       "    .dataframe tbody tr th {\n",
       "        vertical-align: top;\n",
       "    }\n",
       "\n",
       "    .dataframe thead th {\n",
       "        text-align: right;\n",
       "    }\n",
       "</style>\n",
       "<table border=\"1\" class=\"dataframe\">\n",
       "  <thead>\n",
       "    <tr style=\"text-align: right;\">\n",
       "      <th></th>\n",
       "      <th>close</th>\n",
       "      <th>high</th>\n",
       "      <th>low</th>\n",
       "      <th>open</th>\n",
       "    </tr>\n",
       "    <tr>\n",
       "      <th>date</th>\n",
       "      <th></th>\n",
       "      <th></th>\n",
       "      <th></th>\n",
       "      <th></th>\n",
       "    </tr>\n",
       "  </thead>\n",
       "  <tbody>\n",
       "    <tr>\n",
       "      <th>2015-05-27 00:00:00+00:00</th>\n",
       "      <td>132.045</td>\n",
       "      <td>132.260</td>\n",
       "      <td>130.05</td>\n",
       "      <td>130.34</td>\n",
       "    </tr>\n",
       "    <tr>\n",
       "      <th>2015-05-28 00:00:00+00:00</th>\n",
       "      <td>131.780</td>\n",
       "      <td>131.950</td>\n",
       "      <td>131.10</td>\n",
       "      <td>131.86</td>\n",
       "    </tr>\n",
       "    <tr>\n",
       "      <th>2015-05-29 00:00:00+00:00</th>\n",
       "      <td>130.280</td>\n",
       "      <td>131.450</td>\n",
       "      <td>129.90</td>\n",
       "      <td>131.23</td>\n",
       "    </tr>\n",
       "    <tr>\n",
       "      <th>2015-06-01 00:00:00+00:00</th>\n",
       "      <td>130.535</td>\n",
       "      <td>131.390</td>\n",
       "      <td>130.05</td>\n",
       "      <td>131.20</td>\n",
       "    </tr>\n",
       "    <tr>\n",
       "      <th>2015-06-02 00:00:00+00:00</th>\n",
       "      <td>129.960</td>\n",
       "      <td>130.655</td>\n",
       "      <td>129.32</td>\n",
       "      <td>129.86</td>\n",
       "    </tr>\n",
       "    <tr>\n",
       "      <th>2015-06-03 00:00:00+00:00</th>\n",
       "      <td>130.120</td>\n",
       "      <td>130.940</td>\n",
       "      <td>129.90</td>\n",
       "      <td>130.66</td>\n",
       "    </tr>\n",
       "    <tr>\n",
       "      <th>2015-06-04 00:00:00+00:00</th>\n",
       "      <td>129.360</td>\n",
       "      <td>130.580</td>\n",
       "      <td>128.91</td>\n",
       "      <td>129.58</td>\n",
       "    </tr>\n",
       "  </tbody>\n",
       "</table>\n",
       "</div>"
      ],
      "text/plain": [
       "                             close     high     low    open\n",
       "date                                                       \n",
       "2015-05-27 00:00:00+00:00  132.045  132.260  130.05  130.34\n",
       "2015-05-28 00:00:00+00:00  131.780  131.950  131.10  131.86\n",
       "2015-05-29 00:00:00+00:00  130.280  131.450  129.90  131.23\n",
       "2015-06-01 00:00:00+00:00  130.535  131.390  130.05  131.20\n",
       "2015-06-02 00:00:00+00:00  129.960  130.655  129.32  129.86\n",
       "2015-06-03 00:00:00+00:00  130.120  130.940  129.90  130.66\n",
       "2015-06-04 00:00:00+00:00  129.360  130.580  128.91  129.58"
      ]
     },
     "execution_count": 297,
     "metadata": {},
     "output_type": "execute_result"
    }
   ],
   "source": [
    "apple_stocks.head(7)"
   ]
  },
  {
   "cell_type": "code",
   "execution_count": 299,
   "id": "dc291dde-89d2-4442-bf1f-878329d3e804",
   "metadata": {},
   "outputs": [
    {
     "data": {
      "text/html": [
       "<div>\n",
       "<style scoped>\n",
       "    .dataframe tbody tr th:only-of-type {\n",
       "        vertical-align: middle;\n",
       "    }\n",
       "\n",
       "    .dataframe tbody tr th {\n",
       "        vertical-align: top;\n",
       "    }\n",
       "\n",
       "    .dataframe thead th {\n",
       "        text-align: right;\n",
       "    }\n",
       "</style>\n",
       "<table border=\"1\" class=\"dataframe\">\n",
       "  <thead>\n",
       "    <tr style=\"text-align: right;\">\n",
       "      <th></th>\n",
       "      <th>close</th>\n",
       "      <th>high</th>\n",
       "      <th>low</th>\n",
       "      <th>open</th>\n",
       "    </tr>\n",
       "    <tr>\n",
       "      <th>date</th>\n",
       "      <th></th>\n",
       "      <th></th>\n",
       "      <th></th>\n",
       "      <th></th>\n",
       "    </tr>\n",
       "  </thead>\n",
       "  <tbody>\n",
       "    <tr>\n",
       "      <th>2015-05-27 00:00:00+00:00</th>\n",
       "      <td>132.045</td>\n",
       "      <td>132.260</td>\n",
       "      <td>130.05</td>\n",
       "      <td>130.34</td>\n",
       "    </tr>\n",
       "    <tr>\n",
       "      <th>2015-05-28 00:00:00+00:00</th>\n",
       "      <td>131.780</td>\n",
       "      <td>131.950</td>\n",
       "      <td>131.10</td>\n",
       "      <td>131.86</td>\n",
       "    </tr>\n",
       "    <tr>\n",
       "      <th>2015-05-29 00:00:00+00:00</th>\n",
       "      <td>130.280</td>\n",
       "      <td>131.450</td>\n",
       "      <td>129.90</td>\n",
       "      <td>131.23</td>\n",
       "    </tr>\n",
       "    <tr>\n",
       "      <th>2015-06-01 00:00:00+00:00</th>\n",
       "      <td>130.535</td>\n",
       "      <td>131.390</td>\n",
       "      <td>130.05</td>\n",
       "      <td>131.20</td>\n",
       "    </tr>\n",
       "    <tr>\n",
       "      <th>2015-06-02 00:00:00+00:00</th>\n",
       "      <td>129.960</td>\n",
       "      <td>130.655</td>\n",
       "      <td>129.32</td>\n",
       "      <td>129.86</td>\n",
       "    </tr>\n",
       "    <tr>\n",
       "      <th>2015-06-03 00:00:00+00:00</th>\n",
       "      <td>130.120</td>\n",
       "      <td>130.940</td>\n",
       "      <td>129.90</td>\n",
       "      <td>130.66</td>\n",
       "    </tr>\n",
       "    <tr>\n",
       "      <th>2015-06-04 00:00:00+00:00</th>\n",
       "      <td>129.360</td>\n",
       "      <td>130.580</td>\n",
       "      <td>128.91</td>\n",
       "      <td>129.58</td>\n",
       "    </tr>\n",
       "  </tbody>\n",
       "</table>\n",
       "</div>"
      ],
      "text/plain": [
       "                             close     high     low    open\n",
       "date                                                       \n",
       "2015-05-27 00:00:00+00:00  132.045  132.260  130.05  130.34\n",
       "2015-05-28 00:00:00+00:00  131.780  131.950  131.10  131.86\n",
       "2015-05-29 00:00:00+00:00  130.280  131.450  129.90  131.23\n",
       "2015-06-01 00:00:00+00:00  130.535  131.390  130.05  131.20\n",
       "2015-06-02 00:00:00+00:00  129.960  130.655  129.32  129.86\n",
       "2015-06-03 00:00:00+00:00  130.120  130.940  129.90  130.66\n",
       "2015-06-04 00:00:00+00:00  129.360  130.580  128.91  129.58"
      ]
     },
     "execution_count": 299,
     "metadata": {},
     "output_type": "execute_result"
    }
   ],
   "source": [
    "apple_stocks = pd.read_csv('AAPL.csv', usecols=cols, parse_dates=['date'], index_col='date')\n",
    "apple_stocks.head(7)"
   ]
  },
  {
   "cell_type": "code",
   "execution_count": 304,
   "id": "4ed02581-0d9b-49c8-90a5-37d12829bb36",
   "metadata": {},
   "outputs": [
    {
     "data": {
      "text/plain": [
       "{Timestamp('2015-05-01 00:00:00+0000', tz='UTC'): 3,\n",
       " Timestamp('2015-06-01 00:00:00+0000', tz='UTC'): 25,\n",
       " Timestamp('2015-07-01 00:00:00+0000', tz='UTC'): 47,\n",
       " Timestamp('2015-08-01 00:00:00+0000', tz='UTC'): 68,\n",
       " Timestamp('2015-09-01 00:00:00+0000', tz='UTC'): 89,\n",
       " Timestamp('2015-10-01 00:00:00+0000', tz='UTC'): 111,\n",
       " Timestamp('2015-11-01 00:00:00+0000', tz='UTC'): 131,\n",
       " Timestamp('2015-12-01 00:00:00+0000', tz='UTC'): 153,\n",
       " Timestamp('2016-01-01 00:00:00+0000', tz='UTC'): 172,\n",
       " Timestamp('2016-02-01 00:00:00+0000', tz='UTC'): 192,\n",
       " Timestamp('2016-03-01 00:00:00+0000', tz='UTC'): 214,\n",
       " Timestamp('2016-04-01 00:00:00+0000', tz='UTC'): 235,\n",
       " Timestamp('2016-05-01 00:00:00+0000', tz='UTC'): 256,\n",
       " Timestamp('2016-06-01 00:00:00+0000', tz='UTC'): 278,\n",
       " Timestamp('2016-07-01 00:00:00+0000', tz='UTC'): 298,\n",
       " Timestamp('2016-08-01 00:00:00+0000', tz='UTC'): 321,\n",
       " Timestamp('2016-09-01 00:00:00+0000', tz='UTC'): 342,\n",
       " Timestamp('2016-10-01 00:00:00+0000', tz='UTC'): 363,\n",
       " Timestamp('2016-11-01 00:00:00+0000', tz='UTC'): 384,\n",
       " Timestamp('2016-12-01 00:00:00+0000', tz='UTC'): 405,\n",
       " Timestamp('2017-01-01 00:00:00+0000', tz='UTC'): 425,\n",
       " Timestamp('2017-02-01 00:00:00+0000', tz='UTC'): 444,\n",
       " Timestamp('2017-03-01 00:00:00+0000', tz='UTC'): 467,\n",
       " Timestamp('2017-04-01 00:00:00+0000', tz='UTC'): 486,\n",
       " Timestamp('2017-05-01 00:00:00+0000', tz='UTC'): 508,\n",
       " Timestamp('2017-06-01 00:00:00+0000', tz='UTC'): 530,\n",
       " Timestamp('2017-07-01 00:00:00+0000', tz='UTC'): 550,\n",
       " Timestamp('2017-08-01 00:00:00+0000', tz='UTC'): 573,\n",
       " Timestamp('2017-09-01 00:00:00+0000', tz='UTC'): 593,\n",
       " Timestamp('2017-10-01 00:00:00+0000', tz='UTC'): 615,\n",
       " Timestamp('2017-11-01 00:00:00+0000', tz='UTC'): 636,\n",
       " Timestamp('2017-12-01 00:00:00+0000', tz='UTC'): 656,\n",
       " Timestamp('2018-01-01 00:00:00+0000', tz='UTC'): 677,\n",
       " Timestamp('2018-02-01 00:00:00+0000', tz='UTC'): 696,\n",
       " Timestamp('2018-03-01 00:00:00+0000', tz='UTC'): 717,\n",
       " Timestamp('2018-04-01 00:00:00+0000', tz='UTC'): 738,\n",
       " Timestamp('2018-05-01 00:00:00+0000', tz='UTC'): 760,\n",
       " Timestamp('2018-06-01 00:00:00+0000', tz='UTC'): 781,\n",
       " Timestamp('2018-07-01 00:00:00+0000', tz='UTC'): 802,\n",
       " Timestamp('2018-08-01 00:00:00+0000', tz='UTC'): 825,\n",
       " Timestamp('2018-09-01 00:00:00+0000', tz='UTC'): 844,\n",
       " Timestamp('2018-10-01 00:00:00+0000', tz='UTC'): 867,\n",
       " Timestamp('2018-11-01 00:00:00+0000', tz='UTC'): 888,\n",
       " Timestamp('2018-12-01 00:00:00+0000', tz='UTC'): 907,\n",
       " Timestamp('2019-01-01 00:00:00+0000', tz='UTC'): 928,\n",
       " Timestamp('2019-02-01 00:00:00+0000', tz='UTC'): 947,\n",
       " Timestamp('2019-03-01 00:00:00+0000', tz='UTC'): 968,\n",
       " Timestamp('2019-04-01 00:00:00+0000', tz='UTC'): 989,\n",
       " Timestamp('2019-05-01 00:00:00+0000', tz='UTC'): 1011,\n",
       " Timestamp('2019-06-01 00:00:00+0000', tz='UTC'): 1031,\n",
       " Timestamp('2019-07-01 00:00:00+0000', tz='UTC'): 1053,\n",
       " Timestamp('2019-08-01 00:00:00+0000', tz='UTC'): 1075,\n",
       " Timestamp('2019-09-01 00:00:00+0000', tz='UTC'): 1095,\n",
       " Timestamp('2019-10-01 00:00:00+0000', tz='UTC'): 1118,\n",
       " Timestamp('2019-11-01 00:00:00+0000', tz='UTC'): 1138,\n",
       " Timestamp('2019-12-01 00:00:00+0000', tz='UTC'): 1159,\n",
       " Timestamp('2020-01-01 00:00:00+0000', tz='UTC'): 1180,\n",
       " Timestamp('2020-02-01 00:00:00+0000', tz='UTC'): 1199,\n",
       " Timestamp('2020-03-01 00:00:00+0000', tz='UTC'): 1221,\n",
       " Timestamp('2020-04-01 00:00:00+0000', tz='UTC'): 1242,\n",
       " Timestamp('2020-05-01 00:00:00+0000', tz='UTC'): 1258}"
      ]
     },
     "execution_count": 304,
     "metadata": {},
     "output_type": "execute_result"
    }
   ],
   "source": [
    "months = apple_stocks.resample('MS')\n",
    "months.groups"
   ]
  },
  {
   "cell_type": "code",
   "execution_count": 305,
   "id": "fc2ef9ed-6829-434f-8fb9-c711faa143e2",
   "metadata": {},
   "outputs": [
    {
     "data": {
      "text/html": [
       "<div>\n",
       "<style scoped>\n",
       "    .dataframe tbody tr th:only-of-type {\n",
       "        vertical-align: middle;\n",
       "    }\n",
       "\n",
       "    .dataframe tbody tr th {\n",
       "        vertical-align: top;\n",
       "    }\n",
       "\n",
       "    .dataframe thead th {\n",
       "        text-align: right;\n",
       "    }\n",
       "</style>\n",
       "<table border=\"1\" class=\"dataframe\">\n",
       "  <thead>\n",
       "    <tr style=\"text-align: right;\">\n",
       "      <th></th>\n",
       "      <th>close</th>\n",
       "      <th>high</th>\n",
       "      <th>low</th>\n",
       "      <th>open</th>\n",
       "    </tr>\n",
       "    <tr>\n",
       "      <th>date</th>\n",
       "      <th></th>\n",
       "      <th></th>\n",
       "      <th></th>\n",
       "      <th></th>\n",
       "    </tr>\n",
       "  </thead>\n",
       "  <tbody>\n",
       "    <tr>\n",
       "      <th>2016-01-04 00:00:00+00:00</th>\n",
       "      <td>105.35</td>\n",
       "      <td>105.3680</td>\n",
       "      <td>102.0000</td>\n",
       "      <td>102.61</td>\n",
       "    </tr>\n",
       "    <tr>\n",
       "      <th>2016-01-05 00:00:00+00:00</th>\n",
       "      <td>102.71</td>\n",
       "      <td>105.8500</td>\n",
       "      <td>102.4100</td>\n",
       "      <td>105.75</td>\n",
       "    </tr>\n",
       "    <tr>\n",
       "      <th>2016-01-06 00:00:00+00:00</th>\n",
       "      <td>100.70</td>\n",
       "      <td>102.3700</td>\n",
       "      <td>99.8700</td>\n",
       "      <td>100.56</td>\n",
       "    </tr>\n",
       "    <tr>\n",
       "      <th>2016-01-07 00:00:00+00:00</th>\n",
       "      <td>96.45</td>\n",
       "      <td>100.1300</td>\n",
       "      <td>96.4300</td>\n",
       "      <td>98.68</td>\n",
       "    </tr>\n",
       "    <tr>\n",
       "      <th>2016-01-08 00:00:00+00:00</th>\n",
       "      <td>96.96</td>\n",
       "      <td>99.1100</td>\n",
       "      <td>96.7600</td>\n",
       "      <td>98.55</td>\n",
       "    </tr>\n",
       "    <tr>\n",
       "      <th>2016-01-11 00:00:00+00:00</th>\n",
       "      <td>98.53</td>\n",
       "      <td>99.0600</td>\n",
       "      <td>97.3400</td>\n",
       "      <td>98.97</td>\n",
       "    </tr>\n",
       "    <tr>\n",
       "      <th>2016-01-12 00:00:00+00:00</th>\n",
       "      <td>99.96</td>\n",
       "      <td>100.6900</td>\n",
       "      <td>98.8399</td>\n",
       "      <td>100.55</td>\n",
       "    </tr>\n",
       "    <tr>\n",
       "      <th>2016-01-13 00:00:00+00:00</th>\n",
       "      <td>97.39</td>\n",
       "      <td>101.1900</td>\n",
       "      <td>97.3000</td>\n",
       "      <td>100.32</td>\n",
       "    </tr>\n",
       "    <tr>\n",
       "      <th>2016-01-14 00:00:00+00:00</th>\n",
       "      <td>99.52</td>\n",
       "      <td>100.4800</td>\n",
       "      <td>95.7400</td>\n",
       "      <td>97.96</td>\n",
       "    </tr>\n",
       "    <tr>\n",
       "      <th>2016-01-15 00:00:00+00:00</th>\n",
       "      <td>97.13</td>\n",
       "      <td>97.7100</td>\n",
       "      <td>95.3600</td>\n",
       "      <td>96.20</td>\n",
       "    </tr>\n",
       "    <tr>\n",
       "      <th>2016-01-19 00:00:00+00:00</th>\n",
       "      <td>96.66</td>\n",
       "      <td>98.6500</td>\n",
       "      <td>95.5000</td>\n",
       "      <td>98.41</td>\n",
       "    </tr>\n",
       "    <tr>\n",
       "      <th>2016-01-20 00:00:00+00:00</th>\n",
       "      <td>96.79</td>\n",
       "      <td>98.1897</td>\n",
       "      <td>93.4200</td>\n",
       "      <td>95.10</td>\n",
       "    </tr>\n",
       "    <tr>\n",
       "      <th>2016-01-21 00:00:00+00:00</th>\n",
       "      <td>96.30</td>\n",
       "      <td>97.8800</td>\n",
       "      <td>94.9400</td>\n",
       "      <td>97.06</td>\n",
       "    </tr>\n",
       "    <tr>\n",
       "      <th>2016-01-22 00:00:00+00:00</th>\n",
       "      <td>101.42</td>\n",
       "      <td>101.4600</td>\n",
       "      <td>98.3700</td>\n",
       "      <td>98.63</td>\n",
       "    </tr>\n",
       "    <tr>\n",
       "      <th>2016-01-25 00:00:00+00:00</th>\n",
       "      <td>99.44</td>\n",
       "      <td>101.5300</td>\n",
       "      <td>99.2100</td>\n",
       "      <td>101.52</td>\n",
       "    </tr>\n",
       "    <tr>\n",
       "      <th>2016-01-26 00:00:00+00:00</th>\n",
       "      <td>99.99</td>\n",
       "      <td>100.8800</td>\n",
       "      <td>98.0700</td>\n",
       "      <td>99.93</td>\n",
       "    </tr>\n",
       "    <tr>\n",
       "      <th>2016-01-27 00:00:00+00:00</th>\n",
       "      <td>93.42</td>\n",
       "      <td>96.6289</td>\n",
       "      <td>93.3400</td>\n",
       "      <td>96.04</td>\n",
       "    </tr>\n",
       "    <tr>\n",
       "      <th>2016-01-28 00:00:00+00:00</th>\n",
       "      <td>94.09</td>\n",
       "      <td>94.5200</td>\n",
       "      <td>92.3900</td>\n",
       "      <td>93.79</td>\n",
       "    </tr>\n",
       "    <tr>\n",
       "      <th>2016-01-29 00:00:00+00:00</th>\n",
       "      <td>97.34</td>\n",
       "      <td>97.3400</td>\n",
       "      <td>94.3500</td>\n",
       "      <td>94.79</td>\n",
       "    </tr>\n",
       "  </tbody>\n",
       "</table>\n",
       "</div>"
      ],
      "text/plain": [
       "                            close      high       low    open\n",
       "date                                                         \n",
       "2016-01-04 00:00:00+00:00  105.35  105.3680  102.0000  102.61\n",
       "2016-01-05 00:00:00+00:00  102.71  105.8500  102.4100  105.75\n",
       "2016-01-06 00:00:00+00:00  100.70  102.3700   99.8700  100.56\n",
       "2016-01-07 00:00:00+00:00   96.45  100.1300   96.4300   98.68\n",
       "2016-01-08 00:00:00+00:00   96.96   99.1100   96.7600   98.55\n",
       "2016-01-11 00:00:00+00:00   98.53   99.0600   97.3400   98.97\n",
       "2016-01-12 00:00:00+00:00   99.96  100.6900   98.8399  100.55\n",
       "2016-01-13 00:00:00+00:00   97.39  101.1900   97.3000  100.32\n",
       "2016-01-14 00:00:00+00:00   99.52  100.4800   95.7400   97.96\n",
       "2016-01-15 00:00:00+00:00   97.13   97.7100   95.3600   96.20\n",
       "2016-01-19 00:00:00+00:00   96.66   98.6500   95.5000   98.41\n",
       "2016-01-20 00:00:00+00:00   96.79   98.1897   93.4200   95.10\n",
       "2016-01-21 00:00:00+00:00   96.30   97.8800   94.9400   97.06\n",
       "2016-01-22 00:00:00+00:00  101.42  101.4600   98.3700   98.63\n",
       "2016-01-25 00:00:00+00:00   99.44  101.5300   99.2100  101.52\n",
       "2016-01-26 00:00:00+00:00   99.99  100.8800   98.0700   99.93\n",
       "2016-01-27 00:00:00+00:00   93.42   96.6289   93.3400   96.04\n",
       "2016-01-28 00:00:00+00:00   94.09   94.5200   92.3900   93.79\n",
       "2016-01-29 00:00:00+00:00   97.34   97.3400   94.3500   94.79"
      ]
     },
     "execution_count": 305,
     "metadata": {},
     "output_type": "execute_result"
    }
   ],
   "source": [
    "months.get_group('2016-01-01 00:00:00+0000')"
   ]
  },
  {
   "cell_type": "code",
   "execution_count": 306,
   "id": "b982259d-028a-48ca-bd9c-272604f4bea2",
   "metadata": {},
   "outputs": [
    {
     "data": {
      "text/html": [
       "<div>\n",
       "<style scoped>\n",
       "    .dataframe tbody tr th:only-of-type {\n",
       "        vertical-align: middle;\n",
       "    }\n",
       "\n",
       "    .dataframe tbody tr th {\n",
       "        vertical-align: top;\n",
       "    }\n",
       "\n",
       "    .dataframe thead th {\n",
       "        text-align: right;\n",
       "    }\n",
       "</style>\n",
       "<table border=\"1\" class=\"dataframe\">\n",
       "  <thead>\n",
       "    <tr style=\"text-align: right;\">\n",
       "      <th></th>\n",
       "      <th>close</th>\n",
       "      <th>high</th>\n",
       "      <th>low</th>\n",
       "      <th>open</th>\n",
       "    </tr>\n",
       "    <tr>\n",
       "      <th>date</th>\n",
       "      <th></th>\n",
       "      <th></th>\n",
       "      <th></th>\n",
       "      <th></th>\n",
       "    </tr>\n",
       "  </thead>\n",
       "  <tbody>\n",
       "    <tr>\n",
       "      <th>2015-05-01 00:00:00+00:00</th>\n",
       "      <td>131.37</td>\n",
       "      <td>131.89</td>\n",
       "      <td>130.35</td>\n",
       "      <td>131.14</td>\n",
       "    </tr>\n",
       "    <tr>\n",
       "      <th>2015-06-01 00:00:00+00:00</th>\n",
       "      <td>127.81</td>\n",
       "      <td>128.76</td>\n",
       "      <td>127.24</td>\n",
       "      <td>128.06</td>\n",
       "    </tr>\n",
       "    <tr>\n",
       "      <th>2015-07-01 00:00:00+00:00</th>\n",
       "      <td>125.34</td>\n",
       "      <td>126.20</td>\n",
       "      <td>124.34</td>\n",
       "      <td>125.45</td>\n",
       "    </tr>\n",
       "    <tr>\n",
       "      <th>2015-08-01 00:00:00+00:00</th>\n",
       "      <td>113.39</td>\n",
       "      <td>115.50</td>\n",
       "      <td>111.29</td>\n",
       "      <td>113.44</td>\n",
       "    </tr>\n",
       "    <tr>\n",
       "      <th>2015-09-01 00:00:00+00:00</th>\n",
       "      <td>112.80</td>\n",
       "      <td>114.21</td>\n",
       "      <td>111.52</td>\n",
       "      <td>113.00</td>\n",
       "    </tr>\n",
       "    <tr>\n",
       "      <th>...</th>\n",
       "      <td>...</td>\n",
       "      <td>...</td>\n",
       "      <td>...</td>\n",
       "      <td>...</td>\n",
       "    </tr>\n",
       "    <tr>\n",
       "      <th>2020-01-01 00:00:00+00:00</th>\n",
       "      <td>311.92</td>\n",
       "      <td>314.33</td>\n",
       "      <td>308.83</td>\n",
       "      <td>311.17</td>\n",
       "    </tr>\n",
       "    <tr>\n",
       "      <th>2020-02-01 00:00:00+00:00</th>\n",
       "      <td>311.27</td>\n",
       "      <td>315.25</td>\n",
       "      <td>306.73</td>\n",
       "      <td>310.31</td>\n",
       "    </tr>\n",
       "    <tr>\n",
       "      <th>2020-03-01 00:00:00+00:00</th>\n",
       "      <td>262.44</td>\n",
       "      <td>269.69</td>\n",
       "      <td>254.85</td>\n",
       "      <td>261.07</td>\n",
       "    </tr>\n",
       "    <tr>\n",
       "      <th>2020-04-01 00:00:00+00:00</th>\n",
       "      <td>272.39</td>\n",
       "      <td>275.78</td>\n",
       "      <td>268.08</td>\n",
       "      <td>271.81</td>\n",
       "    </tr>\n",
       "    <tr>\n",
       "      <th>2020-05-01 00:00:00+00:00</th>\n",
       "      <td>308.04</td>\n",
       "      <td>311.09</td>\n",
       "      <td>304.10</td>\n",
       "      <td>306.38</td>\n",
       "    </tr>\n",
       "  </tbody>\n",
       "</table>\n",
       "<p>61 rows × 4 columns</p>\n",
       "</div>"
      ],
      "text/plain": [
       "                            close    high     low    open\n",
       "date                                                     \n",
       "2015-05-01 00:00:00+00:00  131.37  131.89  130.35  131.14\n",
       "2015-06-01 00:00:00+00:00  127.81  128.76  127.24  128.06\n",
       "2015-07-01 00:00:00+00:00  125.34  126.20  124.34  125.45\n",
       "2015-08-01 00:00:00+00:00  113.39  115.50  111.29  113.44\n",
       "2015-09-01 00:00:00+00:00  112.80  114.21  111.52  113.00\n",
       "...                           ...     ...     ...     ...\n",
       "2020-01-01 00:00:00+00:00  311.92  314.33  308.83  311.17\n",
       "2020-02-01 00:00:00+00:00  311.27  315.25  306.73  310.31\n",
       "2020-03-01 00:00:00+00:00  262.44  269.69  254.85  261.07\n",
       "2020-04-01 00:00:00+00:00  272.39  275.78  268.08  271.81\n",
       "2020-05-01 00:00:00+00:00  308.04  311.09  304.10  306.38\n",
       "\n",
       "[61 rows x 4 columns]"
      ]
     },
     "execution_count": 306,
     "metadata": {},
     "output_type": "execute_result"
    }
   ],
   "source": [
    "months.mean().round(2)"
   ]
  },
  {
   "cell_type": "code",
   "execution_count": 308,
   "id": "69e9616b-c3d4-4190-aa97-7efb841fc5ce",
   "metadata": {},
   "outputs": [
    {
     "name": "stderr",
     "output_type": "stream",
     "text": [
      "C:\\Users\\maniu\\AppData\\Local\\Temp\\ipykernel_18192\\3266465949.py:1: FutureWarning: The 'kind' keyword in DataFrame.resample is deprecated and will be removed in a future version. Explicitly cast the index to the desired type instead\n",
      "  months2 = apple_stocks.resample('M', kind='period')\n",
      "C:\\Users\\maniu\\AppData\\Local\\Temp\\ipykernel_18192\\3266465949.py:1: FutureWarning: 'M' is deprecated and will be removed in a future version, please use 'ME' instead.\n",
      "  months2 = apple_stocks.resample('M', kind='period')\n"
     ]
    },
    {
     "data": {
      "text/plain": [
       "{Period('2015-05', 'M'): 3,\n",
       " Period('2015-06', 'M'): 25,\n",
       " Period('2015-07', 'M'): 47,\n",
       " Period('2015-08', 'M'): 68,\n",
       " Period('2015-09', 'M'): 89,\n",
       " Period('2015-10', 'M'): 111,\n",
       " Period('2015-11', 'M'): 131,\n",
       " Period('2015-12', 'M'): 153,\n",
       " Period('2016-01', 'M'): 172,\n",
       " Period('2016-02', 'M'): 192,\n",
       " Period('2016-03', 'M'): 214,\n",
       " Period('2016-04', 'M'): 235,\n",
       " Period('2016-05', 'M'): 256,\n",
       " Period('2016-06', 'M'): 278,\n",
       " Period('2016-07', 'M'): 298,\n",
       " Period('2016-08', 'M'): 321,\n",
       " Period('2016-09', 'M'): 342,\n",
       " Period('2016-10', 'M'): 363,\n",
       " Period('2016-11', 'M'): 384,\n",
       " Period('2016-12', 'M'): 405,\n",
       " Period('2017-01', 'M'): 425,\n",
       " Period('2017-02', 'M'): 444,\n",
       " Period('2017-03', 'M'): 467,\n",
       " Period('2017-04', 'M'): 486,\n",
       " Period('2017-05', 'M'): 508,\n",
       " Period('2017-06', 'M'): 530,\n",
       " Period('2017-07', 'M'): 550,\n",
       " Period('2017-08', 'M'): 573,\n",
       " Period('2017-09', 'M'): 593,\n",
       " Period('2017-10', 'M'): 615,\n",
       " Period('2017-11', 'M'): 636,\n",
       " Period('2017-12', 'M'): 656,\n",
       " Period('2018-01', 'M'): 677,\n",
       " Period('2018-02', 'M'): 696,\n",
       " Period('2018-03', 'M'): 717,\n",
       " Period('2018-04', 'M'): 738,\n",
       " Period('2018-05', 'M'): 760,\n",
       " Period('2018-06', 'M'): 781,\n",
       " Period('2018-07', 'M'): 802,\n",
       " Period('2018-08', 'M'): 825,\n",
       " Period('2018-09', 'M'): 844,\n",
       " Period('2018-10', 'M'): 867,\n",
       " Period('2018-11', 'M'): 888,\n",
       " Period('2018-12', 'M'): 907,\n",
       " Period('2019-01', 'M'): 928,\n",
       " Period('2019-02', 'M'): 947,\n",
       " Period('2019-03', 'M'): 968,\n",
       " Period('2019-04', 'M'): 989,\n",
       " Period('2019-05', 'M'): 1011,\n",
       " Period('2019-06', 'M'): 1031,\n",
       " Period('2019-07', 'M'): 1053,\n",
       " Period('2019-08', 'M'): 1075,\n",
       " Period('2019-09', 'M'): 1095,\n",
       " Period('2019-10', 'M'): 1118,\n",
       " Period('2019-11', 'M'): 1138,\n",
       " Period('2019-12', 'M'): 1159,\n",
       " Period('2020-01', 'M'): 1180,\n",
       " Period('2020-02', 'M'): 1199,\n",
       " Period('2020-03', 'M'): 1221,\n",
       " Period('2020-04', 'M'): 1242,\n",
       " Period('2020-05', 'M'): 1258}"
      ]
     },
     "execution_count": 308,
     "metadata": {},
     "output_type": "execute_result"
    }
   ],
   "source": [
    "months2 = apple_stocks.resample('M', kind='period')\n",
    "months2.groups"
   ]
  },
  {
   "cell_type": "code",
   "execution_count": 309,
   "id": "04ca6974-c676-4489-8590-565d30f4e029",
   "metadata": {},
   "outputs": [
    {
     "data": {
      "text/html": [
       "<div>\n",
       "<style scoped>\n",
       "    .dataframe tbody tr th:only-of-type {\n",
       "        vertical-align: middle;\n",
       "    }\n",
       "\n",
       "    .dataframe tbody tr th {\n",
       "        vertical-align: top;\n",
       "    }\n",
       "\n",
       "    .dataframe thead th {\n",
       "        text-align: right;\n",
       "    }\n",
       "</style>\n",
       "<table border=\"1\" class=\"dataframe\">\n",
       "  <thead>\n",
       "    <tr style=\"text-align: right;\">\n",
       "      <th></th>\n",
       "      <th>close</th>\n",
       "      <th>high</th>\n",
       "      <th>low</th>\n",
       "      <th>open</th>\n",
       "    </tr>\n",
       "    <tr>\n",
       "      <th>date</th>\n",
       "      <th></th>\n",
       "      <th></th>\n",
       "      <th></th>\n",
       "      <th></th>\n",
       "    </tr>\n",
       "  </thead>\n",
       "  <tbody>\n",
       "    <tr>\n",
       "      <th>2015-05</th>\n",
       "      <td>131.37</td>\n",
       "      <td>131.89</td>\n",
       "      <td>130.35</td>\n",
       "      <td>131.14</td>\n",
       "    </tr>\n",
       "    <tr>\n",
       "      <th>2015-06</th>\n",
       "      <td>127.81</td>\n",
       "      <td>128.76</td>\n",
       "      <td>127.24</td>\n",
       "      <td>128.06</td>\n",
       "    </tr>\n",
       "    <tr>\n",
       "      <th>2015-07</th>\n",
       "      <td>125.34</td>\n",
       "      <td>126.20</td>\n",
       "      <td>124.34</td>\n",
       "      <td>125.45</td>\n",
       "    </tr>\n",
       "    <tr>\n",
       "      <th>2015-08</th>\n",
       "      <td>113.39</td>\n",
       "      <td>115.50</td>\n",
       "      <td>111.29</td>\n",
       "      <td>113.44</td>\n",
       "    </tr>\n",
       "    <tr>\n",
       "      <th>2015-09</th>\n",
       "      <td>112.80</td>\n",
       "      <td>114.21</td>\n",
       "      <td>111.52</td>\n",
       "      <td>113.00</td>\n",
       "    </tr>\n",
       "    <tr>\n",
       "      <th>...</th>\n",
       "      <td>...</td>\n",
       "      <td>...</td>\n",
       "      <td>...</td>\n",
       "      <td>...</td>\n",
       "    </tr>\n",
       "    <tr>\n",
       "      <th>2020-01</th>\n",
       "      <td>311.92</td>\n",
       "      <td>314.33</td>\n",
       "      <td>308.83</td>\n",
       "      <td>311.17</td>\n",
       "    </tr>\n",
       "    <tr>\n",
       "      <th>2020-02</th>\n",
       "      <td>311.27</td>\n",
       "      <td>315.25</td>\n",
       "      <td>306.73</td>\n",
       "      <td>310.31</td>\n",
       "    </tr>\n",
       "    <tr>\n",
       "      <th>2020-03</th>\n",
       "      <td>262.44</td>\n",
       "      <td>269.69</td>\n",
       "      <td>254.85</td>\n",
       "      <td>261.07</td>\n",
       "    </tr>\n",
       "    <tr>\n",
       "      <th>2020-04</th>\n",
       "      <td>272.39</td>\n",
       "      <td>275.78</td>\n",
       "      <td>268.08</td>\n",
       "      <td>271.81</td>\n",
       "    </tr>\n",
       "    <tr>\n",
       "      <th>2020-05</th>\n",
       "      <td>308.04</td>\n",
       "      <td>311.09</td>\n",
       "      <td>304.10</td>\n",
       "      <td>306.38</td>\n",
       "    </tr>\n",
       "  </tbody>\n",
       "</table>\n",
       "<p>61 rows × 4 columns</p>\n",
       "</div>"
      ],
      "text/plain": [
       "          close    high     low    open\n",
       "date                                   \n",
       "2015-05  131.37  131.89  130.35  131.14\n",
       "2015-06  127.81  128.76  127.24  128.06\n",
       "2015-07  125.34  126.20  124.34  125.45\n",
       "2015-08  113.39  115.50  111.29  113.44\n",
       "2015-09  112.80  114.21  111.52  113.00\n",
       "...         ...     ...     ...     ...\n",
       "2020-01  311.92  314.33  308.83  311.17\n",
       "2020-02  311.27  315.25  306.73  310.31\n",
       "2020-03  262.44  269.69  254.85  261.07\n",
       "2020-04  272.39  275.78  268.08  271.81\n",
       "2020-05  308.04  311.09  304.10  306.38\n",
       "\n",
       "[61 rows x 4 columns]"
      ]
     },
     "execution_count": 309,
     "metadata": {},
     "output_type": "execute_result"
    }
   ],
   "source": [
    "months2.mean().round(2)"
   ]
  },
  {
   "cell_type": "code",
   "execution_count": 310,
   "id": "e65bee17-b8d6-4b1c-8962-0ca9dd23a1da",
   "metadata": {},
   "outputs": [
    {
     "data": {
      "text/html": [
       "<div>\n",
       "<style scoped>\n",
       "    .dataframe tbody tr th:only-of-type {\n",
       "        vertical-align: middle;\n",
       "    }\n",
       "\n",
       "    .dataframe tbody tr th {\n",
       "        vertical-align: top;\n",
       "    }\n",
       "\n",
       "    .dataframe thead tr th {\n",
       "        text-align: left;\n",
       "    }\n",
       "\n",
       "    .dataframe thead tr:last-of-type th {\n",
       "        text-align: right;\n",
       "    }\n",
       "</style>\n",
       "<table border=\"1\" class=\"dataframe\">\n",
       "  <thead>\n",
       "    <tr>\n",
       "      <th></th>\n",
       "      <th colspan=\"2\" halign=\"left\">high</th>\n",
       "      <th colspan=\"2\" halign=\"left\">low</th>\n",
       "    </tr>\n",
       "    <tr>\n",
       "      <th></th>\n",
       "      <th>max</th>\n",
       "      <th>min</th>\n",
       "      <th>max</th>\n",
       "      <th>min</th>\n",
       "    </tr>\n",
       "    <tr>\n",
       "      <th>date</th>\n",
       "      <th></th>\n",
       "      <th></th>\n",
       "      <th></th>\n",
       "      <th></th>\n",
       "    </tr>\n",
       "  </thead>\n",
       "  <tbody>\n",
       "    <tr>\n",
       "      <th>2015-05</th>\n",
       "      <td>132.26</td>\n",
       "      <td>131.45</td>\n",
       "      <td>131.10</td>\n",
       "      <td>129.90</td>\n",
       "    </tr>\n",
       "    <tr>\n",
       "      <th>2015-06</th>\n",
       "      <td>131.39</td>\n",
       "      <td>126.12</td>\n",
       "      <td>130.05</td>\n",
       "      <td>124.48</td>\n",
       "    </tr>\n",
       "    <tr>\n",
       "      <th>2015-07</th>\n",
       "      <td>132.97</td>\n",
       "      <td>122.57</td>\n",
       "      <td>130.70</td>\n",
       "      <td>119.22</td>\n",
       "    </tr>\n",
       "    <tr>\n",
       "      <th>2015-08</th>\n",
       "      <td>122.57</td>\n",
       "      <td>108.80</td>\n",
       "      <td>117.52</td>\n",
       "      <td>92.00</td>\n",
       "    </tr>\n",
       "    <tr>\n",
       "      <th>2015-09</th>\n",
       "      <td>116.89</td>\n",
       "      <td>110.45</td>\n",
       "      <td>115.44</td>\n",
       "      <td>107.36</td>\n",
       "    </tr>\n",
       "    <tr>\n",
       "      <th>...</th>\n",
       "      <td>...</td>\n",
       "      <td>...</td>\n",
       "      <td>...</td>\n",
       "      <td>...</td>\n",
       "    </tr>\n",
       "    <tr>\n",
       "      <th>2020-01</th>\n",
       "      <td>327.85</td>\n",
       "      <td>299.96</td>\n",
       "      <td>321.38</td>\n",
       "      <td>292.75</td>\n",
       "    </tr>\n",
       "    <tr>\n",
       "      <th>2020-02</th>\n",
       "      <td>327.22</td>\n",
       "      <td>278.41</td>\n",
       "      <td>323.35</td>\n",
       "      <td>256.37</td>\n",
       "    </tr>\n",
       "    <tr>\n",
       "      <th>2020-03</th>\n",
       "      <td>304.00</td>\n",
       "      <td>228.50</td>\n",
       "      <td>293.13</td>\n",
       "      <td>212.61</td>\n",
       "    </tr>\n",
       "    <tr>\n",
       "      <th>2020-04</th>\n",
       "      <td>294.53</td>\n",
       "      <td>245.15</td>\n",
       "      <td>288.35</td>\n",
       "      <td>236.90</td>\n",
       "    </tr>\n",
       "    <tr>\n",
       "      <th>2020-05</th>\n",
       "      <td>320.89</td>\n",
       "      <td>293.69</td>\n",
       "      <td>316.20</td>\n",
       "      <td>285.85</td>\n",
       "    </tr>\n",
       "  </tbody>\n",
       "</table>\n",
       "<p>61 rows × 4 columns</p>\n",
       "</div>"
      ],
      "text/plain": [
       "           high             low        \n",
       "            max     min     max     min\n",
       "date                                   \n",
       "2015-05  132.26  131.45  131.10  129.90\n",
       "2015-06  131.39  126.12  130.05  124.48\n",
       "2015-07  132.97  122.57  130.70  119.22\n",
       "2015-08  122.57  108.80  117.52   92.00\n",
       "2015-09  116.89  110.45  115.44  107.36\n",
       "...         ...     ...     ...     ...\n",
       "2020-01  327.85  299.96  321.38  292.75\n",
       "2020-02  327.22  278.41  323.35  256.37\n",
       "2020-03  304.00  228.50  293.13  212.61\n",
       "2020-04  294.53  245.15  288.35  236.90\n",
       "2020-05  320.89  293.69  316.20  285.85\n",
       "\n",
       "[61 rows x 4 columns]"
      ]
     },
     "execution_count": 310,
     "metadata": {},
     "output_type": "execute_result"
    }
   ],
   "source": [
    "months2.agg({'high':['max','min'], 'low':['max','min']}).round(2)"
   ]
  },
  {
   "cell_type": "code",
   "execution_count": 340,
   "id": "fe10d222-7610-4ccb-8b6c-8d6e2cffcf20",
   "metadata": {},
   "outputs": [
    {
     "data": {
      "text/plain": [
       "DatetimeIndex(['2023-01-01', '2023-06-15', '2023-12-31'], dtype='datetime64[ns]', freq=None)"
      ]
     },
     "execution_count": 340,
     "metadata": {},
     "output_type": "execute_result"
    }
   ],
   "source": [
    "date_test1 = pd.to_datetime(['2023-01-01', '2023-06-15', '2023-12-31'])\n",
    "date_test1"
   ]
  },
  {
   "cell_type": "code",
   "execution_count": 342,
   "id": "51dd3fa1-5dcd-40ac-beaf-0cda3c3d707d",
   "metadata": {},
   "outputs": [
    {
     "data": {
      "text/plain": [
       "2023-01-01        NaT\n",
       "2023-06-15   165 days\n",
       "2023-12-31   199 days\n",
       "dtype: timedelta64[ns]"
      ]
     },
     "execution_count": 342,
     "metadata": {},
     "output_type": "execute_result"
    }
   ],
   "source": [
    "date_test1.to_series().diff()"
   ]
  },
  {
   "cell_type": "code",
   "execution_count": 364,
   "id": "fff1b033-a37e-46a3-a45e-0b8746d9cbfe",
   "metadata": {},
   "outputs": [
    {
     "name": "stdout",
     "output_type": "stream",
     "text": [
      "<class 'pandas.core.frame.DataFrame'>\n",
      "DatetimeIndex: 3 entries, 2023-01-01 to 2023-12-31\n",
      "Data columns (total 3 columns):\n",
      " #   Column  Non-Null Count  Dtype \n",
      "---  ------  --------------  ----- \n",
      " 0   Day     0 non-null      object\n",
      " 1   Month   0 non-null      object\n",
      " 2   Year    0 non-null      object\n",
      "dtypes: object(3)\n",
      "memory usage: 96.0+ bytes\n"
     ]
    }
   ],
   "source": [
    "df_dates = pd.DataFrame(index=date_test1, columns=['Day', 'Month', 'Year'])\n",
    "df_dates.info()"
   ]
  },
  {
   "cell_type": "code",
   "execution_count": 372,
   "id": "abd40f4f-6342-4abe-ae43-689cfa17dc8c",
   "metadata": {},
   "outputs": [],
   "source": [
    "df_dates['Day'] = date_test1.day_name()\n",
    "df_dates['Month'] = date_test1.month_name()\n",
    "df_dates['Year'] = date_test1.year"
   ]
  },
  {
   "cell_type": "code",
   "execution_count": 374,
   "id": "f328e41d-d8c9-40c3-b212-ffc703ff9f52",
   "metadata": {},
   "outputs": [
    {
     "data": {
      "text/html": [
       "<div>\n",
       "<style scoped>\n",
       "    .dataframe tbody tr th:only-of-type {\n",
       "        vertical-align: middle;\n",
       "    }\n",
       "\n",
       "    .dataframe tbody tr th {\n",
       "        vertical-align: top;\n",
       "    }\n",
       "\n",
       "    .dataframe thead th {\n",
       "        text-align: right;\n",
       "    }\n",
       "</style>\n",
       "<table border=\"1\" class=\"dataframe\">\n",
       "  <thead>\n",
       "    <tr style=\"text-align: right;\">\n",
       "      <th></th>\n",
       "      <th>Day</th>\n",
       "      <th>Month</th>\n",
       "      <th>Year</th>\n",
       "    </tr>\n",
       "  </thead>\n",
       "  <tbody>\n",
       "    <tr>\n",
       "      <th>2023-01-01</th>\n",
       "      <td>Sunday</td>\n",
       "      <td>January</td>\n",
       "      <td>2023</td>\n",
       "    </tr>\n",
       "    <tr>\n",
       "      <th>2023-06-15</th>\n",
       "      <td>Thursday</td>\n",
       "      <td>June</td>\n",
       "      <td>2023</td>\n",
       "    </tr>\n",
       "    <tr>\n",
       "      <th>2023-12-31</th>\n",
       "      <td>Sunday</td>\n",
       "      <td>December</td>\n",
       "      <td>2023</td>\n",
       "    </tr>\n",
       "  </tbody>\n",
       "</table>\n",
       "</div>"
      ],
      "text/plain": [
       "                 Day     Month  Year\n",
       "2023-01-01    Sunday   January  2023\n",
       "2023-06-15  Thursday      June  2023\n",
       "2023-12-31    Sunday  December  2023"
      ]
     },
     "execution_count": 374,
     "metadata": {},
     "output_type": "execute_result"
    }
   ],
   "source": [
    "df_dates"
   ]
  },
  {
   "cell_type": "code",
   "execution_count": 377,
   "id": "099a2ae2-2f8d-47b6-a07f-49ab1aa596d2",
   "metadata": {},
   "outputs": [],
   "source": [
    "start_date = df_dates.index.min()\n",
    "end_date = df_dates.index.max()"
   ]
  },
  {
   "cell_type": "code",
   "execution_count": 378,
   "id": "d2e2e59f-74d5-40eb-8b30-7a01afde2b51",
   "metadata": {},
   "outputs": [
    {
     "data": {
      "text/plain": [
       "DatetimeIndex(['2023-01-01', '2023-01-02', '2023-01-03', '2023-01-04',\n",
       "               '2023-01-05', '2023-01-06', '2023-01-07', '2023-01-08',\n",
       "               '2023-01-09', '2023-01-10',\n",
       "               ...\n",
       "               '2023-12-22', '2023-12-23', '2023-12-24', '2023-12-25',\n",
       "               '2023-12-26', '2023-12-27', '2023-12-28', '2023-12-29',\n",
       "               '2023-12-30', '2023-12-31'],\n",
       "              dtype='datetime64[ns]', length=365, freq='D')"
      ]
     },
     "execution_count": 378,
     "metadata": {},
     "output_type": "execute_result"
    }
   ],
   "source": [
    "new_dates = pd.date_range(start=start_date, end=end_date, freq='d')\n",
    "new_dates"
   ]
  },
  {
   "cell_type": "code",
   "execution_count": 385,
   "id": "99b782d1-663f-4d6d-a2b3-af4eecf2ada5",
   "metadata": {},
   "outputs": [],
   "source": [
    "df_dates = df_dates.reindex(new_dates)\n"
   ]
  },
  {
   "cell_type": "code",
   "execution_count": 389,
   "id": "1eda2ecc-234d-4a0f-a66f-73dc31071c3e",
   "metadata": {},
   "outputs": [],
   "source": [
    "df_dates['Day'] = new_dates.day_name()\n",
    "df_dates['Month'] = new_dates.month_name()\n",
    "df_dates['Year'] = new_dates.year"
   ]
  },
  {
   "cell_type": "code",
   "execution_count": 391,
   "id": "03a43851-d45f-4f81-a5b8-403f4af5610b",
   "metadata": {},
   "outputs": [
    {
     "data": {
      "text/html": [
       "<div>\n",
       "<style scoped>\n",
       "    .dataframe tbody tr th:only-of-type {\n",
       "        vertical-align: middle;\n",
       "    }\n",
       "\n",
       "    .dataframe tbody tr th {\n",
       "        vertical-align: top;\n",
       "    }\n",
       "\n",
       "    .dataframe thead th {\n",
       "        text-align: right;\n",
       "    }\n",
       "</style>\n",
       "<table border=\"1\" class=\"dataframe\">\n",
       "  <thead>\n",
       "    <tr style=\"text-align: right;\">\n",
       "      <th></th>\n",
       "      <th>Day</th>\n",
       "      <th>Month</th>\n",
       "      <th>Year</th>\n",
       "    </tr>\n",
       "  </thead>\n",
       "  <tbody>\n",
       "    <tr>\n",
       "      <th>2023-01-01</th>\n",
       "      <td>Sunday</td>\n",
       "      <td>January</td>\n",
       "      <td>2023</td>\n",
       "    </tr>\n",
       "    <tr>\n",
       "      <th>2023-01-02</th>\n",
       "      <td>Monday</td>\n",
       "      <td>January</td>\n",
       "      <td>2023</td>\n",
       "    </tr>\n",
       "    <tr>\n",
       "      <th>2023-01-03</th>\n",
       "      <td>Tuesday</td>\n",
       "      <td>January</td>\n",
       "      <td>2023</td>\n",
       "    </tr>\n",
       "    <tr>\n",
       "      <th>2023-01-04</th>\n",
       "      <td>Wednesday</td>\n",
       "      <td>January</td>\n",
       "      <td>2023</td>\n",
       "    </tr>\n",
       "    <tr>\n",
       "      <th>2023-01-05</th>\n",
       "      <td>Thursday</td>\n",
       "      <td>January</td>\n",
       "      <td>2023</td>\n",
       "    </tr>\n",
       "    <tr>\n",
       "      <th>...</th>\n",
       "      <td>...</td>\n",
       "      <td>...</td>\n",
       "      <td>...</td>\n",
       "    </tr>\n",
       "    <tr>\n",
       "      <th>2023-12-27</th>\n",
       "      <td>Wednesday</td>\n",
       "      <td>December</td>\n",
       "      <td>2023</td>\n",
       "    </tr>\n",
       "    <tr>\n",
       "      <th>2023-12-28</th>\n",
       "      <td>Thursday</td>\n",
       "      <td>December</td>\n",
       "      <td>2023</td>\n",
       "    </tr>\n",
       "    <tr>\n",
       "      <th>2023-12-29</th>\n",
       "      <td>Friday</td>\n",
       "      <td>December</td>\n",
       "      <td>2023</td>\n",
       "    </tr>\n",
       "    <tr>\n",
       "      <th>2023-12-30</th>\n",
       "      <td>Saturday</td>\n",
       "      <td>December</td>\n",
       "      <td>2023</td>\n",
       "    </tr>\n",
       "    <tr>\n",
       "      <th>2023-12-31</th>\n",
       "      <td>Sunday</td>\n",
       "      <td>December</td>\n",
       "      <td>2023</td>\n",
       "    </tr>\n",
       "  </tbody>\n",
       "</table>\n",
       "<p>365 rows × 3 columns</p>\n",
       "</div>"
      ],
      "text/plain": [
       "                  Day     Month  Year\n",
       "2023-01-01     Sunday   January  2023\n",
       "2023-01-02     Monday   January  2023\n",
       "2023-01-03    Tuesday   January  2023\n",
       "2023-01-04  Wednesday   January  2023\n",
       "2023-01-05   Thursday   January  2023\n",
       "...               ...       ...   ...\n",
       "2023-12-27  Wednesday  December  2023\n",
       "2023-12-28   Thursday  December  2023\n",
       "2023-12-29     Friday  December  2023\n",
       "2023-12-30   Saturday  December  2023\n",
       "2023-12-31     Sunday  December  2023\n",
       "\n",
       "[365 rows x 3 columns]"
      ]
     },
     "execution_count": 391,
     "metadata": {},
     "output_type": "execute_result"
    }
   ],
   "source": [
    "df_dates"
   ]
  },
  {
   "cell_type": "code",
   "execution_count": 393,
   "id": "2efabacc-6e10-4159-bd69-d0cca85e5fec",
   "metadata": {},
   "outputs": [
    {
     "data": {
      "text/plain": [
       "DatetimeIndex(['2023-01-01', '2023-01-02', '2023-01-03', '2023-01-04',\n",
       "               '2023-01-05', '2023-01-06', '2023-01-07', '2023-01-08',\n",
       "               '2023-01-09', '2023-01-10',\n",
       "               ...\n",
       "               '2023-12-22', '2023-12-23', '2023-12-24', '2023-12-25',\n",
       "               '2023-12-26', '2023-12-27', '2023-12-28', '2023-12-29',\n",
       "               '2023-12-30', '2023-12-31'],\n",
       "              dtype='datetime64[ns]', length=365, freq='D')"
      ]
     },
     "execution_count": 393,
     "metadata": {},
     "output_type": "execute_result"
    }
   ],
   "source": [
    "df_dates.to_period('d')\n",
    "df_dates.index"
   ]
  }
 ],
 "metadata": {
  "kernelspec": {
   "display_name": "Python 3 (ipykernel)",
   "language": "python",
   "name": "python3"
  },
  "language_info": {
   "codemirror_mode": {
    "name": "ipython",
    "version": 3
   },
   "file_extension": ".py",
   "mimetype": "text/x-python",
   "name": "python",
   "nbconvert_exporter": "python",
   "pygments_lexer": "ipython3",
   "version": "3.12.7"
  }
 },
 "nbformat": 4,
 "nbformat_minor": 5
}
